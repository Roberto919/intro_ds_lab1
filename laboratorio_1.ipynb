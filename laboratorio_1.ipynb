{
 "cells": [
  {
   "cell_type": "markdown",
   "metadata": {},
   "source": [
    "# Laboratory 1\n",
    "- Author: Rob"
   ]
  },
  {
   "cell_type": "markdown",
   "metadata": {},
   "source": [
    "# Imports"
   ]
  },
  {
   "cell_type": "markdown",
   "metadata": {},
   "source": [
    "#### Python libraries"
   ]
  },
  {
   "cell_type": "code",
   "execution_count": 3,
   "metadata": {
    "ExecuteTime": {
     "end_time": "2020-09-22T23:48:56.455566Z",
     "start_time": "2020-09-22T23:48:50.558957Z"
    }
   },
   "outputs": [],
   "source": [
    "import sys\n",
    "\n",
    "import pandas as pd"
   ]
  },
  {
   "cell_type": "markdown",
   "metadata": {},
   "source": [
    "# Loading data"
   ]
  },
  {
   "cell_type": "markdown",
   "metadata": {},
   "source": [
    "Data downloaded from -> https://datos.cdmx.gob.mx/explore/dataset/consumo-agua/export/"
   ]
  },
  {
   "cell_type": "code",
   "execution_count": 4,
   "metadata": {
    "ExecuteTime": {
     "end_time": "2020-09-22T23:49:39.064711Z",
     "start_time": "2020-09-22T23:49:37.603297Z"
    }
   },
   "outputs": [],
   "source": [
    "df = pd.read_csv(\"Data/consumo-agua.csv\")"
   ]
  },
  {
   "cell_type": "code",
   "execution_count": 5,
   "metadata": {
    "ExecuteTime": {
     "end_time": "2020-09-22T23:49:40.002689Z",
     "start_time": "2020-09-22T23:49:39.974237Z"
    },
    "scrolled": true
   },
   "outputs": [
    {
     "data": {
      "text/html": [
       "<div>\n",
       "<style scoped>\n",
       "    .dataframe tbody tr th:only-of-type {\n",
       "        vertical-align: middle;\n",
       "    }\n",
       "\n",
       "    .dataframe tbody tr th {\n",
       "        vertical-align: top;\n",
       "    }\n",
       "\n",
       "    .dataframe thead th {\n",
       "        text-align: right;\n",
       "    }\n",
       "</style>\n",
       "<table border=\"1\" class=\"dataframe\">\n",
       "  <thead>\n",
       "    <tr style=\"text-align: right;\">\n",
       "      <th></th>\n",
       "      <th>Geo Point</th>\n",
       "      <th>Geo Shape</th>\n",
       "      <th>consumo_total_mixto</th>\n",
       "      <th>anio</th>\n",
       "      <th>nomgeo</th>\n",
       "      <th>consumo_prom_dom</th>\n",
       "      <th>consumo_total_dom</th>\n",
       "      <th>alcaldia</th>\n",
       "      <th>colonia</th>\n",
       "      <th>consumo_prom_mixto</th>\n",
       "      <th>consumo_total</th>\n",
       "      <th>consumo_prom</th>\n",
       "      <th>consumo_prom_no_dom</th>\n",
       "      <th>bimestre</th>\n",
       "      <th>consumo_total_no_dom</th>\n",
       "      <th>gid</th>\n",
       "      <th>indice_des</th>\n",
       "    </tr>\n",
       "  </thead>\n",
       "  <tbody>\n",
       "    <tr>\n",
       "      <th>0</th>\n",
       "      <td>19.4552601937,-99.1126617526</td>\n",
       "      <td>{\"type\": \"MultiPolygon\", \"coordinates\": [[[[-9...</td>\n",
       "      <td>159.72</td>\n",
       "      <td>2019</td>\n",
       "      <td>Gustavo A. Madero</td>\n",
       "      <td>42.566364</td>\n",
       "      <td>468.23</td>\n",
       "      <td>GUSTAVO A. MADERO</td>\n",
       "      <td>7 DE NOVIEMBRE</td>\n",
       "      <td>53.240000</td>\n",
       "      <td>631.00</td>\n",
       "      <td>42.066667</td>\n",
       "      <td>3.050000</td>\n",
       "      <td>3</td>\n",
       "      <td>3.05</td>\n",
       "      <td>57250</td>\n",
       "      <td>ALTO</td>\n",
       "    </tr>\n",
       "    <tr>\n",
       "      <th>1</th>\n",
       "      <td>19.4552601937,-99.1126617526</td>\n",
       "      <td>{\"type\": \"MultiPolygon\", \"coordinates\": [[[[-9...</td>\n",
       "      <td>0.00</td>\n",
       "      <td>2019</td>\n",
       "      <td>Gustavo A. Madero</td>\n",
       "      <td>35.936667</td>\n",
       "      <td>107.81</td>\n",
       "      <td>GUSTAVO A. MADERO</td>\n",
       "      <td>7 DE NOVIEMBRE</td>\n",
       "      <td>0.000000</td>\n",
       "      <td>115.13</td>\n",
       "      <td>28.782500</td>\n",
       "      <td>7.320000</td>\n",
       "      <td>3</td>\n",
       "      <td>7.32</td>\n",
       "      <td>57253</td>\n",
       "      <td>MEDIO</td>\n",
       "    </tr>\n",
       "    <tr>\n",
       "      <th>2</th>\n",
       "      <td>19.4557195871,-99.1135822797</td>\n",
       "      <td>{\"type\": \"MultiPolygon\", \"coordinates\": [[[[-9...</td>\n",
       "      <td>0.00</td>\n",
       "      <td>2019</td>\n",
       "      <td>Gustavo A. Madero</td>\n",
       "      <td>24.586000</td>\n",
       "      <td>122.93</td>\n",
       "      <td>GUSTAVO A. MADERO</td>\n",
       "      <td>7 DE NOVIEMBRE</td>\n",
       "      <td>0.000000</td>\n",
       "      <td>197.96</td>\n",
       "      <td>32.993333</td>\n",
       "      <td>75.030000</td>\n",
       "      <td>3</td>\n",
       "      <td>75.03</td>\n",
       "      <td>57255</td>\n",
       "      <td>POPULAR</td>\n",
       "    </tr>\n",
       "    <tr>\n",
       "      <th>3</th>\n",
       "      <td>19.4596467168,-99.1044693641</td>\n",
       "      <td>{\"type\": \"MultiPolygon\", \"coordinates\": [[[[-9...</td>\n",
       "      <td>0.00</td>\n",
       "      <td>2019</td>\n",
       "      <td>Gustavo A. Madero</td>\n",
       "      <td>0.000000</td>\n",
       "      <td>0.00</td>\n",
       "      <td>GUSTAVO A. MADERO</td>\n",
       "      <td>NUEVA TENOCHTITLAN</td>\n",
       "      <td>0.000000</td>\n",
       "      <td>253.53</td>\n",
       "      <td>84.510000</td>\n",
       "      <td>84.510000</td>\n",
       "      <td>3</td>\n",
       "      <td>253.53</td>\n",
       "      <td>57267</td>\n",
       "      <td>BAJO</td>\n",
       "    </tr>\n",
       "    <tr>\n",
       "      <th>4</th>\n",
       "      <td>19.4741606185,-99.1467497317</td>\n",
       "      <td>{\"type\": \"MultiPolygon\", \"coordinates\": [[[[-9...</td>\n",
       "      <td>56.72</td>\n",
       "      <td>2019</td>\n",
       "      <td>Azcapotzalco</td>\n",
       "      <td>67.436250</td>\n",
       "      <td>539.49</td>\n",
       "      <td>AZCAPOTZALCO</td>\n",
       "      <td>PROHOGAR</td>\n",
       "      <td>56.720000</td>\n",
       "      <td>839.35</td>\n",
       "      <td>76.304545</td>\n",
       "      <td>121.570000</td>\n",
       "      <td>3</td>\n",
       "      <td>243.14</td>\n",
       "      <td>57330</td>\n",
       "      <td>BAJO</td>\n",
       "    </tr>\n",
       "    <tr>\n",
       "      <th>...</th>\n",
       "      <td>...</td>\n",
       "      <td>...</td>\n",
       "      <td>...</td>\n",
       "      <td>...</td>\n",
       "      <td>...</td>\n",
       "      <td>...</td>\n",
       "      <td>...</td>\n",
       "      <td>...</td>\n",
       "      <td>...</td>\n",
       "      <td>...</td>\n",
       "      <td>...</td>\n",
       "      <td>...</td>\n",
       "      <td>...</td>\n",
       "      <td>...</td>\n",
       "      <td>...</td>\n",
       "      <td>...</td>\n",
       "      <td>...</td>\n",
       "    </tr>\n",
       "    <tr>\n",
       "      <th>71097</th>\n",
       "      <td>19.4485642979,-99.1399395353</td>\n",
       "      <td>{\"type\": \"MultiPolygon\", \"coordinates\": [[[[-9...</td>\n",
       "      <td>NaN</td>\n",
       "      <td>2019</td>\n",
       "      <td>Cuauhtémoc</td>\n",
       "      <td>20.053112</td>\n",
       "      <td>3930.41</td>\n",
       "      <td>CUAUHTEMOC</td>\n",
       "      <td>GUERRERO</td>\n",
       "      <td>NaN</td>\n",
       "      <td>4286.28</td>\n",
       "      <td>19.307568</td>\n",
       "      <td>13.687308</td>\n",
       "      <td>1</td>\n",
       "      <td>355.87</td>\n",
       "      <td>233</td>\n",
       "      <td>BAJO</td>\n",
       "    </tr>\n",
       "    <tr>\n",
       "      <th>71098</th>\n",
       "      <td>19.4493393649,-99.1457191092</td>\n",
       "      <td>{\"type\": \"MultiPolygon\", \"coordinates\": [[[[-9...</td>\n",
       "      <td>71.30</td>\n",
       "      <td>2019</td>\n",
       "      <td>Cuauhtémoc</td>\n",
       "      <td>21.126615</td>\n",
       "      <td>9549.24</td>\n",
       "      <td>CUAUHTEMOC</td>\n",
       "      <td>GUERRERO</td>\n",
       "      <td>35.650001</td>\n",
       "      <td>9796.12</td>\n",
       "      <td>20.976702</td>\n",
       "      <td>13.506923</td>\n",
       "      <td>1</td>\n",
       "      <td>175.59</td>\n",
       "      <td>238</td>\n",
       "      <td>POPULAR</td>\n",
       "    </tr>\n",
       "    <tr>\n",
       "      <th>71099</th>\n",
       "      <td>19.4483923147,-99.1459300721</td>\n",
       "      <td>{\"type\": \"MultiPolygon\", \"coordinates\": [[[[-9...</td>\n",
       "      <td>759.16</td>\n",
       "      <td>2019</td>\n",
       "      <td>Cuauhtémoc</td>\n",
       "      <td>27.527778</td>\n",
       "      <td>4707.25</td>\n",
       "      <td>CUAUHTEMOC</td>\n",
       "      <td>GUERRERO</td>\n",
       "      <td>94.894999</td>\n",
       "      <td>5692.81</td>\n",
       "      <td>29.344381</td>\n",
       "      <td>15.093334</td>\n",
       "      <td>1</td>\n",
       "      <td>226.40</td>\n",
       "      <td>239</td>\n",
       "      <td>BAJO</td>\n",
       "    </tr>\n",
       "    <tr>\n",
       "      <th>71100</th>\n",
       "      <td>19.4475868325,-99.1425094385</td>\n",
       "      <td>{\"type\": \"MultiPolygon\", \"coordinates\": [[[[-9...</td>\n",
       "      <td>402.65</td>\n",
       "      <td>2019</td>\n",
       "      <td>Cuauhtémoc</td>\n",
       "      <td>30.605000</td>\n",
       "      <td>550.89</td>\n",
       "      <td>CUAUHTEMOC</td>\n",
       "      <td>GUERRERO</td>\n",
       "      <td>100.662498</td>\n",
       "      <td>963.15</td>\n",
       "      <td>41.876087</td>\n",
       "      <td>9.610000</td>\n",
       "      <td>1</td>\n",
       "      <td>9.61</td>\n",
       "      <td>244</td>\n",
       "      <td>BAJO</td>\n",
       "    </tr>\n",
       "    <tr>\n",
       "      <th>71101</th>\n",
       "      <td>19.4474017534,-99.1397251034</td>\n",
       "      <td>{\"type\": \"MultiPolygon\", \"coordinates\": [[[[-9...</td>\n",
       "      <td>41.20</td>\n",
       "      <td>2019</td>\n",
       "      <td>Cuauhtémoc</td>\n",
       "      <td>22.507710</td>\n",
       "      <td>8552.94</td>\n",
       "      <td>CUAUHTEMOC</td>\n",
       "      <td>GUERRERO</td>\n",
       "      <td>13.733333</td>\n",
       "      <td>9000.07</td>\n",
       "      <td>21.951366</td>\n",
       "      <td>15.034444</td>\n",
       "      <td>1</td>\n",
       "      <td>405.93</td>\n",
       "      <td>247</td>\n",
       "      <td>BAJO</td>\n",
       "    </tr>\n",
       "  </tbody>\n",
       "</table>\n",
       "<p>71102 rows × 17 columns</p>\n",
       "</div>"
      ],
      "text/plain": [
       "                          Geo Point  \\\n",
       "0      19.4552601937,-99.1126617526   \n",
       "1      19.4552601937,-99.1126617526   \n",
       "2      19.4557195871,-99.1135822797   \n",
       "3      19.4596467168,-99.1044693641   \n",
       "4      19.4741606185,-99.1467497317   \n",
       "...                             ...   \n",
       "71097  19.4485642979,-99.1399395353   \n",
       "71098  19.4493393649,-99.1457191092   \n",
       "71099  19.4483923147,-99.1459300721   \n",
       "71100  19.4475868325,-99.1425094385   \n",
       "71101  19.4474017534,-99.1397251034   \n",
       "\n",
       "                                               Geo Shape  consumo_total_mixto  \\\n",
       "0      {\"type\": \"MultiPolygon\", \"coordinates\": [[[[-9...               159.72   \n",
       "1      {\"type\": \"MultiPolygon\", \"coordinates\": [[[[-9...                 0.00   \n",
       "2      {\"type\": \"MultiPolygon\", \"coordinates\": [[[[-9...                 0.00   \n",
       "3      {\"type\": \"MultiPolygon\", \"coordinates\": [[[[-9...                 0.00   \n",
       "4      {\"type\": \"MultiPolygon\", \"coordinates\": [[[[-9...                56.72   \n",
       "...                                                  ...                  ...   \n",
       "71097  {\"type\": \"MultiPolygon\", \"coordinates\": [[[[-9...                  NaN   \n",
       "71098  {\"type\": \"MultiPolygon\", \"coordinates\": [[[[-9...                71.30   \n",
       "71099  {\"type\": \"MultiPolygon\", \"coordinates\": [[[[-9...               759.16   \n",
       "71100  {\"type\": \"MultiPolygon\", \"coordinates\": [[[[-9...               402.65   \n",
       "71101  {\"type\": \"MultiPolygon\", \"coordinates\": [[[[-9...                41.20   \n",
       "\n",
       "       anio             nomgeo  consumo_prom_dom  consumo_total_dom  \\\n",
       "0      2019  Gustavo A. Madero         42.566364             468.23   \n",
       "1      2019  Gustavo A. Madero         35.936667             107.81   \n",
       "2      2019  Gustavo A. Madero         24.586000             122.93   \n",
       "3      2019  Gustavo A. Madero          0.000000               0.00   \n",
       "4      2019       Azcapotzalco         67.436250             539.49   \n",
       "...     ...                ...               ...                ...   \n",
       "71097  2019         Cuauhtémoc         20.053112            3930.41   \n",
       "71098  2019         Cuauhtémoc         21.126615            9549.24   \n",
       "71099  2019         Cuauhtémoc         27.527778            4707.25   \n",
       "71100  2019         Cuauhtémoc         30.605000             550.89   \n",
       "71101  2019         Cuauhtémoc         22.507710            8552.94   \n",
       "\n",
       "                alcaldia             colonia  consumo_prom_mixto  \\\n",
       "0      GUSTAVO A. MADERO      7 DE NOVIEMBRE           53.240000   \n",
       "1      GUSTAVO A. MADERO      7 DE NOVIEMBRE            0.000000   \n",
       "2      GUSTAVO A. MADERO      7 DE NOVIEMBRE            0.000000   \n",
       "3      GUSTAVO A. MADERO  NUEVA TENOCHTITLAN            0.000000   \n",
       "4           AZCAPOTZALCO            PROHOGAR           56.720000   \n",
       "...                  ...                 ...                 ...   \n",
       "71097         CUAUHTEMOC            GUERRERO                 NaN   \n",
       "71098         CUAUHTEMOC            GUERRERO           35.650001   \n",
       "71099         CUAUHTEMOC            GUERRERO           94.894999   \n",
       "71100         CUAUHTEMOC            GUERRERO          100.662498   \n",
       "71101         CUAUHTEMOC            GUERRERO           13.733333   \n",
       "\n",
       "       consumo_total  consumo_prom  consumo_prom_no_dom  bimestre  \\\n",
       "0             631.00     42.066667             3.050000         3   \n",
       "1             115.13     28.782500             7.320000         3   \n",
       "2             197.96     32.993333            75.030000         3   \n",
       "3             253.53     84.510000            84.510000         3   \n",
       "4             839.35     76.304545           121.570000         3   \n",
       "...              ...           ...                  ...       ...   \n",
       "71097        4286.28     19.307568            13.687308         1   \n",
       "71098        9796.12     20.976702            13.506923         1   \n",
       "71099        5692.81     29.344381            15.093334         1   \n",
       "71100         963.15     41.876087             9.610000         1   \n",
       "71101        9000.07     21.951366            15.034444         1   \n",
       "\n",
       "       consumo_total_no_dom    gid indice_des  \n",
       "0                      3.05  57250       ALTO  \n",
       "1                      7.32  57253      MEDIO  \n",
       "2                     75.03  57255    POPULAR  \n",
       "3                    253.53  57267       BAJO  \n",
       "4                    243.14  57330       BAJO  \n",
       "...                     ...    ...        ...  \n",
       "71097                355.87    233       BAJO  \n",
       "71098                175.59    238    POPULAR  \n",
       "71099                226.40    239       BAJO  \n",
       "71100                  9.61    244       BAJO  \n",
       "71101                405.93    247       BAJO  \n",
       "\n",
       "[71102 rows x 17 columns]"
      ]
     },
     "execution_count": 5,
     "metadata": {},
     "output_type": "execute_result"
    }
   ],
   "source": [
    "df"
   ]
  },
  {
   "cell_type": "markdown",
   "metadata": {},
   "source": [
    "# Data profiling"
   ]
  },
  {
   "cell_type": "markdown",
   "metadata": {},
   "source": [
    "#### 1. ¿Cuántas variables tenemos?"
   ]
  },
  {
   "cell_type": "code",
   "execution_count": 20,
   "metadata": {
    "ExecuteTime": {
     "end_time": "2020-09-23T00:05:47.346376Z",
     "start_time": "2020-09-23T00:05:47.318390Z"
    }
   },
   "outputs": [
    {
     "name": "stdout",
     "output_type": "stream",
     "text": [
      "<class 'pandas.core.frame.DataFrame'>\n",
      "RangeIndex: 71102 entries, 0 to 71101\n",
      "Data columns (total 17 columns):\n",
      " #   Column                Non-Null Count  Dtype  \n",
      "---  ------                --------------  -----  \n",
      " 0   Geo Point             71102 non-null  object \n",
      " 1   Geo Shape             71078 non-null  object \n",
      " 2   consumo_total_mixto   62775 non-null  float64\n",
      " 3   anio                  71102 non-null  int64  \n",
      " 4   nomgeo                71102 non-null  object \n",
      " 5   consumo_prom_dom      66282 non-null  float64\n",
      " 6   consumo_total_dom     66282 non-null  float64\n",
      " 7   alcaldia              71102 non-null  object \n",
      " 8   colonia               71102 non-null  object \n",
      " 9   consumo_prom_mixto    62775 non-null  float64\n",
      " 10  consumo_total         71102 non-null  float64\n",
      " 11  consumo_prom          71102 non-null  float64\n",
      " 12  consumo_prom_no_dom   71102 non-null  float64\n",
      " 13  bimestre              71102 non-null  int64  \n",
      " 14  consumo_total_no_dom  71102 non-null  float64\n",
      " 15  gid                   71102 non-null  int64  \n",
      " 16  indice_des            71102 non-null  object \n",
      "dtypes: float64(8), int64(3), object(6)\n",
      "memory usage: 9.2+ MB\n"
     ]
    }
   ],
   "source": [
    "df.info()"
   ]
  },
  {
   "cell_type": "code",
   "execution_count": 6,
   "metadata": {
    "ExecuteTime": {
     "end_time": "2020-09-22T23:51:03.492512Z",
     "start_time": "2020-09-22T23:51:03.488614Z"
    }
   },
   "outputs": [
    {
     "data": {
      "text/plain": [
       "17"
      ]
     },
     "execution_count": 6,
     "metadata": {},
     "output_type": "execute_result"
    }
   ],
   "source": [
    "len(df.columns)"
   ]
  },
  {
   "cell_type": "markdown",
   "metadata": {},
   "source": [
    "#### 2. ¿Cuántas observaciones tenemos?"
   ]
  },
  {
   "cell_type": "code",
   "execution_count": 8,
   "metadata": {
    "ExecuteTime": {
     "end_time": "2020-09-22T23:51:34.808271Z",
     "start_time": "2020-09-22T23:51:34.804514Z"
    }
   },
   "outputs": [
    {
     "data": {
      "text/plain": [
       "71102"
      ]
     },
     "execution_count": 8,
     "metadata": {},
     "output_type": "execute_result"
    }
   ],
   "source": [
    "df.shape[0]"
   ]
  },
  {
   "cell_type": "markdown",
   "metadata": {},
   "source": [
    "#### 3. ¿Cuántas observaciones únicas tenemos por variable?"
   ]
  },
  {
   "cell_type": "code",
   "execution_count": 12,
   "metadata": {
    "ExecuteTime": {
     "end_time": "2020-09-22T23:53:23.721055Z",
     "start_time": "2020-09-22T23:53:23.590529Z"
    }
   },
   "outputs": [],
   "source": [
    "u_vars = {}\n",
    "for col in df.columns:\n",
    "    u_vars[col] = len(df[col].unique())"
   ]
  },
  {
   "cell_type": "code",
   "execution_count": 13,
   "metadata": {
    "ExecuteTime": {
     "end_time": "2020-09-22T23:53:26.754415Z",
     "start_time": "2020-09-22T23:53:26.750382Z"
    }
   },
   "outputs": [
    {
     "data": {
      "text/plain": [
       "{'Geo Point': 22930,\n",
       " 'Geo Shape': 22923,\n",
       " 'consumo_total_mixto': 24340,\n",
       " 'anio': 1,\n",
       " 'nomgeo': 17,\n",
       " 'consumo_prom_dom': 52061,\n",
       " 'consumo_total_dom': 47052,\n",
       " 'alcaldia': 16,\n",
       " 'colonia': 1340,\n",
       " 'consumo_prom_mixto': 31912,\n",
       " 'consumo_total': 56015,\n",
       " 'consumo_prom': 62214,\n",
       " 'consumo_prom_no_dom': 37440,\n",
       " 'bimestre': 3,\n",
       " 'consumo_total_no_dom': 27336,\n",
       " 'gid': 71102,\n",
       " 'indice_des': 4}"
      ]
     },
     "execution_count": 13,
     "metadata": {},
     "output_type": "execute_result"
    }
   ],
   "source": [
    "u_vars"
   ]
  },
  {
   "cell_type": "code",
   "execution_count": 107,
   "metadata": {
    "ExecuteTime": {
     "end_time": "2020-09-23T00:56:11.981581Z",
     "start_time": "2020-09-23T00:56:11.902047Z"
    }
   },
   "outputs": [
    {
     "data": {
      "text/plain": [
       "Geo Point               22930\n",
       "Geo Shape               22922\n",
       "consumo_total_mixto     24339\n",
       "anio                        1\n",
       "nomgeo                     17\n",
       "consumo_prom_dom        52060\n",
       "consumo_total_dom       47051\n",
       "alcaldia                   16\n",
       "colonia                  1340\n",
       "consumo_prom_mixto      31911\n",
       "consumo_total           56015\n",
       "consumo_prom            62214\n",
       "consumo_prom_no_dom     37440\n",
       "bimestre                    3\n",
       "consumo_total_no_dom    27336\n",
       "gid                     71102\n",
       "indice_des                  4\n",
       "dtype: int64"
      ]
     },
     "execution_count": 107,
     "metadata": {},
     "output_type": "execute_result"
    }
   ],
   "source": [
    "df.nunique()"
   ]
  },
  {
   "cell_type": "markdown",
   "metadata": {},
   "source": [
    "#### ¿Cuántas variables numéricas tenemos?"
   ]
  },
  {
   "cell_type": "markdown",
   "metadata": {},
   "source": [
    "Tenemos 8 variables numéricas"
   ]
  },
  {
   "cell_type": "code",
   "execution_count": 26,
   "metadata": {
    "ExecuteTime": {
     "end_time": "2020-09-23T00:11:28.659975Z",
     "start_time": "2020-09-23T00:11:28.657097Z"
    }
   },
   "outputs": [],
   "source": [
    "num_vars = [\n",
    "    \"consumo_total_mixto\",\n",
    "    \"anio\", ## Puede ser también de fecha\n",
    "    \"consumo_prom_dom\",\n",
    "    \"consumo_total_dom\",\n",
    "    \"consumo_prom_mixto\",\n",
    "    \"consumo_total\",\n",
    "    \"consumo_prom\",\n",
    "    \"bimestre\", ## Puede ser categórica ordinal\n",
    "    \"consumo_prom_no_dom\",\n",
    "    \"gid\"\n",
    "]"
   ]
  },
  {
   "cell_type": "code",
   "execution_count": 108,
   "metadata": {
    "ExecuteTime": {
     "end_time": "2020-09-23T00:58:05.832350Z",
     "start_time": "2020-09-23T00:58:05.829400Z"
    }
   },
   "outputs": [
    {
     "name": "stdout",
     "output_type": "stream",
     "text": [
      "Tenemos un total de 10 variables numéricas\n"
     ]
    }
   ],
   "source": [
    "print(f\"Tenemos un total de {len(num_vars)} variables numéricas\")"
   ]
  },
  {
   "cell_type": "markdown",
   "metadata": {},
   "source": [
    "#### ¿Cuántas variables de fecha tenemos?"
   ]
  },
  {
   "cell_type": "code",
   "execution_count": 29,
   "metadata": {
    "ExecuteTime": {
     "end_time": "2020-09-23T00:12:42.007363Z",
     "start_time": "2020-09-23T00:12:42.005076Z"
    }
   },
   "outputs": [],
   "source": [
    "date_vars = [\n",
    "    \"anio\", ## Puede ser también de fecha\n",
    "]"
   ]
  },
  {
   "cell_type": "code",
   "execution_count": 109,
   "metadata": {
    "ExecuteTime": {
     "end_time": "2020-09-23T00:58:23.111013Z",
     "start_time": "2020-09-23T00:58:23.108152Z"
    }
   },
   "outputs": [
    {
     "name": "stdout",
     "output_type": "stream",
     "text": [
      "Tenemos un total de 1 variable(s) de fecha\n"
     ]
    }
   ],
   "source": [
    "print(f\"Tenemos un total de {len(date_vars)} variable(s) de fecha\")"
   ]
  },
  {
   "cell_type": "markdown",
   "metadata": {},
   "source": [
    "#### ¿Cuántas variables categóricas tenemos?"
   ]
  },
  {
   "cell_type": "code",
   "execution_count": 32,
   "metadata": {
    "ExecuteTime": {
     "end_time": "2020-09-23T00:14:17.595449Z",
     "start_time": "2020-09-23T00:14:17.593079Z"
    }
   },
   "outputs": [],
   "source": [
    "cat_vars = [\n",
    "    \"anio\",\n",
    "    \"nomgeo\",\n",
    "    \"alcaldia\",\n",
    "    \"colonia\",\n",
    "    \"bimestre\",\n",
    "    \"indice_des\",\n",
    "]"
   ]
  },
  {
   "cell_type": "code",
   "execution_count": 111,
   "metadata": {
    "ExecuteTime": {
     "end_time": "2020-09-23T00:58:41.842558Z",
     "start_time": "2020-09-23T00:58:41.839477Z"
    }
   },
   "outputs": [
    {
     "name": "stdout",
     "output_type": "stream",
     "text": [
      "Tenemos un total de 6 variables categóricas\n"
     ]
    }
   ],
   "source": [
    "print(f\"Tenemos un total de {len(cat_vars)} variables categóricas\")"
   ]
  },
  {
   "cell_type": "markdown",
   "metadata": {},
   "source": [
    "#### ¿Cuántas variables de texto tenemos?"
   ]
  },
  {
   "cell_type": "code",
   "execution_count": 33,
   "metadata": {
    "ExecuteTime": {
     "end_time": "2020-09-23T00:16:29.494646Z",
     "start_time": "2020-09-23T00:16:29.492033Z"
    }
   },
   "outputs": [],
   "source": [
    "txt_vars = [\n",
    "    \"nomgeo\",\n",
    "    \"alcaldia\",\n",
    "    \"colonia\",\n",
    "    \"indice_des\",\n",
    "]"
   ]
  },
  {
   "cell_type": "code",
   "execution_count": 112,
   "metadata": {
    "ExecuteTime": {
     "end_time": "2020-09-23T00:59:19.319191Z",
     "start_time": "2020-09-23T00:59:19.316291Z"
    }
   },
   "outputs": [
    {
     "name": "stdout",
     "output_type": "stream",
     "text": [
      "Tenemos un total de 4 variables de text\n"
     ]
    }
   ],
   "source": [
    "print(f\"Tenemos un total de {len(txt_vars)} variables de text\")"
   ]
  },
  {
   "cell_type": "markdown",
   "metadata": {},
   "source": [
    "#### Generea el profiling de cada variable"
   ]
  },
  {
   "cell_type": "markdown",
   "metadata": {},
   "source": [
    "**Profiling: variables numéricas**"
   ]
  },
  {
   "cell_type": "markdown",
   "metadata": {},
   "source": [
    "- [x] Tipo de dato: float, integer\n",
    "- [x] Número de observaciones\n",
    "- [x] Mean\n",
    "- [x] Desviación estándar\n",
    "- [x] Cuartiles: 25%, 50%, 75%\n",
    "- [x] Valor máximo\n",
    "- [x] Valor mínimo\n",
    "- [x] Número de observaciones únicos\n",
    "- [x] Top 5 observaciones repetidas\n",
    "- [x] Número de observaciones con valores faltantes\n",
    "- [ ] ¿Hay redondeos?"
   ]
  },
  {
   "cell_type": "code",
   "execution_count": 113,
   "metadata": {
    "ExecuteTime": {
     "end_time": "2020-09-23T01:00:50.174437Z",
     "start_time": "2020-09-23T01:00:50.168781Z"
    }
   },
   "outputs": [],
   "source": [
    "dfx = df.loc[:, num_vars]"
   ]
  },
  {
   "cell_type": "code",
   "execution_count": 114,
   "metadata": {
    "ExecuteTime": {
     "end_time": "2020-09-23T01:00:50.192694Z",
     "start_time": "2020-09-23T01:00:50.176178Z"
    }
   },
   "outputs": [
    {
     "data": {
      "text/html": [
       "<div>\n",
       "<style scoped>\n",
       "    .dataframe tbody tr th:only-of-type {\n",
       "        vertical-align: middle;\n",
       "    }\n",
       "\n",
       "    .dataframe tbody tr th {\n",
       "        vertical-align: top;\n",
       "    }\n",
       "\n",
       "    .dataframe thead th {\n",
       "        text-align: right;\n",
       "    }\n",
       "</style>\n",
       "<table border=\"1\" class=\"dataframe\">\n",
       "  <thead>\n",
       "    <tr style=\"text-align: right;\">\n",
       "      <th></th>\n",
       "      <th>consumo_total_mixto</th>\n",
       "      <th>anio</th>\n",
       "      <th>consumo_prom_dom</th>\n",
       "      <th>consumo_total_dom</th>\n",
       "      <th>consumo_prom_mixto</th>\n",
       "      <th>consumo_total</th>\n",
       "      <th>consumo_prom</th>\n",
       "      <th>bimestre</th>\n",
       "      <th>consumo_prom_no_dom</th>\n",
       "      <th>gid</th>\n",
       "    </tr>\n",
       "  </thead>\n",
       "  <tbody>\n",
       "    <tr>\n",
       "      <th>0</th>\n",
       "      <td>159.72</td>\n",
       "      <td>2019</td>\n",
       "      <td>42.566364</td>\n",
       "      <td>468.23</td>\n",
       "      <td>53.240000</td>\n",
       "      <td>631.00</td>\n",
       "      <td>42.066667</td>\n",
       "      <td>3</td>\n",
       "      <td>3.050000</td>\n",
       "      <td>57250</td>\n",
       "    </tr>\n",
       "    <tr>\n",
       "      <th>1</th>\n",
       "      <td>0.00</td>\n",
       "      <td>2019</td>\n",
       "      <td>35.936667</td>\n",
       "      <td>107.81</td>\n",
       "      <td>0.000000</td>\n",
       "      <td>115.13</td>\n",
       "      <td>28.782500</td>\n",
       "      <td>3</td>\n",
       "      <td>7.320000</td>\n",
       "      <td>57253</td>\n",
       "    </tr>\n",
       "    <tr>\n",
       "      <th>2</th>\n",
       "      <td>0.00</td>\n",
       "      <td>2019</td>\n",
       "      <td>24.586000</td>\n",
       "      <td>122.93</td>\n",
       "      <td>0.000000</td>\n",
       "      <td>197.96</td>\n",
       "      <td>32.993333</td>\n",
       "      <td>3</td>\n",
       "      <td>75.030000</td>\n",
       "      <td>57255</td>\n",
       "    </tr>\n",
       "    <tr>\n",
       "      <th>3</th>\n",
       "      <td>0.00</td>\n",
       "      <td>2019</td>\n",
       "      <td>0.000000</td>\n",
       "      <td>0.00</td>\n",
       "      <td>0.000000</td>\n",
       "      <td>253.53</td>\n",
       "      <td>84.510000</td>\n",
       "      <td>3</td>\n",
       "      <td>84.510000</td>\n",
       "      <td>57267</td>\n",
       "    </tr>\n",
       "    <tr>\n",
       "      <th>4</th>\n",
       "      <td>56.72</td>\n",
       "      <td>2019</td>\n",
       "      <td>67.436250</td>\n",
       "      <td>539.49</td>\n",
       "      <td>56.720000</td>\n",
       "      <td>839.35</td>\n",
       "      <td>76.304545</td>\n",
       "      <td>3</td>\n",
       "      <td>121.570000</td>\n",
       "      <td>57330</td>\n",
       "    </tr>\n",
       "    <tr>\n",
       "      <th>...</th>\n",
       "      <td>...</td>\n",
       "      <td>...</td>\n",
       "      <td>...</td>\n",
       "      <td>...</td>\n",
       "      <td>...</td>\n",
       "      <td>...</td>\n",
       "      <td>...</td>\n",
       "      <td>...</td>\n",
       "      <td>...</td>\n",
       "      <td>...</td>\n",
       "    </tr>\n",
       "    <tr>\n",
       "      <th>71097</th>\n",
       "      <td>NaN</td>\n",
       "      <td>2019</td>\n",
       "      <td>20.053112</td>\n",
       "      <td>3930.41</td>\n",
       "      <td>NaN</td>\n",
       "      <td>4286.28</td>\n",
       "      <td>19.307568</td>\n",
       "      <td>1</td>\n",
       "      <td>13.687308</td>\n",
       "      <td>233</td>\n",
       "    </tr>\n",
       "    <tr>\n",
       "      <th>71098</th>\n",
       "      <td>71.30</td>\n",
       "      <td>2019</td>\n",
       "      <td>21.126615</td>\n",
       "      <td>9549.24</td>\n",
       "      <td>35.650001</td>\n",
       "      <td>9796.12</td>\n",
       "      <td>20.976702</td>\n",
       "      <td>1</td>\n",
       "      <td>13.506923</td>\n",
       "      <td>238</td>\n",
       "    </tr>\n",
       "    <tr>\n",
       "      <th>71099</th>\n",
       "      <td>759.16</td>\n",
       "      <td>2019</td>\n",
       "      <td>27.527778</td>\n",
       "      <td>4707.25</td>\n",
       "      <td>94.894999</td>\n",
       "      <td>5692.81</td>\n",
       "      <td>29.344381</td>\n",
       "      <td>1</td>\n",
       "      <td>15.093334</td>\n",
       "      <td>239</td>\n",
       "    </tr>\n",
       "    <tr>\n",
       "      <th>71100</th>\n",
       "      <td>402.65</td>\n",
       "      <td>2019</td>\n",
       "      <td>30.605000</td>\n",
       "      <td>550.89</td>\n",
       "      <td>100.662498</td>\n",
       "      <td>963.15</td>\n",
       "      <td>41.876087</td>\n",
       "      <td>1</td>\n",
       "      <td>9.610000</td>\n",
       "      <td>244</td>\n",
       "    </tr>\n",
       "    <tr>\n",
       "      <th>71101</th>\n",
       "      <td>41.20</td>\n",
       "      <td>2019</td>\n",
       "      <td>22.507710</td>\n",
       "      <td>8552.94</td>\n",
       "      <td>13.733333</td>\n",
       "      <td>9000.07</td>\n",
       "      <td>21.951366</td>\n",
       "      <td>1</td>\n",
       "      <td>15.034444</td>\n",
       "      <td>247</td>\n",
       "    </tr>\n",
       "  </tbody>\n",
       "</table>\n",
       "<p>71102 rows × 10 columns</p>\n",
       "</div>"
      ],
      "text/plain": [
       "       consumo_total_mixto  anio  consumo_prom_dom  consumo_total_dom  \\\n",
       "0                   159.72  2019         42.566364             468.23   \n",
       "1                     0.00  2019         35.936667             107.81   \n",
       "2                     0.00  2019         24.586000             122.93   \n",
       "3                     0.00  2019          0.000000               0.00   \n",
       "4                    56.72  2019         67.436250             539.49   \n",
       "...                    ...   ...               ...                ...   \n",
       "71097                  NaN  2019         20.053112            3930.41   \n",
       "71098                71.30  2019         21.126615            9549.24   \n",
       "71099               759.16  2019         27.527778            4707.25   \n",
       "71100               402.65  2019         30.605000             550.89   \n",
       "71101                41.20  2019         22.507710            8552.94   \n",
       "\n",
       "       consumo_prom_mixto  consumo_total  consumo_prom  bimestre  \\\n",
       "0               53.240000         631.00     42.066667         3   \n",
       "1                0.000000         115.13     28.782500         3   \n",
       "2                0.000000         197.96     32.993333         3   \n",
       "3                0.000000         253.53     84.510000         3   \n",
       "4               56.720000         839.35     76.304545         3   \n",
       "...                   ...            ...           ...       ...   \n",
       "71097                 NaN        4286.28     19.307568         1   \n",
       "71098           35.650001        9796.12     20.976702         1   \n",
       "71099           94.894999        5692.81     29.344381         1   \n",
       "71100          100.662498         963.15     41.876087         1   \n",
       "71101           13.733333        9000.07     21.951366         1   \n",
       "\n",
       "       consumo_prom_no_dom    gid  \n",
       "0                 3.050000  57250  \n",
       "1                 7.320000  57253  \n",
       "2                75.030000  57255  \n",
       "3                84.510000  57267  \n",
       "4               121.570000  57330  \n",
       "...                    ...    ...  \n",
       "71097            13.687308    233  \n",
       "71098            13.506923    238  \n",
       "71099            15.093334    239  \n",
       "71100             9.610000    244  \n",
       "71101            15.034444    247  \n",
       "\n",
       "[71102 rows x 10 columns]"
      ]
     },
     "execution_count": 114,
     "metadata": {},
     "output_type": "execute_result"
    }
   ],
   "source": [
    "dfx"
   ]
  },
  {
   "cell_type": "markdown",
   "metadata": {},
   "source": [
    "**Descripción de los datos**"
   ]
  },
  {
   "cell_type": "code",
   "execution_count": 115,
   "metadata": {
    "ExecuteTime": {
     "end_time": "2020-09-23T01:00:50.255182Z",
     "start_time": "2020-09-23T01:00:50.194772Z"
    }
   },
   "outputs": [
    {
     "data": {
      "text/html": [
       "<div>\n",
       "<style scoped>\n",
       "    .dataframe tbody tr th:only-of-type {\n",
       "        vertical-align: middle;\n",
       "    }\n",
       "\n",
       "    .dataframe tbody tr th {\n",
       "        vertical-align: top;\n",
       "    }\n",
       "\n",
       "    .dataframe thead th {\n",
       "        text-align: right;\n",
       "    }\n",
       "</style>\n",
       "<table border=\"1\" class=\"dataframe\">\n",
       "  <thead>\n",
       "    <tr style=\"text-align: right;\">\n",
       "      <th></th>\n",
       "      <th>consumo_total_mixto</th>\n",
       "      <th>anio</th>\n",
       "      <th>consumo_prom_dom</th>\n",
       "      <th>consumo_total_dom</th>\n",
       "      <th>consumo_prom_mixto</th>\n",
       "      <th>consumo_total</th>\n",
       "      <th>consumo_prom</th>\n",
       "      <th>bimestre</th>\n",
       "      <th>consumo_prom_no_dom</th>\n",
       "      <th>gid</th>\n",
       "    </tr>\n",
       "  </thead>\n",
       "  <tbody>\n",
       "    <tr>\n",
       "      <th>count</th>\n",
       "      <td>62775.000000</td>\n",
       "      <td>71102.0</td>\n",
       "      <td>66282.000000</td>\n",
       "      <td>66282.000000</td>\n",
       "      <td>62775.000000</td>\n",
       "      <td>71102.000000</td>\n",
       "      <td>71102.000000</td>\n",
       "      <td>71102.000000</td>\n",
       "      <td>71102.000000</td>\n",
       "      <td>71102.000000</td>\n",
       "    </tr>\n",
       "    <tr>\n",
       "      <th>mean</th>\n",
       "      <td>174.359929</td>\n",
       "      <td>2019.0</td>\n",
       "      <td>29.132386</td>\n",
       "      <td>1186.263611</td>\n",
       "      <td>50.636234</td>\n",
       "      <td>1695.847222</td>\n",
       "      <td>111.217399</td>\n",
       "      <td>2.006807</td>\n",
       "      <td>126.760172</td>\n",
       "      <td>35551.500000</td>\n",
       "    </tr>\n",
       "    <tr>\n",
       "      <th>std</th>\n",
       "      <td>312.663596</td>\n",
       "      <td>0.0</td>\n",
       "      <td>64.565925</td>\n",
       "      <td>2771.038307</td>\n",
       "      <td>130.408673</td>\n",
       "      <td>3555.697457</td>\n",
       "      <td>1069.949262</td>\n",
       "      <td>0.814393</td>\n",
       "      <td>1095.817805</td>\n",
       "      <td>20525.523757</td>\n",
       "    </tr>\n",
       "    <tr>\n",
       "      <th>min</th>\n",
       "      <td>0.000000</td>\n",
       "      <td>2019.0</td>\n",
       "      <td>0.000000</td>\n",
       "      <td>0.000000</td>\n",
       "      <td>0.000000</td>\n",
       "      <td>0.000000</td>\n",
       "      <td>0.000000</td>\n",
       "      <td>1.000000</td>\n",
       "      <td>0.000000</td>\n",
       "      <td>1.000000</td>\n",
       "    </tr>\n",
       "    <tr>\n",
       "      <th>25%</th>\n",
       "      <td>0.000000</td>\n",
       "      <td>2019.0</td>\n",
       "      <td>18.690547</td>\n",
       "      <td>161.635000</td>\n",
       "      <td>0.000000</td>\n",
       "      <td>340.952500</td>\n",
       "      <td>23.010139</td>\n",
       "      <td>1.000000</td>\n",
       "      <td>6.275417</td>\n",
       "      <td>17776.250000</td>\n",
       "    </tr>\n",
       "    <tr>\n",
       "      <th>50%</th>\n",
       "      <td>79.940000</td>\n",
       "      <td>2019.0</td>\n",
       "      <td>26.414248</td>\n",
       "      <td>604.185000</td>\n",
       "      <td>33.451667</td>\n",
       "      <td>896.175000</td>\n",
       "      <td>31.693818</td>\n",
       "      <td>2.000000</td>\n",
       "      <td>19.280000</td>\n",
       "      <td>35551.500000</td>\n",
       "    </tr>\n",
       "    <tr>\n",
       "      <th>75%</th>\n",
       "      <td>233.320000</td>\n",
       "      <td>2019.0</td>\n",
       "      <td>36.246563</td>\n",
       "      <td>1261.445000</td>\n",
       "      <td>61.216548</td>\n",
       "      <td>1808.902500</td>\n",
       "      <td>45.484917</td>\n",
       "      <td>3.000000</td>\n",
       "      <td>54.186875</td>\n",
       "      <td>53326.750000</td>\n",
       "    </tr>\n",
       "    <tr>\n",
       "      <th>max</th>\n",
       "      <td>23404.440000</td>\n",
       "      <td>2019.0</td>\n",
       "      <td>7796.410000</td>\n",
       "      <td>95060.690000</td>\n",
       "      <td>11702.220000</td>\n",
       "      <td>119726.940000</td>\n",
       "      <td>89691.773438</td>\n",
       "      <td>3.000000</td>\n",
       "      <td>89691.773438</td>\n",
       "      <td>71102.000000</td>\n",
       "    </tr>\n",
       "  </tbody>\n",
       "</table>\n",
       "</div>"
      ],
      "text/plain": [
       "       consumo_total_mixto     anio  consumo_prom_dom  consumo_total_dom  \\\n",
       "count         62775.000000  71102.0      66282.000000       66282.000000   \n",
       "mean            174.359929   2019.0         29.132386        1186.263611   \n",
       "std             312.663596      0.0         64.565925        2771.038307   \n",
       "min               0.000000   2019.0          0.000000           0.000000   \n",
       "25%               0.000000   2019.0         18.690547         161.635000   \n",
       "50%              79.940000   2019.0         26.414248         604.185000   \n",
       "75%             233.320000   2019.0         36.246563        1261.445000   \n",
       "max           23404.440000   2019.0       7796.410000       95060.690000   \n",
       "\n",
       "       consumo_prom_mixto  consumo_total  consumo_prom      bimestre  \\\n",
       "count        62775.000000   71102.000000  71102.000000  71102.000000   \n",
       "mean            50.636234    1695.847222    111.217399      2.006807   \n",
       "std            130.408673    3555.697457   1069.949262      0.814393   \n",
       "min              0.000000       0.000000      0.000000      1.000000   \n",
       "25%              0.000000     340.952500     23.010139      1.000000   \n",
       "50%             33.451667     896.175000     31.693818      2.000000   \n",
       "75%             61.216548    1808.902500     45.484917      3.000000   \n",
       "max          11702.220000  119726.940000  89691.773438      3.000000   \n",
       "\n",
       "       consumo_prom_no_dom           gid  \n",
       "count         71102.000000  71102.000000  \n",
       "mean            126.760172  35551.500000  \n",
       "std            1095.817805  20525.523757  \n",
       "min               0.000000      1.000000  \n",
       "25%               6.275417  17776.250000  \n",
       "50%              19.280000  35551.500000  \n",
       "75%              54.186875  53326.750000  \n",
       "max           89691.773438  71102.000000  "
      ]
     },
     "execution_count": 115,
     "metadata": {},
     "output_type": "execute_result"
    }
   ],
   "source": [
    "dfx.describe()"
   ]
  },
  {
   "cell_type": "markdown",
   "metadata": {},
   "source": [
    "**Conteo de variables numéricas únicas**"
   ]
  },
  {
   "cell_type": "code",
   "execution_count": 116,
   "metadata": {
    "ExecuteTime": {
     "end_time": "2020-09-23T01:00:50.262283Z",
     "start_time": "2020-09-23T01:00:50.257602Z"
    }
   },
   "outputs": [
    {
     "data": {
      "text/plain": [
       "{'consumo_total_mixto': 24340,\n",
       " 'anio': 1,\n",
       " 'consumo_prom_dom': 52061,\n",
       " 'consumo_total_dom': 47052,\n",
       " 'consumo_prom_mixto': 31912,\n",
       " 'consumo_total': 56015,\n",
       " 'consumo_prom': 62214,\n",
       " 'consumo_prom_no_dom': 37440,\n",
       " 'bimestre': 3,\n",
       " 'gid': 71102}"
      ]
     },
     "execution_count": 116,
     "metadata": {},
     "output_type": "execute_result"
    }
   ],
   "source": [
    "u_vars_num = {}\n",
    "for ent in u_vars:\n",
    "    if ent in num_vars:\n",
    "        u_vars_num[ent] = u_vars[ent]\n",
    "\n",
    "u_vars_num"
   ]
  },
  {
   "cell_type": "code",
   "execution_count": 117,
   "metadata": {
    "ExecuteTime": {
     "end_time": "2020-09-23T01:00:56.460845Z",
     "start_time": "2020-09-23T01:00:56.437385Z"
    }
   },
   "outputs": [
    {
     "data": {
      "text/plain": [
       "consumo_total_mixto    24339\n",
       "anio                       1\n",
       "consumo_prom_dom       52060\n",
       "consumo_total_dom      47051\n",
       "consumo_prom_mixto     31911\n",
       "consumo_total          56015\n",
       "consumo_prom           62214\n",
       "bimestre                   3\n",
       "consumo_prom_no_dom    37440\n",
       "gid                    71102\n",
       "dtype: int64"
      ]
     },
     "execution_count": 117,
     "metadata": {},
     "output_type": "execute_result"
    }
   ],
   "source": [
    "dfx.nunique()"
   ]
  },
  {
   "cell_type": "markdown",
   "metadata": {},
   "source": [
    "**Top 5 observaciones repetidas**"
   ]
  },
  {
   "cell_type": "code",
   "execution_count": 84,
   "metadata": {
    "ExecuteTime": {
     "end_time": "2020-09-23T00:36:56.748577Z",
     "start_time": "2020-09-23T00:36:56.745285Z"
    }
   },
   "outputs": [],
   "source": [
    "def top_5(col):\n",
    "    num_top_5[col] = dfx.groupby([col], as_index=False)[\"anio\"].count().rename(columns={\"anio\": \"Conteo\"}).sort_values(by=\"Conteo\", ascending=False).head(5)"
   ]
  },
  {
   "cell_type": "code",
   "execution_count": 83,
   "metadata": {
    "ExecuteTime": {
     "end_time": "2020-09-23T00:36:56.069702Z",
     "start_time": "2020-09-23T00:36:55.949721Z"
    }
   },
   "outputs": [],
   "source": [
    "num_top_5 = {}\n",
    "for col in num_vars:\n",
    "    top_5(col)"
   ]
  },
  {
   "cell_type": "code",
   "execution_count": 88,
   "metadata": {
    "ExecuteTime": {
     "end_time": "2020-09-23T00:37:10.268083Z",
     "start_time": "2020-09-23T00:37:10.264698Z"
    }
   },
   "outputs": [
    {
     "data": {
      "text/plain": [
       "['consumo_total_mixto',\n",
       " 'anio',\n",
       " 'consumo_prom_dom',\n",
       " 'consumo_total_dom',\n",
       " 'consumo_prom_mixto',\n",
       " 'consumo_total',\n",
       " 'consumo_prom',\n",
       " 'bimestre',\n",
       " 'consumo_prom_no_dom',\n",
       " 'gid']"
      ]
     },
     "execution_count": 88,
     "metadata": {},
     "output_type": "execute_result"
    }
   ],
   "source": [
    "num_vars"
   ]
  },
  {
   "cell_type": "code",
   "execution_count": 92,
   "metadata": {
    "ExecuteTime": {
     "end_time": "2020-09-23T00:38:36.590295Z",
     "start_time": "2020-09-23T00:38:36.584266Z"
    }
   },
   "outputs": [
    {
     "data": {
      "text/html": [
       "<div>\n",
       "<style scoped>\n",
       "    .dataframe tbody tr th:only-of-type {\n",
       "        vertical-align: middle;\n",
       "    }\n",
       "\n",
       "    .dataframe tbody tr th {\n",
       "        vertical-align: top;\n",
       "    }\n",
       "\n",
       "    .dataframe thead th {\n",
       "        text-align: right;\n",
       "    }\n",
       "</style>\n",
       "<table border=\"1\" class=\"dataframe\">\n",
       "  <thead>\n",
       "    <tr style=\"text-align: right;\">\n",
       "      <th></th>\n",
       "      <th>bimestre</th>\n",
       "      <th>Conteo</th>\n",
       "    </tr>\n",
       "  </thead>\n",
       "  <tbody>\n",
       "    <tr>\n",
       "      <th>1</th>\n",
       "      <td>2</td>\n",
       "      <td>23942</td>\n",
       "    </tr>\n",
       "    <tr>\n",
       "      <th>2</th>\n",
       "      <td>3</td>\n",
       "      <td>23822</td>\n",
       "    </tr>\n",
       "    <tr>\n",
       "      <th>0</th>\n",
       "      <td>1</td>\n",
       "      <td>23338</td>\n",
       "    </tr>\n",
       "  </tbody>\n",
       "</table>\n",
       "</div>"
      ],
      "text/plain": [
       "   bimestre  Conteo\n",
       "1         2   23942\n",
       "2         3   23822\n",
       "0         1   23338"
      ]
     },
     "execution_count": 92,
     "metadata": {},
     "output_type": "execute_result"
    }
   ],
   "source": [
    "num_top_5[\"bimestre\"]"
   ]
  },
  {
   "cell_type": "markdown",
   "metadata": {},
   "source": [
    "**Tipo de dato: float, integer**"
   ]
  },
  {
   "cell_type": "markdown",
   "metadata": {},
   "source": [
    "**Número de observaciones con valores faltantes**"
   ]
  },
  {
   "cell_type": "code",
   "execution_count": 96,
   "metadata": {
    "ExecuteTime": {
     "end_time": "2020-09-23T00:41:23.940561Z",
     "start_time": "2020-09-23T00:41:23.934808Z"
    }
   },
   "outputs": [
    {
     "data": {
      "text/plain": [
       "consumo_total_mixto    8327\n",
       "anio                      0\n",
       "consumo_prom_dom       4820\n",
       "consumo_total_dom      4820\n",
       "consumo_prom_mixto     8327\n",
       "consumo_total             0\n",
       "consumo_prom              0\n",
       "bimestre                  0\n",
       "consumo_prom_no_dom       0\n",
       "gid                       0\n",
       "dtype: int64"
      ]
     },
     "execution_count": 96,
     "metadata": {},
     "output_type": "execute_result"
    }
   ],
   "source": [
    "dfx.isnull().sum()"
   ]
  },
  {
   "cell_type": "markdown",
   "metadata": {},
   "source": [
    "**¿Hay redondeos?**"
   ]
  },
  {
   "cell_type": "code",
   "execution_count": 100,
   "metadata": {
    "ExecuteTime": {
     "end_time": "2020-09-23T00:44:28.812092Z",
     "start_time": "2020-09-23T00:44:28.806184Z"
    }
   },
   "outputs": [],
   "source": [
    "dfx = df.loc[:, cat_vars]"
   ]
  },
  {
   "cell_type": "code",
   "execution_count": 101,
   "metadata": {
    "ExecuteTime": {
     "end_time": "2020-09-23T00:44:30.176888Z",
     "start_time": "2020-09-23T00:44:30.164767Z"
    },
    "scrolled": true
   },
   "outputs": [
    {
     "data": {
      "text/html": [
       "<div>\n",
       "<style scoped>\n",
       "    .dataframe tbody tr th:only-of-type {\n",
       "        vertical-align: middle;\n",
       "    }\n",
       "\n",
       "    .dataframe tbody tr th {\n",
       "        vertical-align: top;\n",
       "    }\n",
       "\n",
       "    .dataframe thead th {\n",
       "        text-align: right;\n",
       "    }\n",
       "</style>\n",
       "<table border=\"1\" class=\"dataframe\">\n",
       "  <thead>\n",
       "    <tr style=\"text-align: right;\">\n",
       "      <th></th>\n",
       "      <th>anio</th>\n",
       "      <th>nomgeo</th>\n",
       "      <th>alcaldia</th>\n",
       "      <th>colonia</th>\n",
       "      <th>bimestre</th>\n",
       "      <th>indice_des</th>\n",
       "    </tr>\n",
       "  </thead>\n",
       "  <tbody>\n",
       "    <tr>\n",
       "      <th>0</th>\n",
       "      <td>2019</td>\n",
       "      <td>Gustavo A. Madero</td>\n",
       "      <td>GUSTAVO A. MADERO</td>\n",
       "      <td>7 DE NOVIEMBRE</td>\n",
       "      <td>3</td>\n",
       "      <td>ALTO</td>\n",
       "    </tr>\n",
       "    <tr>\n",
       "      <th>1</th>\n",
       "      <td>2019</td>\n",
       "      <td>Gustavo A. Madero</td>\n",
       "      <td>GUSTAVO A. MADERO</td>\n",
       "      <td>7 DE NOVIEMBRE</td>\n",
       "      <td>3</td>\n",
       "      <td>MEDIO</td>\n",
       "    </tr>\n",
       "    <tr>\n",
       "      <th>2</th>\n",
       "      <td>2019</td>\n",
       "      <td>Gustavo A. Madero</td>\n",
       "      <td>GUSTAVO A. MADERO</td>\n",
       "      <td>7 DE NOVIEMBRE</td>\n",
       "      <td>3</td>\n",
       "      <td>POPULAR</td>\n",
       "    </tr>\n",
       "    <tr>\n",
       "      <th>3</th>\n",
       "      <td>2019</td>\n",
       "      <td>Gustavo A. Madero</td>\n",
       "      <td>GUSTAVO A. MADERO</td>\n",
       "      <td>NUEVA TENOCHTITLAN</td>\n",
       "      <td>3</td>\n",
       "      <td>BAJO</td>\n",
       "    </tr>\n",
       "    <tr>\n",
       "      <th>4</th>\n",
       "      <td>2019</td>\n",
       "      <td>Azcapotzalco</td>\n",
       "      <td>AZCAPOTZALCO</td>\n",
       "      <td>PROHOGAR</td>\n",
       "      <td>3</td>\n",
       "      <td>BAJO</td>\n",
       "    </tr>\n",
       "    <tr>\n",
       "      <th>...</th>\n",
       "      <td>...</td>\n",
       "      <td>...</td>\n",
       "      <td>...</td>\n",
       "      <td>...</td>\n",
       "      <td>...</td>\n",
       "      <td>...</td>\n",
       "    </tr>\n",
       "    <tr>\n",
       "      <th>71097</th>\n",
       "      <td>2019</td>\n",
       "      <td>Cuauhtémoc</td>\n",
       "      <td>CUAUHTEMOC</td>\n",
       "      <td>GUERRERO</td>\n",
       "      <td>1</td>\n",
       "      <td>BAJO</td>\n",
       "    </tr>\n",
       "    <tr>\n",
       "      <th>71098</th>\n",
       "      <td>2019</td>\n",
       "      <td>Cuauhtémoc</td>\n",
       "      <td>CUAUHTEMOC</td>\n",
       "      <td>GUERRERO</td>\n",
       "      <td>1</td>\n",
       "      <td>POPULAR</td>\n",
       "    </tr>\n",
       "    <tr>\n",
       "      <th>71099</th>\n",
       "      <td>2019</td>\n",
       "      <td>Cuauhtémoc</td>\n",
       "      <td>CUAUHTEMOC</td>\n",
       "      <td>GUERRERO</td>\n",
       "      <td>1</td>\n",
       "      <td>BAJO</td>\n",
       "    </tr>\n",
       "    <tr>\n",
       "      <th>71100</th>\n",
       "      <td>2019</td>\n",
       "      <td>Cuauhtémoc</td>\n",
       "      <td>CUAUHTEMOC</td>\n",
       "      <td>GUERRERO</td>\n",
       "      <td>1</td>\n",
       "      <td>BAJO</td>\n",
       "    </tr>\n",
       "    <tr>\n",
       "      <th>71101</th>\n",
       "      <td>2019</td>\n",
       "      <td>Cuauhtémoc</td>\n",
       "      <td>CUAUHTEMOC</td>\n",
       "      <td>GUERRERO</td>\n",
       "      <td>1</td>\n",
       "      <td>BAJO</td>\n",
       "    </tr>\n",
       "  </tbody>\n",
       "</table>\n",
       "<p>71102 rows × 6 columns</p>\n",
       "</div>"
      ],
      "text/plain": [
       "       anio             nomgeo           alcaldia             colonia  \\\n",
       "0      2019  Gustavo A. Madero  GUSTAVO A. MADERO      7 DE NOVIEMBRE   \n",
       "1      2019  Gustavo A. Madero  GUSTAVO A. MADERO      7 DE NOVIEMBRE   \n",
       "2      2019  Gustavo A. Madero  GUSTAVO A. MADERO      7 DE NOVIEMBRE   \n",
       "3      2019  Gustavo A. Madero  GUSTAVO A. MADERO  NUEVA TENOCHTITLAN   \n",
       "4      2019       Azcapotzalco       AZCAPOTZALCO            PROHOGAR   \n",
       "...     ...                ...                ...                 ...   \n",
       "71097  2019         Cuauhtémoc         CUAUHTEMOC            GUERRERO   \n",
       "71098  2019         Cuauhtémoc         CUAUHTEMOC            GUERRERO   \n",
       "71099  2019         Cuauhtémoc         CUAUHTEMOC            GUERRERO   \n",
       "71100  2019         Cuauhtémoc         CUAUHTEMOC            GUERRERO   \n",
       "71101  2019         Cuauhtémoc         CUAUHTEMOC            GUERRERO   \n",
       "\n",
       "       bimestre indice_des  \n",
       "0             3       ALTO  \n",
       "1             3      MEDIO  \n",
       "2             3    POPULAR  \n",
       "3             3       BAJO  \n",
       "4             3       BAJO  \n",
       "...         ...        ...  \n",
       "71097         1       BAJO  \n",
       "71098         1    POPULAR  \n",
       "71099         1       BAJO  \n",
       "71100         1       BAJO  \n",
       "71101         1       BAJO  \n",
       "\n",
       "[71102 rows x 6 columns]"
      ]
     },
     "execution_count": 101,
     "metadata": {},
     "output_type": "execute_result"
    }
   ],
   "source": [
    "dfx"
   ]
  },
  {
   "cell_type": "markdown",
   "metadata": {},
   "source": [
    "**Número de categorías**"
   ]
  },
  {
   "cell_type": "code",
   "execution_count": 104,
   "metadata": {
    "ExecuteTime": {
     "end_time": "2020-09-23T00:45:39.675310Z",
     "start_time": "2020-09-23T00:45:39.671655Z"
    }
   },
   "outputs": [
    {
     "data": {
      "text/plain": [
       "{'anio': 1,\n",
       " 'nomgeo': 17,\n",
       " 'alcaldia': 16,\n",
       " 'colonia': 1340,\n",
       " 'bimestre': 3,\n",
       " 'indice_des': 4}"
      ]
     },
     "execution_count": 104,
     "metadata": {},
     "output_type": "execute_result"
    }
   ],
   "source": [
    "u_vars_cat = {}\n",
    "for ent in u_vars:\n",
    "    if ent in cat_vars:\n",
    "        u_vars_cat[ent] = u_vars[ent]\n",
    "\n",
    "u_vars_cat"
   ]
  },
  {
   "cell_type": "markdown",
   "metadata": {},
   "source": [
    "**Valor de las categorías**"
   ]
  },
  {
   "cell_type": "code",
   "execution_count": null,
   "metadata": {},
   "outputs": [],
   "source": [
    "num_top_5[col] = dfx.groupby([col], as_index=False)[\"anio\"].count().rename(columns={\"anio\": \"Conteo\"}).sort_values(by=\"Conteo\", ascending=False).head(5)"
   ]
  },
  {
   "cell_type": "code",
   "execution_count": 106,
   "metadata": {
    "ExecuteTime": {
     "end_time": "2020-09-23T00:52:40.588895Z",
     "start_time": "2020-09-23T00:52:40.565142Z"
    }
   },
   "outputs": [
    {
     "data": {
      "text/html": [
       "<div>\n",
       "<style scoped>\n",
       "    .dataframe tbody tr th:only-of-type {\n",
       "        vertical-align: middle;\n",
       "    }\n",
       "\n",
       "    .dataframe tbody tr th {\n",
       "        vertical-align: top;\n",
       "    }\n",
       "\n",
       "    .dataframe thead th {\n",
       "        text-align: right;\n",
       "    }\n",
       "</style>\n",
       "<table border=\"1\" class=\"dataframe\">\n",
       "  <thead>\n",
       "    <tr style=\"text-align: right;\">\n",
       "      <th></th>\n",
       "      <th>nomgeo</th>\n",
       "      <th>anio</th>\n",
       "      <th>alcaldia</th>\n",
       "      <th>colonia</th>\n",
       "      <th>bimestre</th>\n",
       "      <th>indice_des</th>\n",
       "    </tr>\n",
       "  </thead>\n",
       "  <tbody>\n",
       "    <tr>\n",
       "      <th>0</th>\n",
       "      <td>Azcapotzalco</td>\n",
       "      <td>4216</td>\n",
       "      <td>4216</td>\n",
       "      <td>4216</td>\n",
       "      <td>4216</td>\n",
       "      <td>4216</td>\n",
       "    </tr>\n",
       "    <tr>\n",
       "      <th>1</th>\n",
       "      <td>Benito Juárez</td>\n",
       "      <td>6049</td>\n",
       "      <td>6049</td>\n",
       "      <td>6049</td>\n",
       "      <td>6049</td>\n",
       "      <td>6049</td>\n",
       "    </tr>\n",
       "    <tr>\n",
       "      <th>2</th>\n",
       "      <td>Coyoacán</td>\n",
       "      <td>4947</td>\n",
       "      <td>4947</td>\n",
       "      <td>4947</td>\n",
       "      <td>4947</td>\n",
       "      <td>4947</td>\n",
       "    </tr>\n",
       "    <tr>\n",
       "      <th>3</th>\n",
       "      <td>Cuajimalpa de Morelos</td>\n",
       "      <td>892</td>\n",
       "      <td>892</td>\n",
       "      <td>892</td>\n",
       "      <td>892</td>\n",
       "      <td>892</td>\n",
       "    </tr>\n",
       "    <tr>\n",
       "      <th>4</th>\n",
       "      <td>Cuauhtémoc</td>\n",
       "      <td>7313</td>\n",
       "      <td>7313</td>\n",
       "      <td>7313</td>\n",
       "      <td>7313</td>\n",
       "      <td>7313</td>\n",
       "    </tr>\n",
       "    <tr>\n",
       "      <th>5</th>\n",
       "      <td>Gustavo A. Madero</td>\n",
       "      <td>10058</td>\n",
       "      <td>10058</td>\n",
       "      <td>10058</td>\n",
       "      <td>10058</td>\n",
       "      <td>10058</td>\n",
       "    </tr>\n",
       "    <tr>\n",
       "      <th>6</th>\n",
       "      <td>Iztacalco</td>\n",
       "      <td>3469</td>\n",
       "      <td>3469</td>\n",
       "      <td>3469</td>\n",
       "      <td>3469</td>\n",
       "      <td>3469</td>\n",
       "    </tr>\n",
       "    <tr>\n",
       "      <th>7</th>\n",
       "      <td>Iztapalapa</td>\n",
       "      <td>10515</td>\n",
       "      <td>10515</td>\n",
       "      <td>10515</td>\n",
       "      <td>10515</td>\n",
       "      <td>10515</td>\n",
       "    </tr>\n",
       "    <tr>\n",
       "      <th>8</th>\n",
       "      <td>La Magdalena Contreras</td>\n",
       "      <td>955</td>\n",
       "      <td>955</td>\n",
       "      <td>955</td>\n",
       "      <td>955</td>\n",
       "      <td>955</td>\n",
       "    </tr>\n",
       "    <tr>\n",
       "      <th>9</th>\n",
       "      <td>Miguel Hidalgo</td>\n",
       "      <td>5110</td>\n",
       "      <td>5110</td>\n",
       "      <td>5110</td>\n",
       "      <td>5110</td>\n",
       "      <td>5110</td>\n",
       "    </tr>\n",
       "    <tr>\n",
       "      <th>10</th>\n",
       "      <td>Milpa Alta</td>\n",
       "      <td>650</td>\n",
       "      <td>650</td>\n",
       "      <td>650</td>\n",
       "      <td>650</td>\n",
       "      <td>650</td>\n",
       "    </tr>\n",
       "    <tr>\n",
       "      <th>11</th>\n",
       "      <td>Talpan</td>\n",
       "      <td>2140</td>\n",
       "      <td>2140</td>\n",
       "      <td>2140</td>\n",
       "      <td>2140</td>\n",
       "      <td>2140</td>\n",
       "    </tr>\n",
       "    <tr>\n",
       "      <th>12</th>\n",
       "      <td>Tlalpan</td>\n",
       "      <td>1064</td>\n",
       "      <td>1064</td>\n",
       "      <td>1064</td>\n",
       "      <td>1064</td>\n",
       "      <td>1064</td>\n",
       "    </tr>\n",
       "    <tr>\n",
       "      <th>13</th>\n",
       "      <td>Tláhuac</td>\n",
       "      <td>1955</td>\n",
       "      <td>1955</td>\n",
       "      <td>1955</td>\n",
       "      <td>1955</td>\n",
       "      <td>1955</td>\n",
       "    </tr>\n",
       "    <tr>\n",
       "      <th>14</th>\n",
       "      <td>Venustiano Carranza</td>\n",
       "      <td>5179</td>\n",
       "      <td>5179</td>\n",
       "      <td>5179</td>\n",
       "      <td>5179</td>\n",
       "      <td>5179</td>\n",
       "    </tr>\n",
       "    <tr>\n",
       "      <th>15</th>\n",
       "      <td>Xochimilco</td>\n",
       "      <td>2450</td>\n",
       "      <td>2450</td>\n",
       "      <td>2450</td>\n",
       "      <td>2450</td>\n",
       "      <td>2450</td>\n",
       "    </tr>\n",
       "    <tr>\n",
       "      <th>16</th>\n",
       "      <td>Álvaro Obregón</td>\n",
       "      <td>4140</td>\n",
       "      <td>4140</td>\n",
       "      <td>4140</td>\n",
       "      <td>4140</td>\n",
       "      <td>4140</td>\n",
       "    </tr>\n",
       "  </tbody>\n",
       "</table>\n",
       "</div>"
      ],
      "text/plain": [
       "                    nomgeo   anio  alcaldia  colonia  bimestre  indice_des\n",
       "0             Azcapotzalco   4216      4216     4216      4216        4216\n",
       "1            Benito Juárez   6049      6049     6049      6049        6049\n",
       "2                 Coyoacán   4947      4947     4947      4947        4947\n",
       "3    Cuajimalpa de Morelos    892       892      892       892         892\n",
       "4               Cuauhtémoc   7313      7313     7313      7313        7313\n",
       "5        Gustavo A. Madero  10058     10058    10058     10058       10058\n",
       "6                Iztacalco   3469      3469     3469      3469        3469\n",
       "7               Iztapalapa  10515     10515    10515     10515       10515\n",
       "8   La Magdalena Contreras    955       955      955       955         955\n",
       "9           Miguel Hidalgo   5110      5110     5110      5110        5110\n",
       "10              Milpa Alta    650       650      650       650         650\n",
       "11                  Talpan   2140      2140     2140      2140        2140\n",
       "12                 Tlalpan   1064      1064     1064      1064        1064\n",
       "13                 Tláhuac   1955      1955     1955      1955        1955\n",
       "14     Venustiano Carranza   5179      5179     5179      5179        5179\n",
       "15              Xochimilco   2450      2450     2450      2450        2450\n",
       "16          Álvaro Obregón   4140      4140     4140      4140        4140"
      ]
     },
     "execution_count": 106,
     "metadata": {},
     "output_type": "execute_result"
    }
   ],
   "source": [
    "dfx.groupby([\"nomgeo\"], as_index=False).count()"
   ]
  },
  {
   "cell_type": "markdown",
   "metadata": {},
   "source": [
    "**Profiling: Variables categóricas**\n",
    "\n",
    "- [x] Número de categorías\n",
    "- [ ] Valor de las categorías\n",
    "- [ ] Moda\n",
    "- [ ] Valores faltantes\n",
    "- [ ] Número de observaciones con valores faltantes\n",
    "- [ ] Proporción de observaciones por categoría\n",
    "- [ ] Top 1, top 2, top 3 (moda 1, moda 2, moda 3)\n",
    "- [ ] Faltas de ortografía ?"
   ]
  },
  {
   "cell_type": "markdown",
   "metadata": {
    "heading_collapsed": true
   },
   "source": [
    "#### ¿Qué conocemos ahora de este set de datos por variable?"
   ]
  },
  {
   "cell_type": "code",
   "execution_count": null,
   "metadata": {
    "hidden": true
   },
   "outputs": [],
   "source": []
  }
 ],
 "metadata": {
  "kernelspec": {
   "display_name": "itam_intro_to_ds",
   "language": "python",
   "name": "itam_intro_to_ds"
  },
  "language_info": {
   "codemirror_mode": {
    "name": "ipython",
    "version": 3
   },
   "file_extension": ".py",
   "mimetype": "text/x-python",
   "name": "python",
   "nbconvert_exporter": "python",
   "pygments_lexer": "ipython3",
   "version": "3.7.4"
  }
 },
 "nbformat": 4,
 "nbformat_minor": 4
}
