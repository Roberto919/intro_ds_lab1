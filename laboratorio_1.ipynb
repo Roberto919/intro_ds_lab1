{
 "cells": [
  {
   "cell_type": "markdown",
   "metadata": {},
   "source": [
    "# Laboratory 1\n",
    "- Author: Rob"
   ]
  },
  {
   "cell_type": "markdown",
   "metadata": {},
   "source": [
    "# Imports"
   ]
  },
  {
   "cell_type": "markdown",
   "metadata": {},
   "source": [
    "#### Python libraries"
   ]
  },
  {
   "cell_type": "code",
   "execution_count": 29,
   "metadata": {
    "ExecuteTime": {
     "end_time": "2020-09-25T18:51:56.575703Z",
     "start_time": "2020-09-25T18:51:56.557993Z"
    }
   },
   "outputs": [],
   "source": [
    "import sys\n",
    "\n",
    "import pandas as pd"
   ]
  },
  {
   "cell_type": "markdown",
   "metadata": {},
   "source": [
    "#### Acillary modules"
   ]
  },
  {
   "cell_type": "code",
   "execution_count": 30,
   "metadata": {
    "ExecuteTime": {
     "end_time": "2020-09-25T18:51:56.593741Z",
     "start_time": "2020-09-25T18:51:56.577430Z"
    }
   },
   "outputs": [
    {
     "name": "stdout",
     "output_type": "stream",
     "text": [
      "The autoreload extension is already loaded. To reload it, use:\n",
      "  %reload_ext autoreload\n"
     ]
    }
   ],
   "source": [
    "%load_ext autoreload\n",
    "%autoreload 2\n",
    "\n",
    "from utils.lab1_funcs import *"
   ]
  },
  {
   "cell_type": "markdown",
   "metadata": {},
   "source": [
    "# Loading data"
   ]
  },
  {
   "cell_type": "markdown",
   "metadata": {},
   "source": [
    "Data downloaded from -> https://datos.cdmx.gob.mx/explore/dataset/consumo-agua/export/"
   ]
  },
  {
   "cell_type": "code",
   "execution_count": 31,
   "metadata": {
    "ExecuteTime": {
     "end_time": "2020-09-25T18:51:58.026166Z",
     "start_time": "2020-09-25T18:51:56.596258Z"
    }
   },
   "outputs": [],
   "source": [
    "df = pd.read_csv(\"data/consumo-agua.csv\")"
   ]
  },
  {
   "cell_type": "code",
   "execution_count": 32,
   "metadata": {
    "ExecuteTime": {
     "end_time": "2020-09-25T18:51:58.070159Z",
     "start_time": "2020-09-25T18:51:58.028036Z"
    },
    "scrolled": true
   },
   "outputs": [
    {
     "data": {
      "text/html": [
       "<div>\n",
       "<style scoped>\n",
       "    .dataframe tbody tr th:only-of-type {\n",
       "        vertical-align: middle;\n",
       "    }\n",
       "\n",
       "    .dataframe tbody tr th {\n",
       "        vertical-align: top;\n",
       "    }\n",
       "\n",
       "    .dataframe thead th {\n",
       "        text-align: right;\n",
       "    }\n",
       "</style>\n",
       "<table border=\"1\" class=\"dataframe\">\n",
       "  <thead>\n",
       "    <tr style=\"text-align: right;\">\n",
       "      <th></th>\n",
       "      <th>Geo Point</th>\n",
       "      <th>Geo Shape</th>\n",
       "      <th>consumo_total_mixto</th>\n",
       "      <th>anio</th>\n",
       "      <th>nomgeo</th>\n",
       "      <th>consumo_prom_dom</th>\n",
       "      <th>consumo_total_dom</th>\n",
       "      <th>alcaldia</th>\n",
       "      <th>colonia</th>\n",
       "      <th>consumo_prom_mixto</th>\n",
       "      <th>consumo_total</th>\n",
       "      <th>consumo_prom</th>\n",
       "      <th>consumo_prom_no_dom</th>\n",
       "      <th>bimestre</th>\n",
       "      <th>consumo_total_no_dom</th>\n",
       "      <th>gid</th>\n",
       "      <th>indice_des</th>\n",
       "    </tr>\n",
       "  </thead>\n",
       "  <tbody>\n",
       "    <tr>\n",
       "      <th>0</th>\n",
       "      <td>19.4552601937,-99.1126617526</td>\n",
       "      <td>{\"type\": \"MultiPolygon\", \"coordinates\": [[[[-9...</td>\n",
       "      <td>159.72</td>\n",
       "      <td>2019</td>\n",
       "      <td>Gustavo A. Madero</td>\n",
       "      <td>42.566364</td>\n",
       "      <td>468.23</td>\n",
       "      <td>GUSTAVO A. MADERO</td>\n",
       "      <td>7 DE NOVIEMBRE</td>\n",
       "      <td>53.240000</td>\n",
       "      <td>631.00</td>\n",
       "      <td>42.066667</td>\n",
       "      <td>3.050000</td>\n",
       "      <td>3</td>\n",
       "      <td>3.05</td>\n",
       "      <td>57250</td>\n",
       "      <td>ALTO</td>\n",
       "    </tr>\n",
       "    <tr>\n",
       "      <th>1</th>\n",
       "      <td>19.4552601937,-99.1126617526</td>\n",
       "      <td>{\"type\": \"MultiPolygon\", \"coordinates\": [[[[-9...</td>\n",
       "      <td>0.00</td>\n",
       "      <td>2019</td>\n",
       "      <td>Gustavo A. Madero</td>\n",
       "      <td>35.936667</td>\n",
       "      <td>107.81</td>\n",
       "      <td>GUSTAVO A. MADERO</td>\n",
       "      <td>7 DE NOVIEMBRE</td>\n",
       "      <td>0.000000</td>\n",
       "      <td>115.13</td>\n",
       "      <td>28.782500</td>\n",
       "      <td>7.320000</td>\n",
       "      <td>3</td>\n",
       "      <td>7.32</td>\n",
       "      <td>57253</td>\n",
       "      <td>MEDIO</td>\n",
       "    </tr>\n",
       "    <tr>\n",
       "      <th>2</th>\n",
       "      <td>19.4557195871,-99.1135822797</td>\n",
       "      <td>{\"type\": \"MultiPolygon\", \"coordinates\": [[[[-9...</td>\n",
       "      <td>0.00</td>\n",
       "      <td>2019</td>\n",
       "      <td>Gustavo A. Madero</td>\n",
       "      <td>24.586000</td>\n",
       "      <td>122.93</td>\n",
       "      <td>GUSTAVO A. MADERO</td>\n",
       "      <td>7 DE NOVIEMBRE</td>\n",
       "      <td>0.000000</td>\n",
       "      <td>197.96</td>\n",
       "      <td>32.993333</td>\n",
       "      <td>75.030000</td>\n",
       "      <td>3</td>\n",
       "      <td>75.03</td>\n",
       "      <td>57255</td>\n",
       "      <td>POPULAR</td>\n",
       "    </tr>\n",
       "    <tr>\n",
       "      <th>3</th>\n",
       "      <td>19.4596467168,-99.1044693641</td>\n",
       "      <td>{\"type\": \"MultiPolygon\", \"coordinates\": [[[[-9...</td>\n",
       "      <td>0.00</td>\n",
       "      <td>2019</td>\n",
       "      <td>Gustavo A. Madero</td>\n",
       "      <td>0.000000</td>\n",
       "      <td>0.00</td>\n",
       "      <td>GUSTAVO A. MADERO</td>\n",
       "      <td>NUEVA TENOCHTITLAN</td>\n",
       "      <td>0.000000</td>\n",
       "      <td>253.53</td>\n",
       "      <td>84.510000</td>\n",
       "      <td>84.510000</td>\n",
       "      <td>3</td>\n",
       "      <td>253.53</td>\n",
       "      <td>57267</td>\n",
       "      <td>BAJO</td>\n",
       "    </tr>\n",
       "    <tr>\n",
       "      <th>4</th>\n",
       "      <td>19.4741606185,-99.1467497317</td>\n",
       "      <td>{\"type\": \"MultiPolygon\", \"coordinates\": [[[[-9...</td>\n",
       "      <td>56.72</td>\n",
       "      <td>2019</td>\n",
       "      <td>Azcapotzalco</td>\n",
       "      <td>67.436250</td>\n",
       "      <td>539.49</td>\n",
       "      <td>AZCAPOTZALCO</td>\n",
       "      <td>PROHOGAR</td>\n",
       "      <td>56.720000</td>\n",
       "      <td>839.35</td>\n",
       "      <td>76.304545</td>\n",
       "      <td>121.570000</td>\n",
       "      <td>3</td>\n",
       "      <td>243.14</td>\n",
       "      <td>57330</td>\n",
       "      <td>BAJO</td>\n",
       "    </tr>\n",
       "    <tr>\n",
       "      <th>...</th>\n",
       "      <td>...</td>\n",
       "      <td>...</td>\n",
       "      <td>...</td>\n",
       "      <td>...</td>\n",
       "      <td>...</td>\n",
       "      <td>...</td>\n",
       "      <td>...</td>\n",
       "      <td>...</td>\n",
       "      <td>...</td>\n",
       "      <td>...</td>\n",
       "      <td>...</td>\n",
       "      <td>...</td>\n",
       "      <td>...</td>\n",
       "      <td>...</td>\n",
       "      <td>...</td>\n",
       "      <td>...</td>\n",
       "      <td>...</td>\n",
       "    </tr>\n",
       "    <tr>\n",
       "      <th>71097</th>\n",
       "      <td>19.4485642979,-99.1399395353</td>\n",
       "      <td>{\"type\": \"MultiPolygon\", \"coordinates\": [[[[-9...</td>\n",
       "      <td>NaN</td>\n",
       "      <td>2019</td>\n",
       "      <td>Cuauhtémoc</td>\n",
       "      <td>20.053112</td>\n",
       "      <td>3930.41</td>\n",
       "      <td>CUAUHTEMOC</td>\n",
       "      <td>GUERRERO</td>\n",
       "      <td>NaN</td>\n",
       "      <td>4286.28</td>\n",
       "      <td>19.307568</td>\n",
       "      <td>13.687308</td>\n",
       "      <td>1</td>\n",
       "      <td>355.87</td>\n",
       "      <td>233</td>\n",
       "      <td>BAJO</td>\n",
       "    </tr>\n",
       "    <tr>\n",
       "      <th>71098</th>\n",
       "      <td>19.4493393649,-99.1457191092</td>\n",
       "      <td>{\"type\": \"MultiPolygon\", \"coordinates\": [[[[-9...</td>\n",
       "      <td>71.30</td>\n",
       "      <td>2019</td>\n",
       "      <td>Cuauhtémoc</td>\n",
       "      <td>21.126615</td>\n",
       "      <td>9549.24</td>\n",
       "      <td>CUAUHTEMOC</td>\n",
       "      <td>GUERRERO</td>\n",
       "      <td>35.650001</td>\n",
       "      <td>9796.12</td>\n",
       "      <td>20.976702</td>\n",
       "      <td>13.506923</td>\n",
       "      <td>1</td>\n",
       "      <td>175.59</td>\n",
       "      <td>238</td>\n",
       "      <td>POPULAR</td>\n",
       "    </tr>\n",
       "    <tr>\n",
       "      <th>71099</th>\n",
       "      <td>19.4483923147,-99.1459300721</td>\n",
       "      <td>{\"type\": \"MultiPolygon\", \"coordinates\": [[[[-9...</td>\n",
       "      <td>759.16</td>\n",
       "      <td>2019</td>\n",
       "      <td>Cuauhtémoc</td>\n",
       "      <td>27.527778</td>\n",
       "      <td>4707.25</td>\n",
       "      <td>CUAUHTEMOC</td>\n",
       "      <td>GUERRERO</td>\n",
       "      <td>94.894999</td>\n",
       "      <td>5692.81</td>\n",
       "      <td>29.344381</td>\n",
       "      <td>15.093334</td>\n",
       "      <td>1</td>\n",
       "      <td>226.40</td>\n",
       "      <td>239</td>\n",
       "      <td>BAJO</td>\n",
       "    </tr>\n",
       "    <tr>\n",
       "      <th>71100</th>\n",
       "      <td>19.4475868325,-99.1425094385</td>\n",
       "      <td>{\"type\": \"MultiPolygon\", \"coordinates\": [[[[-9...</td>\n",
       "      <td>402.65</td>\n",
       "      <td>2019</td>\n",
       "      <td>Cuauhtémoc</td>\n",
       "      <td>30.605000</td>\n",
       "      <td>550.89</td>\n",
       "      <td>CUAUHTEMOC</td>\n",
       "      <td>GUERRERO</td>\n",
       "      <td>100.662498</td>\n",
       "      <td>963.15</td>\n",
       "      <td>41.876087</td>\n",
       "      <td>9.610000</td>\n",
       "      <td>1</td>\n",
       "      <td>9.61</td>\n",
       "      <td>244</td>\n",
       "      <td>BAJO</td>\n",
       "    </tr>\n",
       "    <tr>\n",
       "      <th>71101</th>\n",
       "      <td>19.4474017534,-99.1397251034</td>\n",
       "      <td>{\"type\": \"MultiPolygon\", \"coordinates\": [[[[-9...</td>\n",
       "      <td>41.20</td>\n",
       "      <td>2019</td>\n",
       "      <td>Cuauhtémoc</td>\n",
       "      <td>22.507710</td>\n",
       "      <td>8552.94</td>\n",
       "      <td>CUAUHTEMOC</td>\n",
       "      <td>GUERRERO</td>\n",
       "      <td>13.733333</td>\n",
       "      <td>9000.07</td>\n",
       "      <td>21.951366</td>\n",
       "      <td>15.034444</td>\n",
       "      <td>1</td>\n",
       "      <td>405.93</td>\n",
       "      <td>247</td>\n",
       "      <td>BAJO</td>\n",
       "    </tr>\n",
       "  </tbody>\n",
       "</table>\n",
       "<p>71102 rows × 17 columns</p>\n",
       "</div>"
      ],
      "text/plain": [
       "                          Geo Point  \\\n",
       "0      19.4552601937,-99.1126617526   \n",
       "1      19.4552601937,-99.1126617526   \n",
       "2      19.4557195871,-99.1135822797   \n",
       "3      19.4596467168,-99.1044693641   \n",
       "4      19.4741606185,-99.1467497317   \n",
       "...                             ...   \n",
       "71097  19.4485642979,-99.1399395353   \n",
       "71098  19.4493393649,-99.1457191092   \n",
       "71099  19.4483923147,-99.1459300721   \n",
       "71100  19.4475868325,-99.1425094385   \n",
       "71101  19.4474017534,-99.1397251034   \n",
       "\n",
       "                                               Geo Shape  consumo_total_mixto  \\\n",
       "0      {\"type\": \"MultiPolygon\", \"coordinates\": [[[[-9...               159.72   \n",
       "1      {\"type\": \"MultiPolygon\", \"coordinates\": [[[[-9...                 0.00   \n",
       "2      {\"type\": \"MultiPolygon\", \"coordinates\": [[[[-9...                 0.00   \n",
       "3      {\"type\": \"MultiPolygon\", \"coordinates\": [[[[-9...                 0.00   \n",
       "4      {\"type\": \"MultiPolygon\", \"coordinates\": [[[[-9...                56.72   \n",
       "...                                                  ...                  ...   \n",
       "71097  {\"type\": \"MultiPolygon\", \"coordinates\": [[[[-9...                  NaN   \n",
       "71098  {\"type\": \"MultiPolygon\", \"coordinates\": [[[[-9...                71.30   \n",
       "71099  {\"type\": \"MultiPolygon\", \"coordinates\": [[[[-9...               759.16   \n",
       "71100  {\"type\": \"MultiPolygon\", \"coordinates\": [[[[-9...               402.65   \n",
       "71101  {\"type\": \"MultiPolygon\", \"coordinates\": [[[[-9...                41.20   \n",
       "\n",
       "       anio             nomgeo  consumo_prom_dom  consumo_total_dom  \\\n",
       "0      2019  Gustavo A. Madero         42.566364             468.23   \n",
       "1      2019  Gustavo A. Madero         35.936667             107.81   \n",
       "2      2019  Gustavo A. Madero         24.586000             122.93   \n",
       "3      2019  Gustavo A. Madero          0.000000               0.00   \n",
       "4      2019       Azcapotzalco         67.436250             539.49   \n",
       "...     ...                ...               ...                ...   \n",
       "71097  2019         Cuauhtémoc         20.053112            3930.41   \n",
       "71098  2019         Cuauhtémoc         21.126615            9549.24   \n",
       "71099  2019         Cuauhtémoc         27.527778            4707.25   \n",
       "71100  2019         Cuauhtémoc         30.605000             550.89   \n",
       "71101  2019         Cuauhtémoc         22.507710            8552.94   \n",
       "\n",
       "                alcaldia             colonia  consumo_prom_mixto  \\\n",
       "0      GUSTAVO A. MADERO      7 DE NOVIEMBRE           53.240000   \n",
       "1      GUSTAVO A. MADERO      7 DE NOVIEMBRE            0.000000   \n",
       "2      GUSTAVO A. MADERO      7 DE NOVIEMBRE            0.000000   \n",
       "3      GUSTAVO A. MADERO  NUEVA TENOCHTITLAN            0.000000   \n",
       "4           AZCAPOTZALCO            PROHOGAR           56.720000   \n",
       "...                  ...                 ...                 ...   \n",
       "71097         CUAUHTEMOC            GUERRERO                 NaN   \n",
       "71098         CUAUHTEMOC            GUERRERO           35.650001   \n",
       "71099         CUAUHTEMOC            GUERRERO           94.894999   \n",
       "71100         CUAUHTEMOC            GUERRERO          100.662498   \n",
       "71101         CUAUHTEMOC            GUERRERO           13.733333   \n",
       "\n",
       "       consumo_total  consumo_prom  consumo_prom_no_dom  bimestre  \\\n",
       "0             631.00     42.066667             3.050000         3   \n",
       "1             115.13     28.782500             7.320000         3   \n",
       "2             197.96     32.993333            75.030000         3   \n",
       "3             253.53     84.510000            84.510000         3   \n",
       "4             839.35     76.304545           121.570000         3   \n",
       "...              ...           ...                  ...       ...   \n",
       "71097        4286.28     19.307568            13.687308         1   \n",
       "71098        9796.12     20.976702            13.506923         1   \n",
       "71099        5692.81     29.344381            15.093334         1   \n",
       "71100         963.15     41.876087             9.610000         1   \n",
       "71101        9000.07     21.951366            15.034444         1   \n",
       "\n",
       "       consumo_total_no_dom    gid indice_des  \n",
       "0                      3.05  57250       ALTO  \n",
       "1                      7.32  57253      MEDIO  \n",
       "2                     75.03  57255    POPULAR  \n",
       "3                    253.53  57267       BAJO  \n",
       "4                    243.14  57330       BAJO  \n",
       "...                     ...    ...        ...  \n",
       "71097                355.87    233       BAJO  \n",
       "71098                175.59    238    POPULAR  \n",
       "71099                226.40    239       BAJO  \n",
       "71100                  9.61    244       BAJO  \n",
       "71101                405.93    247       BAJO  \n",
       "\n",
       "[71102 rows x 17 columns]"
      ]
     },
     "execution_count": 32,
     "metadata": {},
     "output_type": "execute_result"
    }
   ],
   "source": [
    "df"
   ]
  },
  {
   "cell_type": "markdown",
   "metadata": {},
   "source": [
    "# Data profiling"
   ]
  },
  {
   "cell_type": "markdown",
   "metadata": {},
   "source": [
    "## ¿Cuántas variables tenemos?"
   ]
  },
  {
   "cell_type": "code",
   "execution_count": 33,
   "metadata": {
    "ExecuteTime": {
     "end_time": "2020-09-25T18:51:58.087242Z",
     "start_time": "2020-09-25T18:51:58.071785Z"
    }
   },
   "outputs": [
    {
     "name": "stdout",
     "output_type": "stream",
     "text": [
      "Número de variables en los datos --> 17\n"
     ]
    }
   ],
   "source": [
    "count_vars(df)"
   ]
  },
  {
   "cell_type": "markdown",
   "metadata": {},
   "source": [
    "## ¿Cuántas observaciones tenemos?"
   ]
  },
  {
   "cell_type": "code",
   "execution_count": 34,
   "metadata": {
    "ExecuteTime": {
     "end_time": "2020-09-25T18:51:58.104549Z",
     "start_time": "2020-09-25T18:51:58.088988Z"
    }
   },
   "outputs": [
    {
     "name": "stdout",
     "output_type": "stream",
     "text": [
      "Número de observaciones en los datos --> 71102\n"
     ]
    }
   ],
   "source": [
    "count_obs(df)"
   ]
  },
  {
   "cell_type": "markdown",
   "metadata": {},
   "source": [
    "## ¿Cuántas observaciones únicas tenemos por variable?"
   ]
  },
  {
   "cell_type": "code",
   "execution_count": null,
   "metadata": {
    "ExecuteTime": {
     "end_time": "2020-09-22T23:53:23.721055Z",
     "start_time": "2020-09-22T23:53:23.590529Z"
    }
   },
   "outputs": [],
   "source": [
    "u_vars = {}\n",
    "for col in df.columns:\n",
    "    u_vars[col] = len(df[col].unique())"
   ]
  },
  {
   "cell_type": "code",
   "execution_count": null,
   "metadata": {
    "ExecuteTime": {
     "end_time": "2020-09-22T23:53:26.754415Z",
     "start_time": "2020-09-22T23:53:26.750382Z"
    }
   },
   "outputs": [],
   "source": [
    "u_vars"
   ]
  },
  {
   "cell_type": "code",
   "execution_count": null,
   "metadata": {
    "ExecuteTime": {
     "end_time": "2020-09-23T00:56:11.981581Z",
     "start_time": "2020-09-23T00:56:11.902047Z"
    }
   },
   "outputs": [],
   "source": [
    "df.nunique()"
   ]
  },
  {
   "cell_type": "markdown",
   "metadata": {},
   "source": [
    "## ¿Cuántas variables numéricas tenemos?"
   ]
  },
  {
   "cell_type": "markdown",
   "metadata": {},
   "source": [
    "Tenemos 8 variables numéricas"
   ]
  },
  {
   "cell_type": "code",
   "execution_count": null,
   "metadata": {
    "ExecuteTime": {
     "end_time": "2020-09-23T00:11:28.659975Z",
     "start_time": "2020-09-23T00:11:28.657097Z"
    }
   },
   "outputs": [],
   "source": [
    "num_vars = [\n",
    "    \"consumo_total_mixto\",\n",
    "    \"anio\", ## Puede ser también de fecha\n",
    "    \"consumo_prom_dom\",\n",
    "    \"consumo_total_dom\",\n",
    "    \"consumo_prom_mixto\",\n",
    "    \"consumo_total\",\n",
    "    \"consumo_prom\",\n",
    "    \"bimestre\", ## Puede ser categórica ordinal\n",
    "    \"consumo_prom_no_dom\",\n",
    "    \"gid\"\n",
    "]"
   ]
  },
  {
   "cell_type": "code",
   "execution_count": null,
   "metadata": {
    "ExecuteTime": {
     "end_time": "2020-09-23T00:58:05.832350Z",
     "start_time": "2020-09-23T00:58:05.829400Z"
    }
   },
   "outputs": [],
   "source": [
    "print(f\"Tenemos un total de {len(num_vars)} variables numéricas\")"
   ]
  },
  {
   "cell_type": "markdown",
   "metadata": {},
   "source": [
    "## ¿Cuántas variables de fecha tenemos?"
   ]
  },
  {
   "cell_type": "code",
   "execution_count": null,
   "metadata": {
    "ExecuteTime": {
     "end_time": "2020-09-23T00:12:42.007363Z",
     "start_time": "2020-09-23T00:12:42.005076Z"
    }
   },
   "outputs": [],
   "source": [
    "date_vars = [\n",
    "    \"anio\", ## Puede ser también de fecha\n",
    "]"
   ]
  },
  {
   "cell_type": "code",
   "execution_count": null,
   "metadata": {
    "ExecuteTime": {
     "end_time": "2020-09-23T00:58:23.111013Z",
     "start_time": "2020-09-23T00:58:23.108152Z"
    }
   },
   "outputs": [],
   "source": [
    "print(f\"Tenemos un total de {len(date_vars)} variable(s) de fecha\")"
   ]
  },
  {
   "cell_type": "markdown",
   "metadata": {},
   "source": [
    "## ¿Cuántas variables categóricas tenemos?"
   ]
  },
  {
   "cell_type": "code",
   "execution_count": null,
   "metadata": {
    "ExecuteTime": {
     "end_time": "2020-09-23T00:14:17.595449Z",
     "start_time": "2020-09-23T00:14:17.593079Z"
    }
   },
   "outputs": [],
   "source": [
    "cat_vars = [\n",
    "    \"anio\",\n",
    "    \"nomgeo\",\n",
    "    \"alcaldia\",\n",
    "    \"colonia\",\n",
    "    \"bimestre\",\n",
    "    \"indice_des\",\n",
    "]"
   ]
  },
  {
   "cell_type": "code",
   "execution_count": null,
   "metadata": {
    "ExecuteTime": {
     "end_time": "2020-09-23T00:58:41.842558Z",
     "start_time": "2020-09-23T00:58:41.839477Z"
    }
   },
   "outputs": [],
   "source": [
    "print(f\"Tenemos un total de {len(cat_vars)} variables categóricas\")"
   ]
  },
  {
   "cell_type": "markdown",
   "metadata": {},
   "source": [
    "## ¿Cuántas variables de texto tenemos?"
   ]
  },
  {
   "cell_type": "code",
   "execution_count": null,
   "metadata": {
    "ExecuteTime": {
     "end_time": "2020-09-23T00:16:29.494646Z",
     "start_time": "2020-09-23T00:16:29.492033Z"
    }
   },
   "outputs": [],
   "source": [
    "txt_vars = [\n",
    "    \"nomgeo\",\n",
    "    \"alcaldia\",\n",
    "    \"colonia\",\n",
    "    \"indice_des\",\n",
    "]"
   ]
  },
  {
   "cell_type": "code",
   "execution_count": null,
   "metadata": {
    "ExecuteTime": {
     "end_time": "2020-09-23T00:59:19.319191Z",
     "start_time": "2020-09-23T00:59:19.316291Z"
    }
   },
   "outputs": [],
   "source": [
    "print(f\"Tenemos un total de {len(txt_vars)} variables de text\")"
   ]
  },
  {
   "cell_type": "markdown",
   "metadata": {
    "heading_collapsed": true
   },
   "source": [
    "## Generea el profiling de cada variable"
   ]
  },
  {
   "cell_type": "markdown",
   "metadata": {
    "hidden": true
   },
   "source": [
    "**Profiling: variables numéricas**"
   ]
  },
  {
   "cell_type": "markdown",
   "metadata": {
    "hidden": true
   },
   "source": [
    "- [x] Tipo de dato: float, integer\n",
    "- [x] Número de observaciones\n",
    "- [x] Mean\n",
    "- [x] Desviación estándar\n",
    "- [x] Cuartiles: 25%, 50%, 75%\n",
    "- [x] Valor máximo\n",
    "- [x] Valor mínimo\n",
    "- [x] Número de observaciones únicos\n",
    "- [x] Top 5 observaciones repetidas\n",
    "- [x] Número de observaciones con valores faltantes\n",
    "- [ ] ¿Hay redondeos?"
   ]
  },
  {
   "cell_type": "code",
   "execution_count": null,
   "metadata": {
    "ExecuteTime": {
     "end_time": "2020-09-23T01:00:50.174437Z",
     "start_time": "2020-09-23T01:00:50.168781Z"
    },
    "hidden": true
   },
   "outputs": [],
   "source": [
    "dfx = df.loc[:, num_vars]"
   ]
  },
  {
   "cell_type": "code",
   "execution_count": null,
   "metadata": {
    "ExecuteTime": {
     "end_time": "2020-09-23T01:00:50.192694Z",
     "start_time": "2020-09-23T01:00:50.176178Z"
    },
    "hidden": true
   },
   "outputs": [],
   "source": [
    "dfx"
   ]
  },
  {
   "cell_type": "markdown",
   "metadata": {
    "hidden": true
   },
   "source": [
    "**Descripción de los datos**"
   ]
  },
  {
   "cell_type": "code",
   "execution_count": null,
   "metadata": {
    "ExecuteTime": {
     "end_time": "2020-09-23T01:00:50.255182Z",
     "start_time": "2020-09-23T01:00:50.194772Z"
    },
    "hidden": true
   },
   "outputs": [],
   "source": [
    "dfx.describe()"
   ]
  },
  {
   "cell_type": "markdown",
   "metadata": {
    "hidden": true
   },
   "source": [
    "**Conteo de variables numéricas únicas**"
   ]
  },
  {
   "cell_type": "code",
   "execution_count": null,
   "metadata": {
    "ExecuteTime": {
     "end_time": "2020-09-23T01:00:50.262283Z",
     "start_time": "2020-09-23T01:00:50.257602Z"
    },
    "hidden": true
   },
   "outputs": [],
   "source": [
    "u_vars_num = {}\n",
    "for ent in u_vars:\n",
    "    if ent in num_vars:\n",
    "        u_vars_num[ent] = u_vars[ent]\n",
    "\n",
    "u_vars_num"
   ]
  },
  {
   "cell_type": "code",
   "execution_count": null,
   "metadata": {
    "ExecuteTime": {
     "end_time": "2020-09-23T01:00:56.460845Z",
     "start_time": "2020-09-23T01:00:56.437385Z"
    },
    "hidden": true
   },
   "outputs": [],
   "source": [
    "dfx.nunique()"
   ]
  },
  {
   "cell_type": "markdown",
   "metadata": {
    "hidden": true
   },
   "source": [
    "**Top 5 observaciones repetidas**"
   ]
  },
  {
   "cell_type": "code",
   "execution_count": null,
   "metadata": {
    "ExecuteTime": {
     "end_time": "2020-09-23T00:36:56.748577Z",
     "start_time": "2020-09-23T00:36:56.745285Z"
    },
    "hidden": true
   },
   "outputs": [],
   "source": [
    "def top_5(col):\n",
    "    num_top_5[col] = dfx.groupby([col], as_index=False)[\"anio\"].count().rename(columns={\"anio\": \"Conteo\"}).sort_values(by=\"Conteo\", ascending=False).head(5)"
   ]
  },
  {
   "cell_type": "code",
   "execution_count": null,
   "metadata": {
    "ExecuteTime": {
     "end_time": "2020-09-23T00:36:56.069702Z",
     "start_time": "2020-09-23T00:36:55.949721Z"
    },
    "hidden": true
   },
   "outputs": [],
   "source": [
    "num_top_5 = {}\n",
    "for col in num_vars:\n",
    "    top_5(col)"
   ]
  },
  {
   "cell_type": "code",
   "execution_count": null,
   "metadata": {
    "ExecuteTime": {
     "end_time": "2020-09-23T00:37:10.268083Z",
     "start_time": "2020-09-23T00:37:10.264698Z"
    },
    "hidden": true
   },
   "outputs": [],
   "source": [
    "num_vars"
   ]
  },
  {
   "cell_type": "code",
   "execution_count": null,
   "metadata": {
    "ExecuteTime": {
     "end_time": "2020-09-23T00:38:36.590295Z",
     "start_time": "2020-09-23T00:38:36.584266Z"
    },
    "hidden": true
   },
   "outputs": [],
   "source": [
    "num_top_5[\"bimestre\"]"
   ]
  },
  {
   "cell_type": "markdown",
   "metadata": {
    "hidden": true
   },
   "source": [
    "**Tipo de dato: float, integer**"
   ]
  },
  {
   "cell_type": "markdown",
   "metadata": {
    "hidden": true
   },
   "source": [
    "**Número de observaciones con valores faltantes**"
   ]
  },
  {
   "cell_type": "code",
   "execution_count": null,
   "metadata": {
    "ExecuteTime": {
     "end_time": "2020-09-23T00:41:23.940561Z",
     "start_time": "2020-09-23T00:41:23.934808Z"
    },
    "hidden": true
   },
   "outputs": [],
   "source": [
    "dfx.isnull().sum()"
   ]
  },
  {
   "cell_type": "markdown",
   "metadata": {
    "hidden": true
   },
   "source": [
    "**¿Hay redondeos?**"
   ]
  },
  {
   "cell_type": "code",
   "execution_count": null,
   "metadata": {
    "ExecuteTime": {
     "end_time": "2020-09-23T00:44:28.812092Z",
     "start_time": "2020-09-23T00:44:28.806184Z"
    },
    "hidden": true
   },
   "outputs": [],
   "source": [
    "dfx = df.loc[:, cat_vars]"
   ]
  },
  {
   "cell_type": "code",
   "execution_count": null,
   "metadata": {
    "ExecuteTime": {
     "end_time": "2020-09-23T00:44:30.176888Z",
     "start_time": "2020-09-23T00:44:30.164767Z"
    },
    "hidden": true,
    "scrolled": true
   },
   "outputs": [],
   "source": [
    "dfx"
   ]
  },
  {
   "cell_type": "markdown",
   "metadata": {
    "hidden": true
   },
   "source": [
    "**Número de categorías**"
   ]
  },
  {
   "cell_type": "code",
   "execution_count": null,
   "metadata": {
    "ExecuteTime": {
     "end_time": "2020-09-23T00:45:39.675310Z",
     "start_time": "2020-09-23T00:45:39.671655Z"
    },
    "hidden": true
   },
   "outputs": [],
   "source": [
    "u_vars_cat = {}\n",
    "for ent in u_vars:\n",
    "    if ent in cat_vars:\n",
    "        u_vars_cat[ent] = u_vars[ent]\n",
    "\n",
    "u_vars_cat"
   ]
  },
  {
   "cell_type": "markdown",
   "metadata": {
    "hidden": true
   },
   "source": [
    "**Valor de las categorías**"
   ]
  },
  {
   "cell_type": "code",
   "execution_count": null,
   "metadata": {
    "hidden": true
   },
   "outputs": [],
   "source": [
    "num_top_5[col] = dfx.groupby([col], as_index=False)[\"anio\"].count().rename(columns={\"anio\": \"Conteo\"}).sort_values(by=\"Conteo\", ascending=False).head(5)"
   ]
  },
  {
   "cell_type": "code",
   "execution_count": null,
   "metadata": {
    "ExecuteTime": {
     "end_time": "2020-09-23T00:52:40.588895Z",
     "start_time": "2020-09-23T00:52:40.565142Z"
    },
    "hidden": true
   },
   "outputs": [],
   "source": [
    "dfx.groupby([\"nomgeo\"], as_index=False).count()"
   ]
  },
  {
   "cell_type": "markdown",
   "metadata": {
    "hidden": true
   },
   "source": [
    "**Profiling: Variables categóricas**\n",
    "\n",
    "- [x] Número de categorías\n",
    "- [ ] Valor de las categorías\n",
    "- [ ] Moda\n",
    "- [ ] Valores faltantes\n",
    "- [ ] Número de observaciones con valores faltantes\n",
    "- [ ] Proporción de observaciones por categoría\n",
    "- [ ] Top 1, top 2, top 3 (moda 1, moda 2, moda 3)\n",
    "- [ ] Faltas de ortografía ?"
   ]
  },
  {
   "cell_type": "markdown",
   "metadata": {},
   "source": [
    "## Transformar el nombre de las columnas a formato estándar: minúsculas, sin espacios en blanco -cambiar por guiónes bajos-, sin signos de puntuación"
   ]
  },
  {
   "cell_type": "code",
   "execution_count": null,
   "metadata": {},
   "outputs": [],
   "source": []
  },
  {
   "cell_type": "markdown",
   "metadata": {},
   "source": [
    "## Transformación de variables geoespaciales\n",
    "- Agregar la variable `latitud` y `longitud` generadas a partir de la column `geo_point`.\n",
    "- Pasar la variable `latitud` y `longitud` a numérica -si no la tomó como numérica-.\n",
    "- Eliminar la columna `geo_point` -una vez que creaste la variable `latitud` y `longitud`.\n",
    "- Eliminar la columna `geo_shape`.\n",
    "- Cambiar a minúsculas las columnas `alcaldía`, `colonia` e `indice_des`."
   ]
  },
  {
   "cell_type": "markdown",
   "metadata": {},
   "source": [
    "---\n",
    "---"
   ]
  }
 ],
 "metadata": {
  "kernelspec": {
   "display_name": "itam_intro_to_ds",
   "language": "python",
   "name": "itam_intro_to_ds"
  },
  "language_info": {
   "codemirror_mode": {
    "name": "ipython",
    "version": 3
   },
   "file_extension": ".py",
   "mimetype": "text/x-python",
   "name": "python",
   "nbconvert_exporter": "python",
   "pygments_lexer": "ipython3",
   "version": "3.7.4"
  }
 },
 "nbformat": 4,
 "nbformat_minor": 4
}
