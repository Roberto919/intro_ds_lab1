{
 "cells": [
  {
   "cell_type": "markdown",
   "metadata": {},
   "source": [
    "# Laboratory 1\n",
    "    Authors:\n",
    "    - Roberto Pérez \n",
    "    - Arturo Bringas\n",
    "    - Edgar Bazo\n",
    "    - Mariana Lugo"
   ]
  },
  {
   "cell_type": "markdown",
   "metadata": {},
   "source": [
    "# Imports"
   ]
  },
  {
   "cell_type": "markdown",
   "metadata": {},
   "source": [
    "#### Python libraries"
   ]
  },
  {
   "cell_type": "code",
   "execution_count": null,
   "metadata": {
    "ExecuteTime": {
     "end_time": "2020-10-15T18:41:06.472508Z",
     "start_time": "2020-10-15T18:41:04.387922Z"
    }
   },
   "outputs": [],
   "source": [
    "import sys\n",
    "import pandas as pd\n",
    "import numpy as np\n",
    "import re\n",
    "import unicodedata\n",
    "from pandas_profiling import ProfileReport\n",
    "import plotly.graph_objects as go\n",
    "import plotly.express as px\n",
    "import seaborn as sns\n",
    "import matplotlib.pyplot as plt\n",
    "import plotly.figure_factory as ff\n",
    "import probscale\n",
    "from scipy import stats"
   ]
  },
  {
   "cell_type": "markdown",
   "metadata": {},
   "source": [
    "#### Acillary modules"
   ]
  },
  {
   "cell_type": "code",
   "execution_count": null,
   "metadata": {
    "ExecuteTime": {
     "end_time": "2020-10-15T18:50:24.357249Z",
     "start_time": "2020-10-15T18:50:24.158668Z"
    }
   },
   "outputs": [],
   "source": [
    "%reload_ext autoreload\n",
    "%autoreload 2\n",
    "\n",
    "from utils.lab1_funcs import *"
   ]
  },
  {
   "cell_type": "markdown",
   "metadata": {},
   "source": [
    "# Loading data"
   ]
  },
  {
   "cell_type": "markdown",
   "metadata": {},
   "source": [
    "Data downloaded from -> https://datos.cdmx.gob.mx/explore/dataset/consumo-agua/export/"
   ]
  },
  {
   "cell_type": "code",
   "execution_count": null,
   "metadata": {
    "ExecuteTime": {
     "end_time": "2020-10-15T18:41:08.136493Z",
     "start_time": "2020-10-15T18:41:06.521920Z"
    }
   },
   "outputs": [],
   "source": [
    "df = pd.read_csv(\"data/consumo-agua.csv\")"
   ]
  },
  {
   "cell_type": "code",
   "execution_count": null,
   "metadata": {
    "ExecuteTime": {
     "end_time": "2020-10-15T18:41:08.198760Z",
     "start_time": "2020-10-15T18:41:08.138611Z"
    },
    "scrolled": true
   },
   "outputs": [],
   "source": [
    "df"
   ]
  },
  {
   "cell_type": "markdown",
   "metadata": {},
   "source": [
    "# Exploratory Data Analysis (EDA)\n",
    "## Data profiling"
   ]
  },
  {
   "cell_type": "markdown",
   "metadata": {},
   "source": [
    "## ¿Cuántas variables tenemos?"
   ]
  },
  {
   "cell_type": "code",
   "execution_count": null,
   "metadata": {
    "ExecuteTime": {
     "end_time": "2020-10-15T18:41:08.231958Z",
     "start_time": "2020-10-15T18:41:08.200447Z"
    }
   },
   "outputs": [],
   "source": [
    "count_vars(df)"
   ]
  },
  {
   "cell_type": "markdown",
   "metadata": {},
   "source": [
    "## ¿Cuántas observaciones tenemos?"
   ]
  },
  {
   "cell_type": "code",
   "execution_count": null,
   "metadata": {
    "ExecuteTime": {
     "end_time": "2020-10-15T18:41:08.267144Z",
     "start_time": "2020-10-15T18:41:08.233346Z"
    }
   },
   "outputs": [],
   "source": [
    "count_obs(df)"
   ]
  },
  {
   "cell_type": "markdown",
   "metadata": {},
   "source": [
    "## ¿Cuántas observaciones únicas tenemos por variable?"
   ]
  },
  {
   "cell_type": "code",
   "execution_count": null,
   "metadata": {
    "ExecuteTime": {
     "end_time": "2020-10-15T18:41:08.441015Z",
     "start_time": "2020-10-15T18:41:08.269267Z"
    }
   },
   "outputs": [],
   "source": [
    "count_unique_obs(df)"
   ]
  },
  {
   "cell_type": "markdown",
   "metadata": {},
   "source": [
    "## ¿Cuántas variables numéricas tenemos?"
   ]
  },
  {
   "cell_type": "markdown",
   "metadata": {},
   "source": [
    "Tenemos 8 variables numéricas"
   ]
  },
  {
   "cell_type": "code",
   "execution_count": null,
   "metadata": {
    "ExecuteTime": {
     "end_time": "2020-10-15T18:41:08.477773Z",
     "start_time": "2020-10-15T18:41:08.444405Z"
    }
   },
   "outputs": [],
   "source": [
    "vars_num = [\"consumo_total\",\n",
    "    \"consumo_total_dom\",\n",
    "    \"consumo_total_no_dom\", \n",
    "    \"consumo_total_mixto\",\n",
    "    \"consumo_prom\",        \n",
    "    \"consumo_prom_dom\",\n",
    "    \"consumo_prom_no_dom\",\n",
    "    \"consumo_prom_mixto\"]"
   ]
  },
  {
   "cell_type": "code",
   "execution_count": null,
   "metadata": {
    "ExecuteTime": {
     "end_time": "2020-10-15T18:41:08.520205Z",
     "start_time": "2020-10-15T18:41:08.480837Z"
    }
   },
   "outputs": [],
   "source": [
    "count_type_vars(vars_num, \"numerica\")"
   ]
  },
  {
   "cell_type": "markdown",
   "metadata": {},
   "source": [
    "## ¿Cuántas variables de fecha tenemos?\n",
    "- Para efectos de este ejercicio, no hay ninguna variable de tipo fecha, o que consideremos de fecha."
   ]
  },
  {
   "cell_type": "markdown",
   "metadata": {},
   "source": [
    "## ¿Cuántas variables categóricas tenemos?"
   ]
  },
  {
   "cell_type": "code",
   "execution_count": null,
   "metadata": {
    "ExecuteTime": {
     "end_time": "2020-10-15T18:41:08.556567Z",
     "start_time": "2020-10-15T18:41:08.521990Z"
    }
   },
   "outputs": [],
   "source": [
    "cat_vars = [\n",
    "    \"anio\",\n",
    "    \"nomgeo\",\n",
    "    \"alcaldia\",\n",
    "    \"colonia\",\n",
    "    \"bimestre\",\n",
    "    \"indice_des\",\n",
    "]"
   ]
  },
  {
   "cell_type": "code",
   "execution_count": null,
   "metadata": {
    "ExecuteTime": {
     "end_time": "2020-10-15T18:41:08.600185Z",
     "start_time": "2020-10-15T18:41:08.558197Z"
    }
   },
   "outputs": [],
   "source": [
    "count_type_vars(cat_vars, \"categórica\")"
   ]
  },
  {
   "cell_type": "markdown",
   "metadata": {},
   "source": [
    "## ¿Cuántas variables de texto tenemos?\n",
    "- Para efectos de este ejercicio, no hay ninguna variable de tipo texto, o que consideremos de texto. Se podría considerar a la variable `gid` como un identificador de texto."
   ]
  },
  {
   "cell_type": "code",
   "execution_count": null,
   "metadata": {
    "ExecuteTime": {
     "end_time": "2020-10-15T18:41:08.635779Z",
     "start_time": "2020-10-15T18:41:08.601966Z"
    }
   },
   "outputs": [],
   "source": [
    "vars_text = [\"gid\"]"
   ]
  },
  {
   "cell_type": "code",
   "execution_count": null,
   "metadata": {
    "ExecuteTime": {
     "end_time": "2020-10-15T18:41:08.674550Z",
     "start_time": "2020-10-15T18:41:08.637494Z"
    }
   },
   "outputs": [],
   "source": [
    "count_type_vars(vars_text, \"texto\")"
   ]
  },
  {
   "cell_type": "markdown",
   "metadata": {},
   "source": [
    "## Generea el profiling de cada variable"
   ]
  },
  {
   "cell_type": "markdown",
   "metadata": {},
   "source": [
    "### Numeric data profiling"
   ]
  },
  {
   "cell_type": "markdown",
   "metadata": {},
   "source": [
    "- [x] Tipo de dato: float, integer\n",
    "- [x] Número de observaciones\n",
    "- [x] Mean\n",
    "- [x] Desviación estándar\n",
    "- [x] Cuartiles: 25%, 50%, 75%\n",
    "- [x] Valor máximo\n",
    "- [x] Valor mínimo\n",
    "- [x] Número de observaciones únicos\n",
    "- [x] Top 5 observaciones repetidas\n",
    "- [x] Número de observaciones con valores faltantes\n",
    "- [x] ¿Hay redondeos? -> Se observa que los datos de los totales en el consumo (dom, mixto, no_dom) están a dos decimales desde la fuente. Los datos de los promedios del consumo (dom, mixto, no_dom) tienen seis decimales desde la fuente.  No podemos asegurar que los datos, tanto de los totales, como de los promedios,  están redondeados."
   ]
  },
  {
   "cell_type": "markdown",
   "metadata": {},
   "source": [
    "#### Función para perfil de datos numérico"
   ]
  },
  {
   "cell_type": "code",
   "execution_count": null,
   "metadata": {
    "ExecuteTime": {
     "end_time": "2020-10-15T18:41:08.872134Z",
     "start_time": "2020-10-15T18:41:08.676054Z"
    },
    "scrolled": true
   },
   "outputs": [],
   "source": [
    "## Data profiling compacted in function\n",
    "data_profiling_numeric(df, vars_num)"
   ]
  },
  {
   "cell_type": "markdown",
   "metadata": {},
   "source": [
    "### Categoric data profiling"
   ]
  },
  {
   "cell_type": "markdown",
   "metadata": {},
   "source": [
    "**Profiling: Variables categóricas**\n",
    "\n",
    "- [x] Número de categorías\n",
    "- [x] Valor de las categorías\n",
    "- [x] Moda\n",
    "- [x] Valores faltantes\n",
    "- [x] Número de observaciones con valores faltantes\n",
    "- [x] Proporción de observaciones por categoría\n",
    "- [x] Top 1, top 2, top 3 (moda 1, moda 2, moda 3)\n",
    "- [x] Faltas de ortografía ?"
   ]
  },
  {
   "cell_type": "code",
   "execution_count": null,
   "metadata": {
    "ExecuteTime": {
     "end_time": "2020-10-15T18:41:09.031623Z",
     "start_time": "2020-10-15T18:41:08.874014Z"
    }
   },
   "outputs": [],
   "source": [
    "#data profiling function\n",
    "data_profiling_categ(df,cat_vars)"
   ]
  },
  {
   "cell_type": "markdown",
   "metadata": {},
   "source": [
    "### Additional data profiling"
   ]
  },
  {
   "cell_type": "markdown",
   "metadata": {},
   "source": [
    "- En este ejercicio particular no se contó con variables del siguiente tipo para hacer el profiling:\n",
    "    - Imágen\n",
    "    - Audio"
   ]
  },
  {
   "cell_type": "markdown",
   "metadata": {},
   "source": [
    "## ¿Qué conocemos ahora de este set de datos por variable?"
   ]
  },
  {
   "cell_type": "markdown",
   "metadata": {},
   "source": [
    "1. ¿Cuántas alcadías tienes?\n",
    "    - Hay un total de 16 alcaldías"
   ]
  },
  {
   "cell_type": "markdown",
   "metadata": {},
   "source": [
    "2. ¿Cuántos `nomgeo` tienes?\n",
    "    - Hay un total de 17 nomgeo"
   ]
  },
  {
   "cell_type": "markdown",
   "metadata": {},
   "source": [
    "3. ¿Identificas algún error?\n",
    "    - Hay una categoría con un error ortográfico: Existen 2140 observaciones en la columna **nomgeo** que dice: Talpan y 1064 observaciones que dicen: Tlalpan"
   ]
  },
  {
   "cell_type": "markdown",
   "metadata": {},
   "source": [
    "## Transformar el nombre de las columnas a formato estándar: minúsculas, sin espacios en blanco -cambiar por guiónes bajos-, sin signos de puntuación"
   ]
  },
  {
   "cell_type": "code",
   "execution_count": null,
   "metadata": {
    "ExecuteTime": {
     "end_time": "2020-10-15T18:41:09.071778Z",
     "start_time": "2020-10-15T18:41:09.033325Z"
    }
   },
   "outputs": [],
   "source": [
    "df_cleancols = clean_col_names(df)"
   ]
  },
  {
   "cell_type": "code",
   "execution_count": null,
   "metadata": {
    "ExecuteTime": {
     "end_time": "2020-10-15T18:41:09.129145Z",
     "start_time": "2020-10-15T18:41:09.073647Z"
    },
    "scrolled": true
   },
   "outputs": [],
   "source": [
    "df_cleancols"
   ]
  },
  {
   "cell_type": "markdown",
   "metadata": {},
   "source": [
    "## Transformación de variables geoespaciales\n",
    "- Agregar la variable `latitud` y `longitud` generadas a partir de la column `geo_point`.\n",
    "- Pasar la variable `latitud` y `longitud` a numérica -si no la tomó como numérica-.\n",
    "- Eliminar la columna `geo_point` -una vez que creaste la variable `latitud` y `longitud`.\n",
    "- Eliminar la columna `geo_shape`.\n",
    "- Cambiar a minúsculas las columnas `alcaldía`, `colonia` e `indice_des`."
   ]
  },
  {
   "cell_type": "code",
   "execution_count": null,
   "metadata": {
    "ExecuteTime": {
     "end_time": "2020-10-15T18:41:09.419766Z",
     "start_time": "2020-10-15T18:41:09.130753Z"
    },
    "scrolled": true
   },
   "outputs": [],
   "source": [
    "df_geotransform = geo_transformation(df_cleancols, \"geo_point\", \"geo_shape\")\n",
    "df_geotransform"
   ]
  },
  {
   "cell_type": "markdown",
   "metadata": {},
   "source": [
    "## Geospatial data profiling"
   ]
  },
  {
   "cell_type": "code",
   "execution_count": null,
   "metadata": {
    "ExecuteTime": {
     "end_time": "2020-10-15T18:41:09.879925Z",
     "start_time": "2020-10-15T18:41:09.421347Z"
    }
   },
   "outputs": [],
   "source": [
    "geo_vars = [\"latitud\", \"longitud\"]\n",
    "\n",
    "geo_vars_precision(df_geotransform, geo_vars)"
   ]
  },
  {
   "cell_type": "markdown",
   "metadata": {},
   "source": [
    "- Cambiar a minúsculas las columnas `alcaldía`, `colonia` e `indice_des`."
   ]
  },
  {
   "cell_type": "code",
   "execution_count": null,
   "metadata": {
    "ExecuteTime": {
     "end_time": "2020-10-15T18:41:09.987004Z",
     "start_time": "2020-10-15T18:41:09.881549Z"
    }
   },
   "outputs": [],
   "source": [
    "vars_lower=[\"indice_des\", \"alcaldia\", \"colonia\",\"nomgeo\"]\n",
    "\n",
    "df_lower_values = convert_lower(df_geotransform, vars_lower)"
   ]
  },
  {
   "cell_type": "markdown",
   "metadata": {},
   "source": [
    "## Corrección de observaciones seleccionadas"
   ]
  },
  {
   "cell_type": "markdown",
   "metadata": {},
   "source": [
    "- Nótese que hay una entrada llamada \"talpan\" que debería ser \"tlalpan\""
   ]
  },
  {
   "cell_type": "code",
   "execution_count": null,
   "metadata": {
    "ExecuteTime": {
     "end_time": "2020-10-15T18:41:10.029045Z",
     "start_time": "2020-10-15T18:41:09.988531Z"
    }
   },
   "outputs": [],
   "source": [
    " df_lower_values[\"nomgeo\"].value_counts()"
   ]
  },
  {
   "cell_type": "code",
   "execution_count": null,
   "metadata": {
    "ExecuteTime": {
     "end_time": "2020-10-15T18:41:10.060645Z",
     "start_time": "2020-10-15T18:41:10.030617Z"
    }
   },
   "outputs": [],
   "source": [
    "dicc_cor = {\n",
    "    \"nomgeo\": {\n",
    "        \"talpan\": \"tlalpan\"\n",
    "    }\n",
    "}"
   ]
  },
  {
   "cell_type": "code",
   "execution_count": null,
   "metadata": {
    "ExecuteTime": {
     "end_time": "2020-10-15T18:41:10.100132Z",
     "start_time": "2020-10-15T18:41:10.066837Z"
    }
   },
   "outputs": [],
   "source": [
    "df_correct = correct_selected_entries(df_lower_values, dicc_cor)"
   ]
  },
  {
   "cell_type": "code",
   "execution_count": null,
   "metadata": {
    "ExecuteTime": {
     "end_time": "2020-10-15T18:41:10.142540Z",
     "start_time": "2020-10-15T18:41:10.103570Z"
    }
   },
   "outputs": [],
   "source": [
    "df_correct[\"nomgeo\"].value_counts() "
   ]
  },
  {
   "cell_type": "markdown",
   "metadata": {
    "heading_collapsed": true
   },
   "source": [
    "# Review Changes"
   ]
  },
  {
   "cell_type": "markdown",
   "metadata": {
    "heading_collapsed": true,
    "hidden": true
   },
   "source": [
    "## ¿Cuántas variables tenemos?"
   ]
  },
  {
   "cell_type": "code",
   "execution_count": null,
   "metadata": {
    "ExecuteTime": {
     "end_time": "2020-10-15T18:41:10.175225Z",
     "start_time": "2020-10-15T18:41:10.144141Z"
    },
    "hidden": true
   },
   "outputs": [],
   "source": [
    "count_vars(df_correct)"
   ]
  },
  {
   "cell_type": "markdown",
   "metadata": {
    "heading_collapsed": true,
    "hidden": true
   },
   "source": [
    "## ¿Cuántas observaciones tenemos?"
   ]
  },
  {
   "cell_type": "code",
   "execution_count": null,
   "metadata": {
    "ExecuteTime": {
     "end_time": "2020-10-15T18:41:10.208172Z",
     "start_time": "2020-10-15T18:41:10.176697Z"
    },
    "hidden": true
   },
   "outputs": [],
   "source": [
    "count_obs(df_correct)"
   ]
  },
  {
   "cell_type": "markdown",
   "metadata": {
    "heading_collapsed": true,
    "hidden": true
   },
   "source": [
    "## ¿Cuántas observaciones únicas tenemos por variable?"
   ]
  },
  {
   "cell_type": "code",
   "execution_count": null,
   "metadata": {
    "ExecuteTime": {
     "end_time": "2020-10-15T18:41:10.277182Z",
     "start_time": "2020-10-15T18:41:10.209676Z"
    },
    "hidden": true
   },
   "outputs": [],
   "source": [
    "count_unique_obs(df_correct)"
   ]
  },
  {
   "cell_type": "markdown",
   "metadata": {
    "heading_collapsed": true,
    "hidden": true
   },
   "source": [
    "## ¿Cuántas variables numéricas tenemos?"
   ]
  },
  {
   "cell_type": "code",
   "execution_count": null,
   "metadata": {
    "ExecuteTime": {
     "end_time": "2020-10-15T18:41:10.312738Z",
     "start_time": "2020-10-15T18:41:10.278552Z"
    },
    "hidden": true
   },
   "outputs": [],
   "source": [
    "count_type_vars(vars_num, \"numerica\")"
   ]
  },
  {
   "cell_type": "markdown",
   "metadata": {
    "heading_collapsed": true,
    "hidden": true
   },
   "source": [
    "## ¿Cuántas variables de fecha tenemos?\n",
    "- Para efectos de este ejercicio, no hay ninguna variable de tipo fecha, o que consideremos de fecha."
   ]
  },
  {
   "cell_type": "markdown",
   "metadata": {
    "heading_collapsed": true,
    "hidden": true
   },
   "source": [
    "## ¿Cuántas variables categóricas tenemos?"
   ]
  },
  {
   "cell_type": "code",
   "execution_count": null,
   "metadata": {
    "ExecuteTime": {
     "end_time": "2020-10-15T18:41:10.349441Z",
     "start_time": "2020-10-15T18:41:10.314403Z"
    },
    "hidden": true
   },
   "outputs": [],
   "source": [
    "count_type_vars(cat_vars, \"categórica\")"
   ]
  },
  {
   "cell_type": "markdown",
   "metadata": {
    "heading_collapsed": true,
    "hidden": true
   },
   "source": [
    "## ¿Cuántas variables de texto tenemos?\n",
    "- Para efectos de este ejercicio, no hay ninguna variable de tipo texto, o que consideremos de texto. Se podría considerar a la variable `gid` como un identificador de texto."
   ]
  },
  {
   "cell_type": "code",
   "execution_count": null,
   "metadata": {
    "ExecuteTime": {
     "end_time": "2020-10-15T18:41:10.385921Z",
     "start_time": "2020-10-15T18:41:10.350983Z"
    },
    "hidden": true
   },
   "outputs": [],
   "source": [
    "count_type_vars(vars_text, \"texto\")"
   ]
  },
  {
   "cell_type": "markdown",
   "metadata": {
    "heading_collapsed": true,
    "hidden": true
   },
   "source": [
    "## Genera el profiling de cada variable"
   ]
  },
  {
   "cell_type": "code",
   "execution_count": null,
   "metadata": {
    "ExecuteTime": {
     "end_time": "2020-10-15T18:41:10.571975Z",
     "start_time": "2020-10-15T18:41:10.387358Z"
    },
    "hidden": true
   },
   "outputs": [],
   "source": [
    "## Data profiling compacted in function\n",
    "data_profiling_numeric(df_correct, vars_num)"
   ]
  },
  {
   "cell_type": "code",
   "execution_count": null,
   "metadata": {
    "ExecuteTime": {
     "end_time": "2020-10-15T18:41:10.612085Z",
     "start_time": "2020-10-15T18:41:10.573783Z"
    },
    "hidden": true
   },
   "outputs": [],
   "source": [
    "df_correct[\"nomgeo\"].value_counts() "
   ]
  },
  {
   "cell_type": "code",
   "execution_count": null,
   "metadata": {
    "ExecuteTime": {
     "end_time": "2020-10-15T18:41:10.778046Z",
     "start_time": "2020-10-15T18:41:10.613619Z"
    },
    "hidden": true
   },
   "outputs": [],
   "source": [
    "#data profiling function\n",
    "data_profiling_categ(df_correct,cat_vars)"
   ]
  },
  {
   "cell_type": "markdown",
   "metadata": {
    "heading_collapsed": true,
    "hidden": true
   },
   "source": [
    "## Data Profiling con Pandas-Profiling"
   ]
  },
  {
   "cell_type": "code",
   "execution_count": null,
   "metadata": {
    "ExecuteTime": {
     "end_time": "2020-10-15T18:41:10.853223Z",
     "start_time": "2020-10-15T18:41:10.779435Z"
    },
    "hidden": true
   },
   "outputs": [],
   "source": [
    "profile = ProfileReport(df_correct, title=\"Pandas Profiling Report\", explorative = True)"
   ]
  },
  {
   "cell_type": "code",
   "execution_count": null,
   "metadata": {
    "ExecuteTime": {
     "end_time": "2020-10-15T18:41:44.464838Z",
     "start_time": "2020-10-15T18:41:10.854706Z"
    },
    "hidden": true
   },
   "outputs": [],
   "source": [
    "profile"
   ]
  },
  {
   "cell_type": "code",
   "execution_count": null,
   "metadata": {
    "ExecuteTime": {
     "end_time": "2020-10-15T18:41:44.546315Z",
     "start_time": "2020-10-15T18:41:44.466494Z"
    },
    "hidden": true
   },
   "outputs": [],
   "source": [
    "profile.to_file(\"Profile_variables.html\")"
   ]
  },
  {
   "cell_type": "markdown",
   "metadata": {},
   "source": [
    "# Graphic Exploratory Data Analysis (GEDA)"
   ]
  },
  {
   "cell_type": "markdown",
   "metadata": {},
   "source": [
    "## Análisis Univariado"
   ]
  },
  {
   "cell_type": "markdown",
   "metadata": {},
   "source": [
    "### *Variables Categóricas*"
   ]
  },
  {
   "cell_type": "markdown",
   "metadata": {},
   "source": [
    "#### Barplots\n",
    "La función que diseñamos para crear gráficas de barras está pensada para que el usuario especifique la variable que desea visualizar.\n",
    "- La lista de variables que se pueden graficar con esta función es:\n",
    "    - \"anio\"\n",
    "    - \"nomgeo\",\n",
    "    - \"alcaldia\",\n",
    "    - \"colonia\",\n",
    "    - \"bimestre\",\n",
    "    - \"indice_des\","
   ]
  },
  {
   "cell_type": "code",
   "execution_count": null,
   "metadata": {
    "ExecuteTime": {
     "end_time": "2020-10-15T18:41:44.588070Z",
     "start_time": "2020-10-15T18:41:44.547808Z"
    }
   },
   "outputs": [],
   "source": [
    "df_plot = df_correct.copy()"
   ]
  },
  {
   "cell_type": "code",
   "execution_count": null,
   "metadata": {
    "ExecuteTime": {
     "end_time": "2020-10-15T18:41:46.116318Z",
     "start_time": "2020-10-15T18:41:44.589505Z"
    }
   },
   "outputs": [],
   "source": [
    "barplot_cat(df_plot, \"alcaldia\", tops=10)"
   ]
  },
  {
   "cell_type": "markdown",
   "metadata": {},
   "source": [
    "### *Varibles Númericas*"
   ]
  },
  {
   "cell_type": "markdown",
   "metadata": {},
   "source": [
    "Se definen las listas de las variables a explorar:"
   ]
  },
  {
   "cell_type": "code",
   "execution_count": null,
   "metadata": {
    "ExecuteTime": {
     "end_time": "2020-10-15T18:41:46.160543Z",
     "start_time": "2020-10-15T18:41:46.117717Z"
    }
   },
   "outputs": [],
   "source": [
    "vars_num_tot= [\n",
    "    \"consumo_total\",\n",
    "    \"consumo_total_dom\",\n",
    "    \"consumo_total_no_dom\",\n",
    "    \"consumo_total_mixto\",\n",
    "    \"indice_des\"]\n",
    "\n",
    "vars_num_prom= [\n",
    "    \"consumo_prom\",\n",
    "    \"consumo_prom_dom\",\n",
    "    \"consumo_prom_no_dom\",\n",
    "    \"consumo_prom_mixto\",\n",
    "    \"indice_des\"]\n",
    "\n",
    "vars_num_i= [\n",
    "    \"consumo_total\",\n",
    "    \"consumo_total_dom\",\n",
    "    \"consumo_total_no_dom\",\n",
    "    \"consumo_total_mixto\",\n",
    "    \"consumo_prom\",\n",
    "    \"consumo_prom_dom\",\n",
    "    \"consumo_prom_no_dom\",\n",
    "    \"consumo_prom_mixto\",\n",
    "    \"indice_des\",\n",
    "    \"alcaldia\",\n",
    "    \"bimestre\"]"
   ]
  },
  {
   "cell_type": "markdown",
   "metadata": {},
   "source": [
    "#### Histogramas"
   ]
  },
  {
   "cell_type": "markdown",
   "metadata": {},
   "source": [
    "La función que diseñamos para crear histogramas está pensada para que el usuario especifique la variable que desea visualizar.\n",
    "- La lista de variables que se pueden graficar con esta función es:\n",
    "     - 'consumo_total',\n",
    "     - 'consumo_total_dom',\n",
    "     - 'consumo_total_no_dom',\n",
    "     - 'consumo_total_mixto',\n",
    "     - 'consumo_prom',\n",
    "     - 'consumo_prom_dom',\n",
    "     - 'consumo_prom_no_dom',\n",
    "     - 'consumo_prom_mixto'"
   ]
  },
  {
   "cell_type": "code",
   "execution_count": null,
   "metadata": {
    "ExecuteTime": {
     "end_time": "2020-10-15T18:41:46.698748Z",
     "start_time": "2020-10-15T18:41:46.162161Z"
    }
   },
   "outputs": [],
   "source": [
    "histograms_numeric_total(df_plot, \"consumo_total\")"
   ]
  },
  {
   "cell_type": "markdown",
   "metadata": {},
   "source": [
    "A partir de la exploración de los datos numéricos por medio de histogramas, se notó la presencia de muchos datos atípicos."
   ]
  },
  {
   "cell_type": "markdown",
   "metadata": {},
   "source": [
    "### Distribución del consumo de agua por índice de desarrollo.\n",
    "\n",
    "Se muestran los histogramas del consumo (variables numéricas) por cada categoría del índice de desarrollo(`indice_des`). \n",
    "\n",
    "Con el objetivo de tener una mejor observación del comportamiento de la distribución del consumo (totales y promedios), se transformaron las variables en escala logarítmica.\n",
    "\n",
    "Sin embargo, de acuerdo con el data profiling en el EDA, se observó que para todos los consumos (totales y promedio), el valor top 1 es *cero*. Por lo tanto, la distribuciones logarítmicas no mostrarán estos valores.\n",
    "\n",
    "Con base en lo anterior, y dado que la granularidad de los datos es a nivel manzana, ¿Existen muchas manzanas sin consumo de agua? ¿Es correcto lo anterior o es un error? Contestaremos la pregunta más adelante."
   ]
  },
  {
   "cell_type": "markdown",
   "metadata": {},
   "source": [
    "La función que diseñamos para crear histogramas está pensada para que el usuario especifique la variable que desea visualizar.\n",
    "- La lista de variables que se pueden graficar con esta función es:\n",
    "     - 'consumo_total',\n",
    "     - 'consumo_total_dom',\n",
    "     - 'consumo_total_no_dom',\n",
    "     - 'consumo_total_mixto',\n",
    "     - 'consumo_prom',\n",
    "     - 'consumo_prom_dom',\n",
    "     - 'consumo_prom_no_dom',\n",
    "     - 'consumo_prom_mixto'"
   ]
  },
  {
   "cell_type": "code",
   "execution_count": null,
   "metadata": {
    "ExecuteTime": {
     "end_time": "2020-10-15T18:41:47.396473Z",
     "start_time": "2020-10-15T18:41:46.700357Z"
    }
   },
   "outputs": [],
   "source": [
    "histograms_numeric(df_plot, \"consumo_prom_mixto\", \"indice_des\")"
   ]
  },
  {
   "cell_type": "markdown",
   "metadata": {},
   "source": [
    "#### Boxplots"
   ]
  },
  {
   "cell_type": "markdown",
   "metadata": {},
   "source": [
    "Los boxplots reafirman que para todas las variables numéricas existen outliers, incluso por cada categoría del índice desarrollo.  "
   ]
  },
  {
   "cell_type": "markdown",
   "metadata": {},
   "source": [
    "La función que diseñamos para crear gráficas de baja y brazos está pensada para que el usuario especifique la variable que desea visualizar.\n",
    "- La lista de variables que se pueden graficar con esta función es:\n",
    "     - 'consumo_total',\n",
    "     - 'consumo_total_dom',\n",
    "     - 'consumo_total_no_dom',\n",
    "     - 'consumo_total_mixto',\n",
    "     - 'consumo_prom',\n",
    "     - 'consumo_prom_dom',\n",
    "     - 'consumo_prom_no_dom',\n",
    "     - 'consumo_prom_mixto'"
   ]
  },
  {
   "cell_type": "code",
   "execution_count": null,
   "metadata": {
    "ExecuteTime": {
     "end_time": "2020-10-15T18:41:48.301490Z",
     "start_time": "2020-10-15T18:41:47.398201Z"
    }
   },
   "outputs": [],
   "source": [
    "box_plot_num(df_plot, \"indice_des\", \"consumo_total_mixto\")"
   ]
  },
  {
   "cell_type": "markdown",
   "metadata": {},
   "source": [
    "#### Scatterplots"
   ]
  },
  {
   "cell_type": "markdown",
   "metadata": {},
   "source": [
    "La función que diseñamos para crear scatterplots está pensada para que el usuario especifique las 2 variables que desea visualizar.\n",
    "- La lista de variables que se pueden graficar con esta función es:\n",
    "  - \"consumo_total_mixto\",\n",
    "  - \"consumo_total_dom\",\n",
    "  - \"consumo_total_no_dom\",\n",
    "  - \"consumo_total\""
   ]
  },
  {
   "cell_type": "markdown",
   "metadata": {},
   "source": [
    "* Variables totales del consumo: "
   ]
  },
  {
   "cell_type": "code",
   "execution_count": null,
   "metadata": {
    "ExecuteTime": {
     "end_time": "2020-10-15T18:41:49.265015Z",
     "start_time": "2020-10-15T18:41:48.303119Z"
    }
   },
   "outputs": [],
   "source": [
    "scatterPlotFacet(df_plot, \"consumo_total_dom\", \"consumo_total_no_dom\", \"indice_des\", \"bimestre\")"
   ]
  },
  {
   "cell_type": "markdown",
   "metadata": {},
   "source": [
    "* Variables promedio del consumo:"
   ]
  },
  {
   "cell_type": "markdown",
   "metadata": {},
   "source": [
    "- La lista de variables que se pueden graficar con esta función es:\n",
    "    - \"consumo_prom_dom\",\n",
    "    - \"consumo_prom_mixto\",\n",
    "    - \"consumo_prom_no_dom\",\n",
    "    - \"consumo_prom\""
   ]
  },
  {
   "cell_type": "code",
   "execution_count": null,
   "metadata": {
    "ExecuteTime": {
     "end_time": "2020-10-15T18:41:50.280921Z",
     "start_time": "2020-10-15T18:41:49.266715Z"
    }
   },
   "outputs": [],
   "source": [
    "scatterPlotFacet(df_plot, \"consumo_prom_dom\", \"consumo_prom_no_dom\", \"indice_des\", \"bimestre\")"
   ]
  },
  {
   "cell_type": "markdown",
   "metadata": {},
   "source": [
    "#### Rugplot"
   ]
  },
  {
   "cell_type": "markdown",
   "metadata": {},
   "source": [
    "La función que diseñamos para crear gráficas de tapete está pensada para que el usuario especifique la variable que desea visualizar.\n",
    "- La lista de variables que se pueden graficar con esta función es:\n",
    "     - 'consumo_total',\n",
    "     - 'consumo_total_dom',\n",
    "     - 'consumo_total_no_dom',\n",
    "     - 'consumo_total_mixto',\n",
    "     - 'consumo_prom',\n",
    "     - 'consumo_prom_dom',\n",
    "     - 'consumo_prom_no_dom',\n",
    "     - 'consumo_prom_mixto'"
   ]
  },
  {
   "cell_type": "code",
   "execution_count": null,
   "metadata": {
    "ExecuteTime": {
     "end_time": "2020-10-15T18:41:51.638771Z",
     "start_time": "2020-10-15T18:41:50.282692Z"
    }
   },
   "outputs": [],
   "source": [
    "rugplot_num(df_plot, \"consumo_prom_no_dom\")"
   ]
  },
  {
   "cell_type": "markdown",
   "metadata": {},
   "source": [
    "#### Density Estimate"
   ]
  },
  {
   "cell_type": "markdown",
   "metadata": {},
   "source": [
    "La función que diseñamos para crear gráficas de densidad está pensada para que el usuario especifique la variable que desea visualizar.\n",
    "- La lista de variables que se pueden graficar con esta función es:\n",
    "     - 'consumo_total',\n",
    "     - 'consumo_total_dom',\n",
    "     - 'consumo_total_no_dom',\n",
    "     - 'consumo_total_mixto',\n",
    "     - 'consumo_prom',\n",
    "     - 'consumo_prom_dom',\n",
    "     - 'consumo_prom_no_dom',\n",
    "     - 'consumo_prom_mixto'"
   ]
  },
  {
   "cell_type": "code",
   "execution_count": null,
   "metadata": {
    "ExecuteTime": {
     "end_time": "2020-10-15T18:41:51.880787Z",
     "start_time": "2020-10-15T18:41:51.641046Z"
    }
   },
   "outputs": [],
   "source": [
    "distplot_num(df_plot, \"consumo_prom_mixto\", 85)"
   ]
  },
  {
   "cell_type": "markdown",
   "metadata": {},
   "source": [
    "#### QQ-Plot"
   ]
  },
  {
   "cell_type": "markdown",
   "metadata": {},
   "source": [
    "La función que diseñamos para crear gráficas qq está pensada para que el usuario especifique la variable que desea visualizar.\n",
    "- La lista de variables que se pueden graficar con esta función es:\n",
    "     - 'consumo_total',\n",
    "     - 'consumo_total_dom',\n",
    "     - 'consumo_total_no_dom',\n",
    "     - 'consumo_total_mixto',\n",
    "     - 'consumo_prom',\n",
    "     - 'consumo_prom_dom',\n",
    "     - 'consumo_prom_no_dom',\n",
    "     - 'consumo_prom_mixto'"
   ]
  },
  {
   "cell_type": "code",
   "execution_count": null,
   "metadata": {
    "ExecuteTime": {
     "end_time": "2020-10-15T18:41:52.099712Z",
     "start_time": "2020-10-15T18:41:51.882177Z"
    }
   },
   "outputs": [],
   "source": [
    "qq_plot(data = df_plot, variable = \"consumo_total\", ymin = 1, ymax = 200)"
   ]
  },
  {
   "cell_type": "markdown",
   "metadata": {},
   "source": [
    "#### Matriz de Correlación"
   ]
  },
  {
   "cell_type": "code",
   "execution_count": null,
   "metadata": {
    "ExecuteTime": {
     "end_time": "2020-10-15T18:41:52.895767Z",
     "start_time": "2020-10-15T18:41:52.100948Z"
    }
   },
   "outputs": [],
   "source": [
    "corr_plot(data = df, variables = vars_num, title = \"Matriz de correlación\")"
   ]
  },
  {
   "cell_type": "markdown",
   "metadata": {},
   "source": [
    "## Análisis Multivariado"
   ]
  },
  {
   "cell_type": "markdown",
   "metadata": {},
   "source": [
    "#### Distribución del consumo de agua por categoría del ínidice de desarrollo en cada alcaldía."
   ]
  },
  {
   "cell_type": "markdown",
   "metadata": {},
   "source": [
    "* Conteo de registros por alcaldía por `indice_des`"
   ]
  },
  {
   "cell_type": "code",
   "execution_count": null,
   "metadata": {
    "ExecuteTime": {
     "end_time": "2020-10-15T18:41:53.003070Z",
     "start_time": "2020-10-15T18:41:52.897219Z"
    },
    "scrolled": true
   },
   "outputs": [],
   "source": [
    "create_heatmap(df_plot, \"alcaldia\", \"indice_des\", \"gid\")"
   ]
  },
  {
   "cell_type": "markdown",
   "metadata": {},
   "source": [
    "Con el mapa de calor por alcaldía podemos ver que sí hay ubicaciones específicas con una tendencia clara a ser clasificadas con un indice_des particular (e.g. si el registro es de Azcapotzalco, tenderá a ser clasificado como \"bajo\"). (el mapa de calor muestra la proporción de conteos de cada clasificación por alcaldía)"
   ]
  },
  {
   "cell_type": "markdown",
   "metadata": {},
   "source": [
    "#### Histogramas de distribución del consumo por índice de desarrollo humano y variables categóricas."
   ]
  },
  {
   "cell_type": "markdown",
   "metadata": {},
   "source": [
    "La función que diseñamos para crear este grupo de histogramas está pensada para que el usuario especifique la variable de consumo que desea visualizar.\n",
    "- La lista de variables que se pueden graficar con esta función es:\n",
    "     - 'consumo_total',\n",
    "     - 'consumo_total_dom',\n",
    "     - 'consumo_total_no_dom',\n",
    "     - 'consumo_total_mixto',\n",
    "     - 'consumo_prom',\n",
    "     - 'consumo_prom_dom',\n",
    "     - 'consumo_prom_no_dom',\n",
    "     - 'consumo_prom_mixto'"
   ]
  },
  {
   "cell_type": "code",
   "execution_count": null,
   "metadata": {
    "ExecuteTime": {
     "end_time": "2020-10-15T18:42:19.579557Z",
     "start_time": "2020-10-15T18:41:53.004586Z"
    },
    "scrolled": true
   },
   "outputs": [],
   "source": [
    "histograms_numeric_rv_cat(df_plot, \"consumo_total\", \"indice_des\", \"alcaldia\")"
   ]
  },
  {
   "cell_type": "markdown",
   "metadata": {},
   "source": [
    "#### Boxplot del consumo por alcaldía:"
   ]
  },
  {
   "cell_type": "markdown",
   "metadata": {},
   "source": [
    "La función que diseñamos para crear esta visualización de histogramas está pensada para que el usuario especifique la variable de consumo que desea visualizar.\n",
    "- La lista de variables que se pueden graficar con esta función es:\n",
    "     - 'consumo_total',\n",
    "     - 'consumo_total_dom',\n",
    "     - 'consumo_total_no_dom',\n",
    "     - 'consumo_total_mixto',\n",
    "     - 'consumo_prom',\n",
    "     - 'consumo_prom_dom',\n",
    "     - 'consumo_prom_no_dom',\n",
    "     - 'consumo_prom_mixto'"
   ]
  },
  {
   "cell_type": "code",
   "execution_count": null,
   "metadata": {
    "ExecuteTime": {
     "end_time": "2020-10-15T18:42:19.775321Z",
     "start_time": "2020-10-15T18:42:19.581595Z"
    }
   },
   "outputs": [],
   "source": [
    "box_plot_num_location(df_plot, \"consumo_total_no_dom\", \"iztapalapa\")"
   ]
  },
  {
   "cell_type": "markdown",
   "metadata": {},
   "source": [
    "#### Distribución del consumo de agua por categoría del ínidice de desarrollo por bimestre."
   ]
  },
  {
   "cell_type": "markdown",
   "metadata": {},
   "source": [
    "La función que diseñamos para crear esta visualización de histogramas está pensada para que el usuario especifique la variable de consumo que desea visualizar.\n",
    "- La lista de variables que se pueden graficar con esta función es:\n",
    "     - 'consumo_total',\n",
    "     - 'consumo_total_dom',\n",
    "     - 'consumo_total_no_dom',\n",
    "     - 'consumo_total_mixto',\n",
    "     - 'consumo_prom',\n",
    "     - 'consumo_prom_dom',\n",
    "     - 'consumo_prom_no_dom',\n",
    "     - 'consumo_prom_mixto'"
   ]
  },
  {
   "cell_type": "code",
   "execution_count": null,
   "metadata": {
    "ExecuteTime": {
     "end_time": "2020-10-15T18:42:31.795640Z",
     "start_time": "2020-10-15T18:42:19.776980Z"
    }
   },
   "outputs": [],
   "source": [
    "histograms_numeric_rv_cat(df_plot, \"consumo_total\", \"indice_des\", \"bimestre\")"
   ]
  },
  {
   "cell_type": "markdown",
   "metadata": {},
   "source": [
    "#### Distribución del consumo de agua por categoría del ínidice de desarrollo por colonia."
   ]
  },
  {
   "cell_type": "markdown",
   "metadata": {},
   "source": [
    "Se enlistan las colonias top 15 con mayor número de observaciones:"
   ]
  },
  {
   "cell_type": "code",
   "execution_count": null,
   "metadata": {
    "ExecuteTime": {
     "end_time": "2020-10-15T18:45:01.811156Z",
     "start_time": "2020-10-15T18:45:01.760182Z"
    }
   },
   "outputs": [],
   "source": [
    "df_colonia = df_plot[df_plot[\"colonia\"].isin(colonia_top_15)]"
   ]
  },
  {
   "cell_type": "markdown",
   "metadata": {},
   "source": [
    "La función que diseñamos para crear esta visualización de histogramas está pensada para que el usuario especifique la variable de consumo que desea visualizar.\n",
    "- La lista de variables que se pueden graficar con esta función es:\n",
    "     - 'consumo_total',\n",
    "     - 'consumo_total_dom',\n",
    "     - 'consumo_total_no_dom',\n",
    "     - 'consumo_total_mixto',\n",
    "     - 'consumo_prom',\n",
    "     - 'consumo_prom_dom',\n",
    "     - 'consumo_prom_no_dom',\n",
    "     - 'consumo_prom_mixto'"
   ]
  },
  {
   "cell_type": "code",
   "execution_count": null,
   "metadata": {
    "ExecuteTime": {
     "end_time": "2020-10-15T18:45:55.486210Z",
     "start_time": "2020-10-15T18:45:45.966355Z"
    }
   },
   "outputs": [],
   "source": [
    "histograms_numeric_rv_cat(df_colonia, \"consumo_total\", \"indice_des\", \"colonia\")"
   ]
  },
  {
   "cell_type": "markdown",
   "metadata": {},
   "source": [
    "#### Distribución espacial de la variable de respuesta `indice_des` "
   ]
  },
  {
   "cell_type": "code",
   "execution_count": null,
   "metadata": {
    "ExecuteTime": {
     "end_time": "2020-10-15T18:50:29.706563Z",
     "start_time": "2020-10-15T18:50:27.820001Z"
    },
    "scrolled": true
   },
   "outputs": [],
   "source": [
    "scatter_map(df_plot)"
   ]
  },
  {
   "cell_type": "markdown",
   "metadata": {},
   "source": [
    "#### Consistencia  de la clasificación de la variable `colonia` con el `indice_des`."
   ]
  },
  {
   "cell_type": "markdown",
   "metadata": {},
   "source": [
    "Lo que nos interesa averiguar con este analisis es si las distintas colonias están clasificadas con una sola etiqueta de índice de desarrollo (e.g. la colonia \"Navidad\" siempre es clasificada como \"popular\")"
   ]
  },
  {
   "cell_type": "code",
   "execution_count": null,
   "metadata": {
    "ExecuteTime": {
     "end_time": "2020-10-15T18:48:50.692919Z",
     "start_time": "2020-10-15T18:48:50.528076Z"
    }
   },
   "outputs": [],
   "source": [
    "colonia_devidx_consistency(df_plot)"
   ]
  },
  {
   "cell_type": "markdown",
   "metadata": {},
   "source": [
    "Con esta gráfica nos damos cuenta de que no hay mucha consistencia en la clasificación. Solo el 21% de las las colonias fueron consistentemente clasificadas con una sola etiqueta de la variable `indice_des`."
   ]
  },
  {
   "cell_type": "markdown",
   "metadata": {},
   "source": [
    "---\n",
    "---"
   ]
  }
 ],
 "metadata": {
  "kernelspec": {
   "display_name": "itam_intro_to_ds",
   "language": "python",
   "name": "itam_intro_to_ds"
  },
  "language_info": {
   "codemirror_mode": {
    "name": "ipython",
    "version": 3
   },
   "file_extension": ".py",
   "mimetype": "text/x-python",
   "name": "python",
   "nbconvert_exporter": "python",
   "pygments_lexer": "ipython3",
   "version": "3.7.4"
  }
 },
 "nbformat": 4,
 "nbformat_minor": 4
}
