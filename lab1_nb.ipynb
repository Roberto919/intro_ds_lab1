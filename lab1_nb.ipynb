{
 "cells": [
  {
   "cell_type": "markdown",
   "metadata": {},
   "source": [
    "# Laboratory 1\n",
    "- Author: Rob"
   ]
  },
  {
   "cell_type": "markdown",
   "metadata": {},
   "source": [
    "# Imports"
   ]
  },
  {
   "cell_type": "markdown",
   "metadata": {},
   "source": [
    "#### Python libraries"
   ]
  },
  {
   "cell_type": "code",
   "execution_count": 15,
   "metadata": {
    "ExecuteTime": {
     "end_time": "2020-09-30T00:03:14.293753Z",
     "start_time": "2020-09-30T00:03:14.273251Z"
    }
   },
   "outputs": [],
   "source": [
    "import sys\n",
    "\n",
    "import pandas as pd\n",
    "\n",
    "import re\n",
    "\n",
    "import unicodedata"
   ]
  },
  {
   "cell_type": "markdown",
   "metadata": {},
   "source": [
    "#### Acillary modules"
   ]
  },
  {
   "cell_type": "code",
   "execution_count": 16,
   "metadata": {
    "ExecuteTime": {
     "end_time": "2020-09-30T00:03:14.567139Z",
     "start_time": "2020-09-30T00:03:14.550323Z"
    }
   },
   "outputs": [
    {
     "name": "stdout",
     "output_type": "stream",
     "text": [
      "The autoreload extension is already loaded. To reload it, use:\n",
      "  %reload_ext autoreload\n"
     ]
    }
   ],
   "source": [
    "%load_ext autoreload\n",
    "%autoreload 2\n",
    "\n",
    "from utils.lab1_funcs import *"
   ]
  },
  {
   "cell_type": "markdown",
   "metadata": {},
   "source": [
    "# Loading data"
   ]
  },
  {
   "cell_type": "markdown",
   "metadata": {},
   "source": [
    "Data downloaded from -> https://datos.cdmx.gob.mx/explore/dataset/consumo-agua/export/"
   ]
  },
  {
   "cell_type": "code",
   "execution_count": 136,
   "metadata": {
    "ExecuteTime": {
     "end_time": "2020-09-30T15:06:07.523484Z",
     "start_time": "2020-09-30T15:06:05.936598Z"
    }
   },
   "outputs": [],
   "source": [
    "df = pd.read_csv(\"data/consumo-agua.csv\")"
   ]
  },
  {
   "cell_type": "code",
   "execution_count": 137,
   "metadata": {
    "ExecuteTime": {
     "end_time": "2020-09-30T15:06:07.577364Z",
     "start_time": "2020-09-30T15:06:07.525835Z"
    },
    "scrolled": true
   },
   "outputs": [
    {
     "data": {
      "text/html": [
       "<div>\n",
       "<style scoped>\n",
       "    .dataframe tbody tr th:only-of-type {\n",
       "        vertical-align: middle;\n",
       "    }\n",
       "\n",
       "    .dataframe tbody tr th {\n",
       "        vertical-align: top;\n",
       "    }\n",
       "\n",
       "    .dataframe thead th {\n",
       "        text-align: right;\n",
       "    }\n",
       "</style>\n",
       "<table border=\"1\" class=\"dataframe\">\n",
       "  <thead>\n",
       "    <tr style=\"text-align: right;\">\n",
       "      <th></th>\n",
       "      <th>Geo Point</th>\n",
       "      <th>Geo Shape</th>\n",
       "      <th>consumo_total_mixto</th>\n",
       "      <th>anio</th>\n",
       "      <th>nomgeo</th>\n",
       "      <th>consumo_prom_dom</th>\n",
       "      <th>consumo_total_dom</th>\n",
       "      <th>alcaldia</th>\n",
       "      <th>colonia</th>\n",
       "      <th>consumo_prom_mixto</th>\n",
       "      <th>consumo_total</th>\n",
       "      <th>consumo_prom</th>\n",
       "      <th>consumo_prom_no_dom</th>\n",
       "      <th>bimestre</th>\n",
       "      <th>consumo_total_no_dom</th>\n",
       "      <th>gid</th>\n",
       "      <th>indice_des</th>\n",
       "    </tr>\n",
       "  </thead>\n",
       "  <tbody>\n",
       "    <tr>\n",
       "      <th>0</th>\n",
       "      <td>19.4552601937,-99.1126617526</td>\n",
       "      <td>{\"type\": \"MultiPolygon\", \"coordinates\": [[[[-9...</td>\n",
       "      <td>159.72</td>\n",
       "      <td>2019</td>\n",
       "      <td>Gustavo A. Madero</td>\n",
       "      <td>42.566364</td>\n",
       "      <td>468.23</td>\n",
       "      <td>GUSTAVO A. MADERO</td>\n",
       "      <td>7 DE NOVIEMBRE</td>\n",
       "      <td>53.240000</td>\n",
       "      <td>631.00</td>\n",
       "      <td>42.066667</td>\n",
       "      <td>3.050000</td>\n",
       "      <td>3</td>\n",
       "      <td>3.05</td>\n",
       "      <td>57250</td>\n",
       "      <td>ALTO</td>\n",
       "    </tr>\n",
       "    <tr>\n",
       "      <th>1</th>\n",
       "      <td>19.4552601937,-99.1126617526</td>\n",
       "      <td>{\"type\": \"MultiPolygon\", \"coordinates\": [[[[-9...</td>\n",
       "      <td>0.00</td>\n",
       "      <td>2019</td>\n",
       "      <td>Gustavo A. Madero</td>\n",
       "      <td>35.936667</td>\n",
       "      <td>107.81</td>\n",
       "      <td>GUSTAVO A. MADERO</td>\n",
       "      <td>7 DE NOVIEMBRE</td>\n",
       "      <td>0.000000</td>\n",
       "      <td>115.13</td>\n",
       "      <td>28.782500</td>\n",
       "      <td>7.320000</td>\n",
       "      <td>3</td>\n",
       "      <td>7.32</td>\n",
       "      <td>57253</td>\n",
       "      <td>MEDIO</td>\n",
       "    </tr>\n",
       "    <tr>\n",
       "      <th>2</th>\n",
       "      <td>19.4557195871,-99.1135822797</td>\n",
       "      <td>{\"type\": \"MultiPolygon\", \"coordinates\": [[[[-9...</td>\n",
       "      <td>0.00</td>\n",
       "      <td>2019</td>\n",
       "      <td>Gustavo A. Madero</td>\n",
       "      <td>24.586000</td>\n",
       "      <td>122.93</td>\n",
       "      <td>GUSTAVO A. MADERO</td>\n",
       "      <td>7 DE NOVIEMBRE</td>\n",
       "      <td>0.000000</td>\n",
       "      <td>197.96</td>\n",
       "      <td>32.993333</td>\n",
       "      <td>75.030000</td>\n",
       "      <td>3</td>\n",
       "      <td>75.03</td>\n",
       "      <td>57255</td>\n",
       "      <td>POPULAR</td>\n",
       "    </tr>\n",
       "    <tr>\n",
       "      <th>3</th>\n",
       "      <td>19.4596467168,-99.1044693641</td>\n",
       "      <td>{\"type\": \"MultiPolygon\", \"coordinates\": [[[[-9...</td>\n",
       "      <td>0.00</td>\n",
       "      <td>2019</td>\n",
       "      <td>Gustavo A. Madero</td>\n",
       "      <td>0.000000</td>\n",
       "      <td>0.00</td>\n",
       "      <td>GUSTAVO A. MADERO</td>\n",
       "      <td>NUEVA TENOCHTITLAN</td>\n",
       "      <td>0.000000</td>\n",
       "      <td>253.53</td>\n",
       "      <td>84.510000</td>\n",
       "      <td>84.510000</td>\n",
       "      <td>3</td>\n",
       "      <td>253.53</td>\n",
       "      <td>57267</td>\n",
       "      <td>BAJO</td>\n",
       "    </tr>\n",
       "    <tr>\n",
       "      <th>4</th>\n",
       "      <td>19.4741606185,-99.1467497317</td>\n",
       "      <td>{\"type\": \"MultiPolygon\", \"coordinates\": [[[[-9...</td>\n",
       "      <td>56.72</td>\n",
       "      <td>2019</td>\n",
       "      <td>Azcapotzalco</td>\n",
       "      <td>67.436250</td>\n",
       "      <td>539.49</td>\n",
       "      <td>AZCAPOTZALCO</td>\n",
       "      <td>PROHOGAR</td>\n",
       "      <td>56.720000</td>\n",
       "      <td>839.35</td>\n",
       "      <td>76.304545</td>\n",
       "      <td>121.570000</td>\n",
       "      <td>3</td>\n",
       "      <td>243.14</td>\n",
       "      <td>57330</td>\n",
       "      <td>BAJO</td>\n",
       "    </tr>\n",
       "    <tr>\n",
       "      <th>...</th>\n",
       "      <td>...</td>\n",
       "      <td>...</td>\n",
       "      <td>...</td>\n",
       "      <td>...</td>\n",
       "      <td>...</td>\n",
       "      <td>...</td>\n",
       "      <td>...</td>\n",
       "      <td>...</td>\n",
       "      <td>...</td>\n",
       "      <td>...</td>\n",
       "      <td>...</td>\n",
       "      <td>...</td>\n",
       "      <td>...</td>\n",
       "      <td>...</td>\n",
       "      <td>...</td>\n",
       "      <td>...</td>\n",
       "      <td>...</td>\n",
       "    </tr>\n",
       "    <tr>\n",
       "      <th>71097</th>\n",
       "      <td>19.4485642979,-99.1399395353</td>\n",
       "      <td>{\"type\": \"MultiPolygon\", \"coordinates\": [[[[-9...</td>\n",
       "      <td>NaN</td>\n",
       "      <td>2019</td>\n",
       "      <td>Cuauhtémoc</td>\n",
       "      <td>20.053112</td>\n",
       "      <td>3930.41</td>\n",
       "      <td>CUAUHTEMOC</td>\n",
       "      <td>GUERRERO</td>\n",
       "      <td>NaN</td>\n",
       "      <td>4286.28</td>\n",
       "      <td>19.307568</td>\n",
       "      <td>13.687308</td>\n",
       "      <td>1</td>\n",
       "      <td>355.87</td>\n",
       "      <td>233</td>\n",
       "      <td>BAJO</td>\n",
       "    </tr>\n",
       "    <tr>\n",
       "      <th>71098</th>\n",
       "      <td>19.4493393649,-99.1457191092</td>\n",
       "      <td>{\"type\": \"MultiPolygon\", \"coordinates\": [[[[-9...</td>\n",
       "      <td>71.30</td>\n",
       "      <td>2019</td>\n",
       "      <td>Cuauhtémoc</td>\n",
       "      <td>21.126615</td>\n",
       "      <td>9549.24</td>\n",
       "      <td>CUAUHTEMOC</td>\n",
       "      <td>GUERRERO</td>\n",
       "      <td>35.650001</td>\n",
       "      <td>9796.12</td>\n",
       "      <td>20.976702</td>\n",
       "      <td>13.506923</td>\n",
       "      <td>1</td>\n",
       "      <td>175.59</td>\n",
       "      <td>238</td>\n",
       "      <td>POPULAR</td>\n",
       "    </tr>\n",
       "    <tr>\n",
       "      <th>71099</th>\n",
       "      <td>19.4483923147,-99.1459300721</td>\n",
       "      <td>{\"type\": \"MultiPolygon\", \"coordinates\": [[[[-9...</td>\n",
       "      <td>759.16</td>\n",
       "      <td>2019</td>\n",
       "      <td>Cuauhtémoc</td>\n",
       "      <td>27.527778</td>\n",
       "      <td>4707.25</td>\n",
       "      <td>CUAUHTEMOC</td>\n",
       "      <td>GUERRERO</td>\n",
       "      <td>94.894999</td>\n",
       "      <td>5692.81</td>\n",
       "      <td>29.344381</td>\n",
       "      <td>15.093334</td>\n",
       "      <td>1</td>\n",
       "      <td>226.40</td>\n",
       "      <td>239</td>\n",
       "      <td>BAJO</td>\n",
       "    </tr>\n",
       "    <tr>\n",
       "      <th>71100</th>\n",
       "      <td>19.4475868325,-99.1425094385</td>\n",
       "      <td>{\"type\": \"MultiPolygon\", \"coordinates\": [[[[-9...</td>\n",
       "      <td>402.65</td>\n",
       "      <td>2019</td>\n",
       "      <td>Cuauhtémoc</td>\n",
       "      <td>30.605000</td>\n",
       "      <td>550.89</td>\n",
       "      <td>CUAUHTEMOC</td>\n",
       "      <td>GUERRERO</td>\n",
       "      <td>100.662498</td>\n",
       "      <td>963.15</td>\n",
       "      <td>41.876087</td>\n",
       "      <td>9.610000</td>\n",
       "      <td>1</td>\n",
       "      <td>9.61</td>\n",
       "      <td>244</td>\n",
       "      <td>BAJO</td>\n",
       "    </tr>\n",
       "    <tr>\n",
       "      <th>71101</th>\n",
       "      <td>19.4474017534,-99.1397251034</td>\n",
       "      <td>{\"type\": \"MultiPolygon\", \"coordinates\": [[[[-9...</td>\n",
       "      <td>41.20</td>\n",
       "      <td>2019</td>\n",
       "      <td>Cuauhtémoc</td>\n",
       "      <td>22.507710</td>\n",
       "      <td>8552.94</td>\n",
       "      <td>CUAUHTEMOC</td>\n",
       "      <td>GUERRERO</td>\n",
       "      <td>13.733333</td>\n",
       "      <td>9000.07</td>\n",
       "      <td>21.951366</td>\n",
       "      <td>15.034444</td>\n",
       "      <td>1</td>\n",
       "      <td>405.93</td>\n",
       "      <td>247</td>\n",
       "      <td>BAJO</td>\n",
       "    </tr>\n",
       "  </tbody>\n",
       "</table>\n",
       "<p>71102 rows × 17 columns</p>\n",
       "</div>"
      ],
      "text/plain": [
       "                          Geo Point  \\\n",
       "0      19.4552601937,-99.1126617526   \n",
       "1      19.4552601937,-99.1126617526   \n",
       "2      19.4557195871,-99.1135822797   \n",
       "3      19.4596467168,-99.1044693641   \n",
       "4      19.4741606185,-99.1467497317   \n",
       "...                             ...   \n",
       "71097  19.4485642979,-99.1399395353   \n",
       "71098  19.4493393649,-99.1457191092   \n",
       "71099  19.4483923147,-99.1459300721   \n",
       "71100  19.4475868325,-99.1425094385   \n",
       "71101  19.4474017534,-99.1397251034   \n",
       "\n",
       "                                               Geo Shape  consumo_total_mixto  \\\n",
       "0      {\"type\": \"MultiPolygon\", \"coordinates\": [[[[-9...               159.72   \n",
       "1      {\"type\": \"MultiPolygon\", \"coordinates\": [[[[-9...                 0.00   \n",
       "2      {\"type\": \"MultiPolygon\", \"coordinates\": [[[[-9...                 0.00   \n",
       "3      {\"type\": \"MultiPolygon\", \"coordinates\": [[[[-9...                 0.00   \n",
       "4      {\"type\": \"MultiPolygon\", \"coordinates\": [[[[-9...                56.72   \n",
       "...                                                  ...                  ...   \n",
       "71097  {\"type\": \"MultiPolygon\", \"coordinates\": [[[[-9...                  NaN   \n",
       "71098  {\"type\": \"MultiPolygon\", \"coordinates\": [[[[-9...                71.30   \n",
       "71099  {\"type\": \"MultiPolygon\", \"coordinates\": [[[[-9...               759.16   \n",
       "71100  {\"type\": \"MultiPolygon\", \"coordinates\": [[[[-9...               402.65   \n",
       "71101  {\"type\": \"MultiPolygon\", \"coordinates\": [[[[-9...                41.20   \n",
       "\n",
       "       anio             nomgeo  consumo_prom_dom  consumo_total_dom  \\\n",
       "0      2019  Gustavo A. Madero         42.566364             468.23   \n",
       "1      2019  Gustavo A. Madero         35.936667             107.81   \n",
       "2      2019  Gustavo A. Madero         24.586000             122.93   \n",
       "3      2019  Gustavo A. Madero          0.000000               0.00   \n",
       "4      2019       Azcapotzalco         67.436250             539.49   \n",
       "...     ...                ...               ...                ...   \n",
       "71097  2019         Cuauhtémoc         20.053112            3930.41   \n",
       "71098  2019         Cuauhtémoc         21.126615            9549.24   \n",
       "71099  2019         Cuauhtémoc         27.527778            4707.25   \n",
       "71100  2019         Cuauhtémoc         30.605000             550.89   \n",
       "71101  2019         Cuauhtémoc         22.507710            8552.94   \n",
       "\n",
       "                alcaldia             colonia  consumo_prom_mixto  \\\n",
       "0      GUSTAVO A. MADERO      7 DE NOVIEMBRE           53.240000   \n",
       "1      GUSTAVO A. MADERO      7 DE NOVIEMBRE            0.000000   \n",
       "2      GUSTAVO A. MADERO      7 DE NOVIEMBRE            0.000000   \n",
       "3      GUSTAVO A. MADERO  NUEVA TENOCHTITLAN            0.000000   \n",
       "4           AZCAPOTZALCO            PROHOGAR           56.720000   \n",
       "...                  ...                 ...                 ...   \n",
       "71097         CUAUHTEMOC            GUERRERO                 NaN   \n",
       "71098         CUAUHTEMOC            GUERRERO           35.650001   \n",
       "71099         CUAUHTEMOC            GUERRERO           94.894999   \n",
       "71100         CUAUHTEMOC            GUERRERO          100.662498   \n",
       "71101         CUAUHTEMOC            GUERRERO           13.733333   \n",
       "\n",
       "       consumo_total  consumo_prom  consumo_prom_no_dom  bimestre  \\\n",
       "0             631.00     42.066667             3.050000         3   \n",
       "1             115.13     28.782500             7.320000         3   \n",
       "2             197.96     32.993333            75.030000         3   \n",
       "3             253.53     84.510000            84.510000         3   \n",
       "4             839.35     76.304545           121.570000         3   \n",
       "...              ...           ...                  ...       ...   \n",
       "71097        4286.28     19.307568            13.687308         1   \n",
       "71098        9796.12     20.976702            13.506923         1   \n",
       "71099        5692.81     29.344381            15.093334         1   \n",
       "71100         963.15     41.876087             9.610000         1   \n",
       "71101        9000.07     21.951366            15.034444         1   \n",
       "\n",
       "       consumo_total_no_dom    gid indice_des  \n",
       "0                      3.05  57250       ALTO  \n",
       "1                      7.32  57253      MEDIO  \n",
       "2                     75.03  57255    POPULAR  \n",
       "3                    253.53  57267       BAJO  \n",
       "4                    243.14  57330       BAJO  \n",
       "...                     ...    ...        ...  \n",
       "71097                355.87    233       BAJO  \n",
       "71098                175.59    238    POPULAR  \n",
       "71099                226.40    239       BAJO  \n",
       "71100                  9.61    244       BAJO  \n",
       "71101                405.93    247       BAJO  \n",
       "\n",
       "[71102 rows x 17 columns]"
      ]
     },
     "execution_count": 137,
     "metadata": {},
     "output_type": "execute_result"
    }
   ],
   "source": [
    "df"
   ]
  },
  {
   "cell_type": "markdown",
   "metadata": {},
   "source": [
    "# Data profiling"
   ]
  },
  {
   "cell_type": "markdown",
   "metadata": {
    "heading_collapsed": true
   },
   "source": [
    "## ¿Cuántas variables tenemos?"
   ]
  },
  {
   "cell_type": "code",
   "execution_count": null,
   "metadata": {
    "ExecuteTime": {
     "end_time": "2020-09-25T18:51:58.087242Z",
     "start_time": "2020-09-25T18:51:58.071785Z"
    },
    "hidden": true
   },
   "outputs": [],
   "source": [
    "count_vars(df)"
   ]
  },
  {
   "cell_type": "markdown",
   "metadata": {
    "heading_collapsed": true
   },
   "source": [
    "## ¿Cuántas observaciones tenemos?"
   ]
  },
  {
   "cell_type": "code",
   "execution_count": null,
   "metadata": {
    "ExecuteTime": {
     "end_time": "2020-09-25T18:51:58.104549Z",
     "start_time": "2020-09-25T18:51:58.088988Z"
    },
    "hidden": true
   },
   "outputs": [],
   "source": [
    "count_obs(df)"
   ]
  },
  {
   "cell_type": "markdown",
   "metadata": {
    "heading_collapsed": true
   },
   "source": [
    "## ¿Cuántas observaciones únicas tenemos por variable?"
   ]
  },
  {
   "cell_type": "code",
   "execution_count": null,
   "metadata": {
    "ExecuteTime": {
     "end_time": "2020-09-22T23:53:23.721055Z",
     "start_time": "2020-09-22T23:53:23.590529Z"
    },
    "hidden": true
   },
   "outputs": [],
   "source": [
    "u_vars = {}\n",
    "for col in df.columns:\n",
    "    u_vars[col] = len(df[col].unique())"
   ]
  },
  {
   "cell_type": "code",
   "execution_count": null,
   "metadata": {
    "ExecuteTime": {
     "end_time": "2020-09-22T23:53:26.754415Z",
     "start_time": "2020-09-22T23:53:26.750382Z"
    },
    "hidden": true
   },
   "outputs": [],
   "source": [
    "u_vars"
   ]
  },
  {
   "cell_type": "code",
   "execution_count": null,
   "metadata": {
    "ExecuteTime": {
     "end_time": "2020-09-23T00:56:11.981581Z",
     "start_time": "2020-09-23T00:56:11.902047Z"
    },
    "hidden": true
   },
   "outputs": [],
   "source": [
    "df.nunique()"
   ]
  },
  {
   "cell_type": "markdown",
   "metadata": {
    "heading_collapsed": true
   },
   "source": [
    "## ¿Cuántas variables numéricas tenemos?"
   ]
  },
  {
   "cell_type": "markdown",
   "metadata": {
    "hidden": true
   },
   "source": [
    "Tenemos 8 variables numéricas"
   ]
  },
  {
   "cell_type": "code",
   "execution_count": 138,
   "metadata": {
    "ExecuteTime": {
     "end_time": "2020-09-30T15:06:09.365974Z",
     "start_time": "2020-09-30T15:06:09.343495Z"
    },
    "hidden": true
   },
   "outputs": [],
   "source": [
    "vars_num = [\n",
    "    \"consumo_total_mixto\",\n",
    "    \"anio\", ## Puede ser también de fecha\n",
    "    \"consumo_prom_dom\",\n",
    "    \"consumo_total_dom\",\n",
    "    \"consumo_prom_mixto\",\n",
    "    \"consumo_total\",\n",
    "    \"consumo_prom\",\n",
    "    \"bimestre\", ## Puede ser categórica ordinal\n",
    "    \"consumo_prom_no_dom\",\n",
    "    \"gid\"\n",
    "]"
   ]
  },
  {
   "cell_type": "code",
   "execution_count": 7,
   "metadata": {
    "ExecuteTime": {
     "end_time": "2020-09-30T00:29:07.662718Z",
     "start_time": "2020-09-30T00:29:07.647181Z"
    },
    "hidden": true
   },
   "outputs": [],
   "source": [
    "count_num_vars(vars_num)"
   ]
  },
  {
   "cell_type": "markdown",
   "metadata": {
    "heading_collapsed": true
   },
   "source": [
    "## ¿Cuántas variables de fecha tenemos?"
   ]
  },
  {
   "cell_type": "code",
   "execution_count": null,
   "metadata": {
    "ExecuteTime": {
     "end_time": "2020-09-23T00:12:42.007363Z",
     "start_time": "2020-09-23T00:12:42.005076Z"
    },
    "hidden": true
   },
   "outputs": [],
   "source": [
    "date_vars = [\n",
    "    \"anio\", ## Puede ser también de fecha\n",
    "]"
   ]
  },
  {
   "cell_type": "code",
   "execution_count": null,
   "metadata": {
    "ExecuteTime": {
     "end_time": "2020-09-23T00:58:23.111013Z",
     "start_time": "2020-09-23T00:58:23.108152Z"
    },
    "hidden": true
   },
   "outputs": [],
   "source": [
    "print(f\"Tenemos un total de {len(date_vars)} variable(s) de fecha\")"
   ]
  },
  {
   "cell_type": "markdown",
   "metadata": {
    "heading_collapsed": true
   },
   "source": [
    "## ¿Cuántas variables categóricas tenemos?"
   ]
  },
  {
   "cell_type": "code",
   "execution_count": null,
   "metadata": {
    "ExecuteTime": {
     "end_time": "2020-09-23T00:14:17.595449Z",
     "start_time": "2020-09-23T00:14:17.593079Z"
    },
    "hidden": true
   },
   "outputs": [],
   "source": [
    "cat_vars = [\n",
    "    \"anio\",\n",
    "    \"nomgeo\",\n",
    "    \"alcaldia\",\n",
    "    \"colonia\",\n",
    "    \"bimestre\",\n",
    "    \"indice_des\",\n",
    "]"
   ]
  },
  {
   "cell_type": "code",
   "execution_count": null,
   "metadata": {
    "ExecuteTime": {
     "end_time": "2020-09-23T00:58:41.842558Z",
     "start_time": "2020-09-23T00:58:41.839477Z"
    },
    "hidden": true
   },
   "outputs": [],
   "source": [
    "print(f\"Tenemos un total de {len(cat_vars)} variables categóricas\")"
   ]
  },
  {
   "cell_type": "markdown",
   "metadata": {
    "heading_collapsed": true
   },
   "source": [
    "## ¿Cuántas variables de texto tenemos?"
   ]
  },
  {
   "cell_type": "code",
   "execution_count": null,
   "metadata": {
    "ExecuteTime": {
     "end_time": "2020-09-23T00:16:29.494646Z",
     "start_time": "2020-09-23T00:16:29.492033Z"
    },
    "hidden": true
   },
   "outputs": [],
   "source": [
    "txt_vars = [\n",
    "    \"nomgeo\",\n",
    "    \"alcaldia\",\n",
    "    \"colonia\",\n",
    "    \"indice_des\",\n",
    "]"
   ]
  },
  {
   "cell_type": "code",
   "execution_count": null,
   "metadata": {
    "ExecuteTime": {
     "end_time": "2020-09-23T00:59:19.319191Z",
     "start_time": "2020-09-23T00:59:19.316291Z"
    },
    "hidden": true
   },
   "outputs": [],
   "source": [
    "print(f\"Tenemos un total de {len(txt_vars)} variables de text\")"
   ]
  },
  {
   "cell_type": "markdown",
   "metadata": {},
   "source": [
    "## Generea el profiling de cada variable"
   ]
  },
  {
   "cell_type": "markdown",
   "metadata": {},
   "source": [
    "### Numeric data profiling"
   ]
  },
  {
   "cell_type": "markdown",
   "metadata": {},
   "source": [
    "- [x] Tipo de dato: float, integer\n",
    "- [x] Número de observaciones\n",
    "- [x] Mean\n",
    "- [x] Desviación estándar\n",
    "- [x] Cuartiles: 25%, 50%, 75%\n",
    "- [x] Valor máximo\n",
    "- [x] Valor mínimo\n",
    "- [x] Número de observaciones únicos\n",
    "- [x] Top 5 observaciones repetidas\n",
    "- [x] Número de observaciones con valores faltantes\n",
    "- [ ] ¿Hay redondeos?"
   ]
  },
  {
   "cell_type": "code",
   "execution_count": 142,
   "metadata": {
    "ExecuteTime": {
     "end_time": "2020-09-30T15:06:52.445624Z",
     "start_time": "2020-09-30T15:06:52.425552Z"
    }
   },
   "outputs": [],
   "source": [
    "dfx = df.loc[:, vars_num]"
   ]
  },
  {
   "cell_type": "raw",
   "metadata": {
    "ExecuteTime": {
     "end_time": "2020-09-30T00:42:22.739211Z",
     "start_time": "2020-09-30T00:42:22.709113Z"
    }
   },
   "source": [
    "dfx"
   ]
  },
  {
   "cell_type": "markdown",
   "metadata": {
    "heading_collapsed": true
   },
   "source": [
    "#### Tipo de dato: float, integer"
   ]
  },
  {
   "cell_type": "code",
   "execution_count": 125,
   "metadata": {
    "ExecuteTime": {
     "end_time": "2020-09-30T14:45:35.534937Z",
     "start_time": "2020-09-30T14:45:35.510537Z"
    },
    "hidden": true
   },
   "outputs": [
    {
     "data": {
      "text/html": [
       "<div>\n",
       "<style scoped>\n",
       "    .dataframe tbody tr th:only-of-type {\n",
       "        vertical-align: middle;\n",
       "    }\n",
       "\n",
       "    .dataframe tbody tr th {\n",
       "        vertical-align: top;\n",
       "    }\n",
       "\n",
       "    .dataframe thead th {\n",
       "        text-align: right;\n",
       "    }\n",
       "</style>\n",
       "<table border=\"1\" class=\"dataframe\">\n",
       "  <thead>\n",
       "    <tr style=\"text-align: right;\">\n",
       "      <th></th>\n",
       "      <th>consumo_total_mixto</th>\n",
       "      <th>anio</th>\n",
       "      <th>consumo_prom_dom</th>\n",
       "      <th>consumo_total_dom</th>\n",
       "      <th>consumo_prom_mixto</th>\n",
       "      <th>consumo_total</th>\n",
       "      <th>consumo_prom</th>\n",
       "      <th>bimestre</th>\n",
       "      <th>consumo_prom_no_dom</th>\n",
       "      <th>gid</th>\n",
       "    </tr>\n",
       "  </thead>\n",
       "  <tbody>\n",
       "    <tr>\n",
       "      <th>dtype</th>\n",
       "      <td>float64</td>\n",
       "      <td>int64</td>\n",
       "      <td>float64</td>\n",
       "      <td>float64</td>\n",
       "      <td>float64</td>\n",
       "      <td>float64</td>\n",
       "      <td>float64</td>\n",
       "      <td>int64</td>\n",
       "      <td>float64</td>\n",
       "      <td>int64</td>\n",
       "    </tr>\n",
       "  </tbody>\n",
       "</table>\n",
       "</div>"
      ],
      "text/plain": [
       "      consumo_total_mixto   anio consumo_prom_dom consumo_total_dom  \\\n",
       "dtype             float64  int64          float64           float64   \n",
       "\n",
       "      consumo_prom_mixto consumo_total consumo_prom bimestre  \\\n",
       "dtype            float64       float64      float64    int64   \n",
       "\n",
       "      consumo_prom_no_dom    gid  \n",
       "dtype             float64  int64  "
      ]
     },
     "execution_count": 125,
     "metadata": {},
     "output_type": "execute_result"
    }
   ],
   "source": [
    "dfx_dtypes = dfx.dtypes.to_frame().T\n",
    "dfx_dtypes.index = [\"dtype\"]\n",
    "dfx_dtypes"
   ]
  },
  {
   "cell_type": "markdown",
   "metadata": {
    "heading_collapsed": true
   },
   "source": [
    "#### Descripción de los datos"
   ]
  },
  {
   "cell_type": "code",
   "execution_count": 31,
   "metadata": {
    "ExecuteTime": {
     "end_time": "2020-09-30T00:43:12.677534Z",
     "start_time": "2020-09-30T00:43:12.618505Z"
    },
    "hidden": true
   },
   "outputs": [],
   "source": [
    "dfx_desc = dfx.describe()"
   ]
  },
  {
   "cell_type": "code",
   "execution_count": 35,
   "metadata": {
    "ExecuteTime": {
     "end_time": "2020-09-30T00:44:06.280708Z",
     "start_time": "2020-09-30T00:44:06.250102Z"
    },
    "hidden": true
   },
   "outputs": [
    {
     "data": {
      "text/html": [
       "<div>\n",
       "<style scoped>\n",
       "    .dataframe tbody tr th:only-of-type {\n",
       "        vertical-align: middle;\n",
       "    }\n",
       "\n",
       "    .dataframe tbody tr th {\n",
       "        vertical-align: top;\n",
       "    }\n",
       "\n",
       "    .dataframe thead th {\n",
       "        text-align: right;\n",
       "    }\n",
       "</style>\n",
       "<table border=\"1\" class=\"dataframe\">\n",
       "  <thead>\n",
       "    <tr style=\"text-align: right;\">\n",
       "      <th></th>\n",
       "      <th>consumo_total_mixto</th>\n",
       "      <th>anio</th>\n",
       "      <th>consumo_prom_dom</th>\n",
       "      <th>consumo_total_dom</th>\n",
       "      <th>consumo_prom_mixto</th>\n",
       "      <th>consumo_total</th>\n",
       "      <th>consumo_prom</th>\n",
       "      <th>bimestre</th>\n",
       "      <th>consumo_prom_no_dom</th>\n",
       "      <th>gid</th>\n",
       "    </tr>\n",
       "  </thead>\n",
       "  <tbody>\n",
       "    <tr>\n",
       "      <th>count</th>\n",
       "      <td>62775.000000</td>\n",
       "      <td>71102.0</td>\n",
       "      <td>66282.000000</td>\n",
       "      <td>66282.000000</td>\n",
       "      <td>62775.000000</td>\n",
       "      <td>71102.000000</td>\n",
       "      <td>71102.000000</td>\n",
       "      <td>71102.000000</td>\n",
       "      <td>71102.000000</td>\n",
       "      <td>71102.000000</td>\n",
       "    </tr>\n",
       "    <tr>\n",
       "      <th>mean</th>\n",
       "      <td>174.359929</td>\n",
       "      <td>2019.0</td>\n",
       "      <td>29.132386</td>\n",
       "      <td>1186.263611</td>\n",
       "      <td>50.636234</td>\n",
       "      <td>1695.847222</td>\n",
       "      <td>111.217399</td>\n",
       "      <td>2.006807</td>\n",
       "      <td>126.760172</td>\n",
       "      <td>35551.500000</td>\n",
       "    </tr>\n",
       "    <tr>\n",
       "      <th>std</th>\n",
       "      <td>312.663596</td>\n",
       "      <td>0.0</td>\n",
       "      <td>64.565925</td>\n",
       "      <td>2771.038307</td>\n",
       "      <td>130.408673</td>\n",
       "      <td>3555.697457</td>\n",
       "      <td>1069.949262</td>\n",
       "      <td>0.814393</td>\n",
       "      <td>1095.817805</td>\n",
       "      <td>20525.523757</td>\n",
       "    </tr>\n",
       "    <tr>\n",
       "      <th>min</th>\n",
       "      <td>0.000000</td>\n",
       "      <td>2019.0</td>\n",
       "      <td>0.000000</td>\n",
       "      <td>0.000000</td>\n",
       "      <td>0.000000</td>\n",
       "      <td>0.000000</td>\n",
       "      <td>0.000000</td>\n",
       "      <td>1.000000</td>\n",
       "      <td>0.000000</td>\n",
       "      <td>1.000000</td>\n",
       "    </tr>\n",
       "    <tr>\n",
       "      <th>25%</th>\n",
       "      <td>0.000000</td>\n",
       "      <td>2019.0</td>\n",
       "      <td>18.690547</td>\n",
       "      <td>161.635000</td>\n",
       "      <td>0.000000</td>\n",
       "      <td>340.952500</td>\n",
       "      <td>23.010139</td>\n",
       "      <td>1.000000</td>\n",
       "      <td>6.275417</td>\n",
       "      <td>17776.250000</td>\n",
       "    </tr>\n",
       "    <tr>\n",
       "      <th>50%</th>\n",
       "      <td>79.940000</td>\n",
       "      <td>2019.0</td>\n",
       "      <td>26.414248</td>\n",
       "      <td>604.185000</td>\n",
       "      <td>33.451667</td>\n",
       "      <td>896.175000</td>\n",
       "      <td>31.693818</td>\n",
       "      <td>2.000000</td>\n",
       "      <td>19.280000</td>\n",
       "      <td>35551.500000</td>\n",
       "    </tr>\n",
       "    <tr>\n",
       "      <th>75%</th>\n",
       "      <td>233.320000</td>\n",
       "      <td>2019.0</td>\n",
       "      <td>36.246563</td>\n",
       "      <td>1261.445000</td>\n",
       "      <td>61.216548</td>\n",
       "      <td>1808.902500</td>\n",
       "      <td>45.484917</td>\n",
       "      <td>3.000000</td>\n",
       "      <td>54.186875</td>\n",
       "      <td>53326.750000</td>\n",
       "    </tr>\n",
       "    <tr>\n",
       "      <th>max</th>\n",
       "      <td>23404.440000</td>\n",
       "      <td>2019.0</td>\n",
       "      <td>7796.410000</td>\n",
       "      <td>95060.690000</td>\n",
       "      <td>11702.220000</td>\n",
       "      <td>119726.940000</td>\n",
       "      <td>89691.773438</td>\n",
       "      <td>3.000000</td>\n",
       "      <td>89691.773438</td>\n",
       "      <td>71102.000000</td>\n",
       "    </tr>\n",
       "  </tbody>\n",
       "</table>\n",
       "</div>"
      ],
      "text/plain": [
       "       consumo_total_mixto     anio  consumo_prom_dom  consumo_total_dom  \\\n",
       "count         62775.000000  71102.0      66282.000000       66282.000000   \n",
       "mean            174.359929   2019.0         29.132386        1186.263611   \n",
       "std             312.663596      0.0         64.565925        2771.038307   \n",
       "min               0.000000   2019.0          0.000000           0.000000   \n",
       "25%               0.000000   2019.0         18.690547         161.635000   \n",
       "50%              79.940000   2019.0         26.414248         604.185000   \n",
       "75%             233.320000   2019.0         36.246563        1261.445000   \n",
       "max           23404.440000   2019.0       7796.410000       95060.690000   \n",
       "\n",
       "       consumo_prom_mixto  consumo_total  consumo_prom      bimestre  \\\n",
       "count        62775.000000   71102.000000  71102.000000  71102.000000   \n",
       "mean            50.636234    1695.847222    111.217399      2.006807   \n",
       "std            130.408673    3555.697457   1069.949262      0.814393   \n",
       "min              0.000000       0.000000      0.000000      1.000000   \n",
       "25%              0.000000     340.952500     23.010139      1.000000   \n",
       "50%             33.451667     896.175000     31.693818      2.000000   \n",
       "75%             61.216548    1808.902500     45.484917      3.000000   \n",
       "max          11702.220000  119726.940000  89691.773438      3.000000   \n",
       "\n",
       "       consumo_prom_no_dom           gid  \n",
       "count         71102.000000  71102.000000  \n",
       "mean            126.760172  35551.500000  \n",
       "std            1095.817805  20525.523757  \n",
       "min               0.000000      1.000000  \n",
       "25%               6.275417  17776.250000  \n",
       "50%              19.280000  35551.500000  \n",
       "75%              54.186875  53326.750000  \n",
       "max           89691.773438  71102.000000  "
      ]
     },
     "execution_count": 35,
     "metadata": {},
     "output_type": "execute_result"
    }
   ],
   "source": [
    "dfx_desc.loc[\"min\", :] = dfx.min(axis=0)\n",
    "dfx_desc"
   ]
  },
  {
   "cell_type": "markdown",
   "metadata": {
    "heading_collapsed": true
   },
   "source": [
    "#### Conteo de variables numéricas únicas"
   ]
  },
  {
   "cell_type": "code",
   "execution_count": 121,
   "metadata": {
    "ExecuteTime": {
     "end_time": "2020-09-30T14:43:56.567724Z",
     "start_time": "2020-09-30T14:43:56.524464Z"
    },
    "hidden": true
   },
   "outputs": [
    {
     "data": {
      "text/html": [
       "<div>\n",
       "<style scoped>\n",
       "    .dataframe tbody tr th:only-of-type {\n",
       "        vertical-align: middle;\n",
       "    }\n",
       "\n",
       "    .dataframe tbody tr th {\n",
       "        vertical-align: top;\n",
       "    }\n",
       "\n",
       "    .dataframe thead th {\n",
       "        text-align: right;\n",
       "    }\n",
       "</style>\n",
       "<table border=\"1\" class=\"dataframe\">\n",
       "  <thead>\n",
       "    <tr style=\"text-align: right;\">\n",
       "      <th></th>\n",
       "      <th>consumo_total_mixto</th>\n",
       "      <th>anio</th>\n",
       "      <th>consumo_prom_dom</th>\n",
       "      <th>consumo_total_dom</th>\n",
       "      <th>consumo_prom_mixto</th>\n",
       "      <th>consumo_total</th>\n",
       "      <th>consumo_prom</th>\n",
       "      <th>bimestre</th>\n",
       "      <th>consumo_prom_no_dom</th>\n",
       "      <th>gid</th>\n",
       "    </tr>\n",
       "  </thead>\n",
       "  <tbody>\n",
       "    <tr>\n",
       "      <th>count_unique</th>\n",
       "      <td>24339</td>\n",
       "      <td>1</td>\n",
       "      <td>52060</td>\n",
       "      <td>47051</td>\n",
       "      <td>31911</td>\n",
       "      <td>56015</td>\n",
       "      <td>62214</td>\n",
       "      <td>3</td>\n",
       "      <td>37440</td>\n",
       "      <td>71102</td>\n",
       "    </tr>\n",
       "  </tbody>\n",
       "</table>\n",
       "</div>"
      ],
      "text/plain": [
       "              consumo_total_mixto  anio  consumo_prom_dom  consumo_total_dom  \\\n",
       "count_unique                24339     1             52060              47051   \n",
       "\n",
       "              consumo_prom_mixto  consumo_total  consumo_prom  bimestre  \\\n",
       "count_unique               31911          56015         62214         3   \n",
       "\n",
       "              consumo_prom_no_dom    gid  \n",
       "count_unique                37440  71102  "
      ]
     },
     "execution_count": 121,
     "metadata": {},
     "output_type": "execute_result"
    }
   ],
   "source": [
    "dfx_ctuniq = dfx.nunique().to_frame().T\n",
    "dfx_ctuniq.index = [\"count_unique\"]\n",
    "dfx_ctuniq"
   ]
  },
  {
   "cell_type": "markdown",
   "metadata": {
    "heading_collapsed": true
   },
   "source": [
    "#### Número de observaciones con valores faltantes"
   ]
  },
  {
   "cell_type": "code",
   "execution_count": 128,
   "metadata": {
    "ExecuteTime": {
     "end_time": "2020-09-30T14:47:51.729088Z",
     "start_time": "2020-09-30T14:47:51.703648Z"
    },
    "hidden": true
   },
   "outputs": [
    {
     "data": {
      "text/html": [
       "<div>\n",
       "<style scoped>\n",
       "    .dataframe tbody tr th:only-of-type {\n",
       "        vertical-align: middle;\n",
       "    }\n",
       "\n",
       "    .dataframe tbody tr th {\n",
       "        vertical-align: top;\n",
       "    }\n",
       "\n",
       "    .dataframe thead th {\n",
       "        text-align: right;\n",
       "    }\n",
       "</style>\n",
       "<table border=\"1\" class=\"dataframe\">\n",
       "  <thead>\n",
       "    <tr style=\"text-align: right;\">\n",
       "      <th></th>\n",
       "      <th>consumo_total_mixto</th>\n",
       "      <th>anio</th>\n",
       "      <th>consumo_prom_dom</th>\n",
       "      <th>consumo_total_dom</th>\n",
       "      <th>consumo_prom_mixto</th>\n",
       "      <th>consumo_total</th>\n",
       "      <th>consumo_prom</th>\n",
       "      <th>bimestre</th>\n",
       "      <th>consumo_prom_no_dom</th>\n",
       "      <th>gid</th>\n",
       "    </tr>\n",
       "  </thead>\n",
       "  <tbody>\n",
       "    <tr>\n",
       "      <th>missing_v</th>\n",
       "      <td>8327</td>\n",
       "      <td>0</td>\n",
       "      <td>4820</td>\n",
       "      <td>4820</td>\n",
       "      <td>8327</td>\n",
       "      <td>0</td>\n",
       "      <td>0</td>\n",
       "      <td>0</td>\n",
       "      <td>0</td>\n",
       "      <td>0</td>\n",
       "    </tr>\n",
       "  </tbody>\n",
       "</table>\n",
       "</div>"
      ],
      "text/plain": [
       "           consumo_total_mixto  anio  consumo_prom_dom  consumo_total_dom  \\\n",
       "missing_v                 8327     0              4820               4820   \n",
       "\n",
       "           consumo_prom_mixto  consumo_total  consumo_prom  bimestre  \\\n",
       "missing_v                8327              0             0         0   \n",
       "\n",
       "           consumo_prom_no_dom  gid  \n",
       "missing_v                    0    0  "
      ]
     },
     "execution_count": 128,
     "metadata": {},
     "output_type": "execute_result"
    }
   ],
   "source": [
    "dfx_missingv = dfx.isnull().sum().to_frame().T\n",
    "dfx_missingv.index = [\"missing_v\"]\n",
    "dfx_missingv"
   ]
  },
  {
   "cell_type": "markdown",
   "metadata": {
    "heading_collapsed": true
   },
   "source": [
    "#### Integración de resultados derivados de la descripción de datos"
   ]
  },
  {
   "cell_type": "code",
   "execution_count": 171,
   "metadata": {
    "ExecuteTime": {
     "end_time": "2020-09-30T15:23:25.830691Z",
     "start_time": "2020-09-30T15:23:25.797747Z"
    },
    "hidden": true
   },
   "outputs": [
    {
     "data": {
      "text/html": [
       "<div>\n",
       "<style scoped>\n",
       "    .dataframe tbody tr th:only-of-type {\n",
       "        vertical-align: middle;\n",
       "    }\n",
       "\n",
       "    .dataframe tbody tr th {\n",
       "        vertical-align: top;\n",
       "    }\n",
       "\n",
       "    .dataframe thead th {\n",
       "        text-align: right;\n",
       "    }\n",
       "</style>\n",
       "<table border=\"1\" class=\"dataframe\">\n",
       "  <thead>\n",
       "    <tr style=\"text-align: right;\">\n",
       "      <th></th>\n",
       "      <th>consumo_total_mixto</th>\n",
       "      <th>anio</th>\n",
       "      <th>consumo_prom_dom</th>\n",
       "      <th>consumo_total_dom</th>\n",
       "      <th>consumo_prom_mixto</th>\n",
       "      <th>consumo_total</th>\n",
       "      <th>consumo_prom</th>\n",
       "      <th>bimestre</th>\n",
       "      <th>consumo_prom_no_dom</th>\n",
       "      <th>gid</th>\n",
       "    </tr>\n",
       "  </thead>\n",
       "  <tbody>\n",
       "    <tr>\n",
       "      <th>dtype</th>\n",
       "      <td>float64</td>\n",
       "      <td>int64</td>\n",
       "      <td>float64</td>\n",
       "      <td>float64</td>\n",
       "      <td>float64</td>\n",
       "      <td>float64</td>\n",
       "      <td>float64</td>\n",
       "      <td>int64</td>\n",
       "      <td>float64</td>\n",
       "      <td>int64</td>\n",
       "    </tr>\n",
       "    <tr>\n",
       "      <th>count_unique</th>\n",
       "      <td>24339</td>\n",
       "      <td>1</td>\n",
       "      <td>52060</td>\n",
       "      <td>47051</td>\n",
       "      <td>31911</td>\n",
       "      <td>56015</td>\n",
       "      <td>62214</td>\n",
       "      <td>3</td>\n",
       "      <td>37440</td>\n",
       "      <td>71102</td>\n",
       "    </tr>\n",
       "    <tr>\n",
       "      <th>missing_v</th>\n",
       "      <td>8327</td>\n",
       "      <td>0</td>\n",
       "      <td>4820</td>\n",
       "      <td>4820</td>\n",
       "      <td>8327</td>\n",
       "      <td>0</td>\n",
       "      <td>0</td>\n",
       "      <td>0</td>\n",
       "      <td>0</td>\n",
       "      <td>0</td>\n",
       "    </tr>\n",
       "    <tr>\n",
       "      <th>count</th>\n",
       "      <td>62775</td>\n",
       "      <td>71102</td>\n",
       "      <td>66282</td>\n",
       "      <td>66282</td>\n",
       "      <td>62775</td>\n",
       "      <td>71102</td>\n",
       "      <td>71102</td>\n",
       "      <td>71102</td>\n",
       "      <td>71102</td>\n",
       "      <td>71102</td>\n",
       "    </tr>\n",
       "    <tr>\n",
       "      <th>mean</th>\n",
       "      <td>174.36</td>\n",
       "      <td>2019</td>\n",
       "      <td>29.1324</td>\n",
       "      <td>1186.26</td>\n",
       "      <td>50.6362</td>\n",
       "      <td>1695.85</td>\n",
       "      <td>111.217</td>\n",
       "      <td>2.00681</td>\n",
       "      <td>126.76</td>\n",
       "      <td>35551.5</td>\n",
       "    </tr>\n",
       "    <tr>\n",
       "      <th>std</th>\n",
       "      <td>312.664</td>\n",
       "      <td>0</td>\n",
       "      <td>64.5659</td>\n",
       "      <td>2771.04</td>\n",
       "      <td>130.409</td>\n",
       "      <td>3555.7</td>\n",
       "      <td>1069.95</td>\n",
       "      <td>0.814393</td>\n",
       "      <td>1095.82</td>\n",
       "      <td>20525.5</td>\n",
       "    </tr>\n",
       "    <tr>\n",
       "      <th>min</th>\n",
       "      <td>0</td>\n",
       "      <td>2019</td>\n",
       "      <td>0</td>\n",
       "      <td>0</td>\n",
       "      <td>0</td>\n",
       "      <td>0</td>\n",
       "      <td>0</td>\n",
       "      <td>1</td>\n",
       "      <td>0</td>\n",
       "      <td>1</td>\n",
       "    </tr>\n",
       "    <tr>\n",
       "      <th>25%</th>\n",
       "      <td>0</td>\n",
       "      <td>2019</td>\n",
       "      <td>18.6905</td>\n",
       "      <td>161.635</td>\n",
       "      <td>0</td>\n",
       "      <td>340.952</td>\n",
       "      <td>23.0101</td>\n",
       "      <td>1</td>\n",
       "      <td>6.27542</td>\n",
       "      <td>17776.2</td>\n",
       "    </tr>\n",
       "    <tr>\n",
       "      <th>50%</th>\n",
       "      <td>79.94</td>\n",
       "      <td>2019</td>\n",
       "      <td>26.4142</td>\n",
       "      <td>604.185</td>\n",
       "      <td>33.4517</td>\n",
       "      <td>896.175</td>\n",
       "      <td>31.6938</td>\n",
       "      <td>2</td>\n",
       "      <td>19.28</td>\n",
       "      <td>35551.5</td>\n",
       "    </tr>\n",
       "    <tr>\n",
       "      <th>75%</th>\n",
       "      <td>233.32</td>\n",
       "      <td>2019</td>\n",
       "      <td>36.2466</td>\n",
       "      <td>1261.45</td>\n",
       "      <td>61.2165</td>\n",
       "      <td>1808.9</td>\n",
       "      <td>45.4849</td>\n",
       "      <td>3</td>\n",
       "      <td>54.1869</td>\n",
       "      <td>53326.8</td>\n",
       "    </tr>\n",
       "    <tr>\n",
       "      <th>max</th>\n",
       "      <td>23404.4</td>\n",
       "      <td>2019</td>\n",
       "      <td>7796.41</td>\n",
       "      <td>95060.7</td>\n",
       "      <td>11702.2</td>\n",
       "      <td>119727</td>\n",
       "      <td>89691.8</td>\n",
       "      <td>3</td>\n",
       "      <td>89691.8</td>\n",
       "      <td>71102</td>\n",
       "    </tr>\n",
       "  </tbody>\n",
       "</table>\n",
       "</div>"
      ],
      "text/plain": [
       "             consumo_total_mixto   anio consumo_prom_dom consumo_total_dom  \\\n",
       "dtype                    float64  int64          float64           float64   \n",
       "count_unique               24339      1            52060             47051   \n",
       "missing_v                   8327      0             4820              4820   \n",
       "count                      62775  71102            66282             66282   \n",
       "mean                      174.36   2019          29.1324           1186.26   \n",
       "std                      312.664      0          64.5659           2771.04   \n",
       "min                            0   2019                0                 0   \n",
       "25%                            0   2019          18.6905           161.635   \n",
       "50%                        79.94   2019          26.4142           604.185   \n",
       "75%                       233.32   2019          36.2466           1261.45   \n",
       "max                      23404.4   2019          7796.41           95060.7   \n",
       "\n",
       "             consumo_prom_mixto consumo_total consumo_prom  bimestre  \\\n",
       "dtype                   float64       float64      float64     int64   \n",
       "count_unique              31911         56015        62214         3   \n",
       "missing_v                  8327             0            0         0   \n",
       "count                     62775         71102        71102     71102   \n",
       "mean                    50.6362       1695.85      111.217   2.00681   \n",
       "std                     130.409        3555.7      1069.95  0.814393   \n",
       "min                           0             0            0         1   \n",
       "25%                           0       340.952      23.0101         1   \n",
       "50%                     33.4517       896.175      31.6938         2   \n",
       "75%                     61.2165        1808.9      45.4849         3   \n",
       "max                     11702.2        119727      89691.8         3   \n",
       "\n",
       "             consumo_prom_no_dom      gid  \n",
       "dtype                    float64    int64  \n",
       "count_unique               37440    71102  \n",
       "missing_v                      0        0  \n",
       "count                      71102    71102  \n",
       "mean                      126.76  35551.5  \n",
       "std                      1095.82  20525.5  \n",
       "min                            0        1  \n",
       "25%                      6.27542  17776.2  \n",
       "50%                        19.28  35551.5  \n",
       "75%                      54.1869  53326.8  \n",
       "max                      89691.8    71102  "
      ]
     },
     "execution_count": 171,
     "metadata": {},
     "output_type": "execute_result"
    }
   ],
   "source": [
    "pd.concat([dfx_dtypes, dfx_ctuniq, dfx_missingv, dfx_desc], axis=0)"
   ]
  },
  {
   "cell_type": "markdown",
   "metadata": {
    "heading_collapsed": true
   },
   "source": [
    "#### Top 5 observaciones repetidas"
   ]
  },
  {
   "cell_type": "code",
   "execution_count": 181,
   "metadata": {
    "ExecuteTime": {
     "end_time": "2020-09-30T15:30:47.309775Z",
     "start_time": "2020-09-30T15:30:47.173470Z"
    },
    "hidden": true
   },
   "outputs": [
    {
     "data": {
      "text/html": [
       "<div>\n",
       "<style scoped>\n",
       "    .dataframe tbody tr th:only-of-type {\n",
       "        vertical-align: middle;\n",
       "    }\n",
       "\n",
       "    .dataframe tbody tr th {\n",
       "        vertical-align: top;\n",
       "    }\n",
       "\n",
       "    .dataframe thead tr th {\n",
       "        text-align: left;\n",
       "    }\n",
       "</style>\n",
       "<table border=\"1\" class=\"dataframe\">\n",
       "  <thead>\n",
       "    <tr>\n",
       "      <th></th>\n",
       "      <th colspan=\"3\" halign=\"left\">consumo_total_mixto</th>\n",
       "      <th colspan=\"3\" halign=\"left\">anio</th>\n",
       "      <th colspan=\"3\" halign=\"left\">consumo_prom_dom</th>\n",
       "      <th>consumo_total_dom</th>\n",
       "      <th>...</th>\n",
       "      <th>consumo_prom</th>\n",
       "      <th colspan=\"3\" halign=\"left\">bimestre</th>\n",
       "      <th colspan=\"3\" halign=\"left\">consumo_prom_no_dom</th>\n",
       "      <th colspan=\"3\" halign=\"left\">gid</th>\n",
       "    </tr>\n",
       "    <tr>\n",
       "      <th></th>\n",
       "      <th>value</th>\n",
       "      <th>count</th>\n",
       "      <th>part_notnull</th>\n",
       "      <th>value</th>\n",
       "      <th>count</th>\n",
       "      <th>part_notnull</th>\n",
       "      <th>value</th>\n",
       "      <th>count</th>\n",
       "      <th>part_notnull</th>\n",
       "      <th>value</th>\n",
       "      <th>...</th>\n",
       "      <th>part_notnull</th>\n",
       "      <th>value</th>\n",
       "      <th>count</th>\n",
       "      <th>part_notnull</th>\n",
       "      <th>value</th>\n",
       "      <th>count</th>\n",
       "      <th>part_notnull</th>\n",
       "      <th>value</th>\n",
       "      <th>count</th>\n",
       "      <th>part_notnull</th>\n",
       "    </tr>\n",
       "  </thead>\n",
       "  <tbody>\n",
       "    <tr>\n",
       "      <th>top_1</th>\n",
       "      <td>0.0</td>\n",
       "      <td>17715</td>\n",
       "      <td>28.22</td>\n",
       "      <td>2019</td>\n",
       "      <td>71102</td>\n",
       "      <td>100</td>\n",
       "      <td>0.00</td>\n",
       "      <td>9861</td>\n",
       "      <td>14.88</td>\n",
       "      <td>0.00</td>\n",
       "      <td>...</td>\n",
       "      <td>3.45</td>\n",
       "      <td>2</td>\n",
       "      <td>23942</td>\n",
       "      <td>33.67</td>\n",
       "      <td>0.00</td>\n",
       "      <td>8109</td>\n",
       "      <td>11.40</td>\n",
       "      <td>2047</td>\n",
       "      <td>1</td>\n",
       "      <td>0.0</td>\n",
       "    </tr>\n",
       "    <tr>\n",
       "      <th>top_2</th>\n",
       "      <td>36.0</td>\n",
       "      <td>74</td>\n",
       "      <td>0.12</td>\n",
       "      <td>-</td>\n",
       "      <td>-</td>\n",
       "      <td>-</td>\n",
       "      <td>1.22</td>\n",
       "      <td>33</td>\n",
       "      <td>0.05</td>\n",
       "      <td>1.22</td>\n",
       "      <td>...</td>\n",
       "      <td>0.09</td>\n",
       "      <td>3</td>\n",
       "      <td>23822</td>\n",
       "      <td>33.5</td>\n",
       "      <td>1.22</td>\n",
       "      <td>330</td>\n",
       "      <td>0.46</td>\n",
       "      <td>6806</td>\n",
       "      <td>1</td>\n",
       "      <td>0.0</td>\n",
       "    </tr>\n",
       "    <tr>\n",
       "      <th>top_3</th>\n",
       "      <td>17.7</td>\n",
       "      <td>61</td>\n",
       "      <td>0.10</td>\n",
       "      <td>-</td>\n",
       "      <td>-</td>\n",
       "      <td>-</td>\n",
       "      <td>14.64</td>\n",
       "      <td>23</td>\n",
       "      <td>0.03</td>\n",
       "      <td>10.98</td>\n",
       "      <td>...</td>\n",
       "      <td>0.08</td>\n",
       "      <td>1</td>\n",
       "      <td>23338</td>\n",
       "      <td>32.82</td>\n",
       "      <td>1.83</td>\n",
       "      <td>290</td>\n",
       "      <td>0.41</td>\n",
       "      <td>10896</td>\n",
       "      <td>1</td>\n",
       "      <td>0.0</td>\n",
       "    </tr>\n",
       "    <tr>\n",
       "      <th>top_4</th>\n",
       "      <td>36.6</td>\n",
       "      <td>59</td>\n",
       "      <td>0.09</td>\n",
       "      <td>-</td>\n",
       "      <td>-</td>\n",
       "      <td>-</td>\n",
       "      <td>10.98</td>\n",
       "      <td>22</td>\n",
       "      <td>0.03</td>\n",
       "      <td>25.62</td>\n",
       "      <td>...</td>\n",
       "      <td>0.06</td>\n",
       "      <td>-</td>\n",
       "      <td>-</td>\n",
       "      <td>-</td>\n",
       "      <td>3.05</td>\n",
       "      <td>260</td>\n",
       "      <td>0.37</td>\n",
       "      <td>8849</td>\n",
       "      <td>1</td>\n",
       "      <td>0.0</td>\n",
       "    </tr>\n",
       "    <tr>\n",
       "      <th>top_5</th>\n",
       "      <td>18.3</td>\n",
       "      <td>54</td>\n",
       "      <td>0.09</td>\n",
       "      <td>-</td>\n",
       "      <td>-</td>\n",
       "      <td>-</td>\n",
       "      <td>15.25</td>\n",
       "      <td>22</td>\n",
       "      <td>0.03</td>\n",
       "      <td>3.66</td>\n",
       "      <td>...</td>\n",
       "      <td>0.05</td>\n",
       "      <td>-</td>\n",
       "      <td>-</td>\n",
       "      <td>-</td>\n",
       "      <td>4.27</td>\n",
       "      <td>216</td>\n",
       "      <td>0.30</td>\n",
       "      <td>14994</td>\n",
       "      <td>1</td>\n",
       "      <td>0.0</td>\n",
       "    </tr>\n",
       "  </tbody>\n",
       "</table>\n",
       "<p>5 rows × 30 columns</p>\n",
       "</div>"
      ],
      "text/plain": [
       "      consumo_total_mixto                      anio                      \\\n",
       "                    value  count part_notnull value  count part_notnull   \n",
       "top_1                 0.0  17715        28.22  2019  71102          100   \n",
       "top_2                36.0     74         0.12     -      -            -   \n",
       "top_3                17.7     61         0.10     -      -            -   \n",
       "top_4                36.6     59         0.09     -      -            -   \n",
       "top_5                18.3     54         0.09     -      -            -   \n",
       "\n",
       "      consumo_prom_dom                    consumo_total_dom  ... consumo_prom  \\\n",
       "                 value count part_notnull             value  ... part_notnull   \n",
       "top_1             0.00  9861        14.88              0.00  ...         3.45   \n",
       "top_2             1.22    33         0.05              1.22  ...         0.09   \n",
       "top_3            14.64    23         0.03             10.98  ...         0.08   \n",
       "top_4            10.98    22         0.03             25.62  ...         0.06   \n",
       "top_5            15.25    22         0.03              3.66  ...         0.05   \n",
       "\n",
       "      bimestre                     consumo_prom_no_dom                     \\\n",
       "         value  count part_notnull               value count part_notnull   \n",
       "top_1        2  23942        33.67                0.00  8109        11.40   \n",
       "top_2        3  23822         33.5                1.22   330         0.46   \n",
       "top_3        1  23338        32.82                1.83   290         0.41   \n",
       "top_4        -      -            -                3.05   260         0.37   \n",
       "top_5        -      -            -                4.27   216         0.30   \n",
       "\n",
       "         gid                     \n",
       "       value count part_notnull  \n",
       "top_1   2047     1          0.0  \n",
       "top_2   6806     1          0.0  \n",
       "top_3  10896     1          0.0  \n",
       "top_4   8849     1          0.0  \n",
       "top_5  14994     1          0.0  \n",
       "\n",
       "[5 rows x 30 columns]"
      ]
     },
     "execution_count": 181,
     "metadata": {},
     "output_type": "execute_result"
    }
   ],
   "source": [
    "## Loop to create dataframe of top variables\n",
    "\n",
    "tops = 5 #### Number of tops that will be selected\n",
    "i = 0 #### Counter to start joining dataframes\n",
    "\n",
    "#### Loop through all variables that will be processed\n",
    "for col_sel in dfx:\n",
    "    \n",
    "    #### Creating dataframe with top entries and count\n",
    "    dfxx = dfx[col_sel].value_counts().iloc[:tops].to_frame()\n",
    "    dfxx.reset_index(drop=False, inplace=True)\n",
    "    dfxx[\"part\"] = round(dfxx[col_sel]/dfx[col_sel].count()*100, 2)\n",
    "    dfxx.columns = pd.MultiIndex.from_tuples([(col_sel, tag) for tag in [\"value\", \"count\", \"part_notnull\"]])\n",
    "    \n",
    "    #### Joining all the variables in one final dataframe \n",
    "    if i == 0:\n",
    "        df_tops = dfxx\n",
    "        i += 1\n",
    "    else:\n",
    "        df_tops = df_tops.join(dfxx)\n",
    "\n",
    "## Fill empty spaces of resulting dataframe and renaming index entries\n",
    "df_tops.fillna(\"-\", inplace=True)\n",
    "df_tops.index = [\"top_\" + str(i) for i in range(1, df_tops.shape[0] + 1)]\n",
    "df_tops"
   ]
  },
  {
   "cell_type": "markdown",
   "metadata": {},
   "source": [
    "#### Función para perfil de datos numérico"
   ]
  },
  {
   "cell_type": "code",
   "execution_count": 196,
   "metadata": {
    "ExecuteTime": {
     "end_time": "2020-09-30T15:39:29.729353Z",
     "start_time": "2020-09-30T15:39:29.534478Z"
    },
    "scrolled": true
   },
   "outputs": [
    {
     "name": "stdout",
     "output_type": "stream",
     "text": [
      "*********************************\n",
      "** General description of data **\n",
      "*********************************\n"
     ]
    },
    {
     "data": {
      "text/html": [
       "<div>\n",
       "<style scoped>\n",
       "    .dataframe tbody tr th:only-of-type {\n",
       "        vertical-align: middle;\n",
       "    }\n",
       "\n",
       "    .dataframe tbody tr th {\n",
       "        vertical-align: top;\n",
       "    }\n",
       "\n",
       "    .dataframe thead th {\n",
       "        text-align: right;\n",
       "    }\n",
       "</style>\n",
       "<table border=\"1\" class=\"dataframe\">\n",
       "  <thead>\n",
       "    <tr style=\"text-align: right;\">\n",
       "      <th></th>\n",
       "      <th>consumo_total_mixto</th>\n",
       "      <th>anio</th>\n",
       "      <th>consumo_prom_dom</th>\n",
       "      <th>consumo_total_dom</th>\n",
       "      <th>consumo_prom_mixto</th>\n",
       "      <th>consumo_total</th>\n",
       "      <th>consumo_prom</th>\n",
       "      <th>bimestre</th>\n",
       "      <th>consumo_prom_no_dom</th>\n",
       "      <th>gid</th>\n",
       "    </tr>\n",
       "  </thead>\n",
       "  <tbody>\n",
       "    <tr>\n",
       "      <th>dtype</th>\n",
       "      <td>float64</td>\n",
       "      <td>int64</td>\n",
       "      <td>float64</td>\n",
       "      <td>float64</td>\n",
       "      <td>float64</td>\n",
       "      <td>float64</td>\n",
       "      <td>float64</td>\n",
       "      <td>int64</td>\n",
       "      <td>float64</td>\n",
       "      <td>int64</td>\n",
       "    </tr>\n",
       "    <tr>\n",
       "      <th>count_unique</th>\n",
       "      <td>24339</td>\n",
       "      <td>1</td>\n",
       "      <td>52060</td>\n",
       "      <td>47051</td>\n",
       "      <td>31911</td>\n",
       "      <td>56015</td>\n",
       "      <td>62214</td>\n",
       "      <td>3</td>\n",
       "      <td>37440</td>\n",
       "      <td>71102</td>\n",
       "    </tr>\n",
       "    <tr>\n",
       "      <th>missing_v</th>\n",
       "      <td>8327</td>\n",
       "      <td>0</td>\n",
       "      <td>4820</td>\n",
       "      <td>4820</td>\n",
       "      <td>8327</td>\n",
       "      <td>0</td>\n",
       "      <td>0</td>\n",
       "      <td>0</td>\n",
       "      <td>0</td>\n",
       "      <td>0</td>\n",
       "    </tr>\n",
       "    <tr>\n",
       "      <th>count</th>\n",
       "      <td>62775</td>\n",
       "      <td>71102</td>\n",
       "      <td>66282</td>\n",
       "      <td>66282</td>\n",
       "      <td>62775</td>\n",
       "      <td>71102</td>\n",
       "      <td>71102</td>\n",
       "      <td>71102</td>\n",
       "      <td>71102</td>\n",
       "      <td>71102</td>\n",
       "    </tr>\n",
       "    <tr>\n",
       "      <th>mean</th>\n",
       "      <td>174.36</td>\n",
       "      <td>2019</td>\n",
       "      <td>29.1324</td>\n",
       "      <td>1186.26</td>\n",
       "      <td>50.6362</td>\n",
       "      <td>1695.85</td>\n",
       "      <td>111.217</td>\n",
       "      <td>2.00681</td>\n",
       "      <td>126.76</td>\n",
       "      <td>35551.5</td>\n",
       "    </tr>\n",
       "    <tr>\n",
       "      <th>std</th>\n",
       "      <td>312.664</td>\n",
       "      <td>0</td>\n",
       "      <td>64.5659</td>\n",
       "      <td>2771.04</td>\n",
       "      <td>130.409</td>\n",
       "      <td>3555.7</td>\n",
       "      <td>1069.95</td>\n",
       "      <td>0.814393</td>\n",
       "      <td>1095.82</td>\n",
       "      <td>20525.5</td>\n",
       "    </tr>\n",
       "    <tr>\n",
       "      <th>min</th>\n",
       "      <td>0</td>\n",
       "      <td>2019</td>\n",
       "      <td>0</td>\n",
       "      <td>0</td>\n",
       "      <td>0</td>\n",
       "      <td>0</td>\n",
       "      <td>0</td>\n",
       "      <td>1</td>\n",
       "      <td>0</td>\n",
       "      <td>1</td>\n",
       "    </tr>\n",
       "    <tr>\n",
       "      <th>25%</th>\n",
       "      <td>0</td>\n",
       "      <td>2019</td>\n",
       "      <td>18.6905</td>\n",
       "      <td>161.635</td>\n",
       "      <td>0</td>\n",
       "      <td>340.952</td>\n",
       "      <td>23.0101</td>\n",
       "      <td>1</td>\n",
       "      <td>6.27542</td>\n",
       "      <td>17776.2</td>\n",
       "    </tr>\n",
       "    <tr>\n",
       "      <th>50%</th>\n",
       "      <td>79.94</td>\n",
       "      <td>2019</td>\n",
       "      <td>26.4142</td>\n",
       "      <td>604.185</td>\n",
       "      <td>33.4517</td>\n",
       "      <td>896.175</td>\n",
       "      <td>31.6938</td>\n",
       "      <td>2</td>\n",
       "      <td>19.28</td>\n",
       "      <td>35551.5</td>\n",
       "    </tr>\n",
       "    <tr>\n",
       "      <th>75%</th>\n",
       "      <td>233.32</td>\n",
       "      <td>2019</td>\n",
       "      <td>36.2466</td>\n",
       "      <td>1261.45</td>\n",
       "      <td>61.2165</td>\n",
       "      <td>1808.9</td>\n",
       "      <td>45.4849</td>\n",
       "      <td>3</td>\n",
       "      <td>54.1869</td>\n",
       "      <td>53326.8</td>\n",
       "    </tr>\n",
       "    <tr>\n",
       "      <th>max</th>\n",
       "      <td>23404.4</td>\n",
       "      <td>2019</td>\n",
       "      <td>7796.41</td>\n",
       "      <td>95060.7</td>\n",
       "      <td>11702.2</td>\n",
       "      <td>119727</td>\n",
       "      <td>89691.8</td>\n",
       "      <td>3</td>\n",
       "      <td>89691.8</td>\n",
       "      <td>71102</td>\n",
       "    </tr>\n",
       "  </tbody>\n",
       "</table>\n",
       "</div>"
      ],
      "text/plain": [
       "             consumo_total_mixto   anio consumo_prom_dom consumo_total_dom  \\\n",
       "dtype                    float64  int64          float64           float64   \n",
       "count_unique               24339      1            52060             47051   \n",
       "missing_v                   8327      0             4820              4820   \n",
       "count                      62775  71102            66282             66282   \n",
       "mean                      174.36   2019          29.1324           1186.26   \n",
       "std                      312.664      0          64.5659           2771.04   \n",
       "min                            0   2019                0                 0   \n",
       "25%                            0   2019          18.6905           161.635   \n",
       "50%                        79.94   2019          26.4142           604.185   \n",
       "75%                       233.32   2019          36.2466           1261.45   \n",
       "max                      23404.4   2019          7796.41           95060.7   \n",
       "\n",
       "             consumo_prom_mixto consumo_total consumo_prom  bimestre  \\\n",
       "dtype                   float64       float64      float64     int64   \n",
       "count_unique              31911         56015        62214         3   \n",
       "missing_v                  8327             0            0         0   \n",
       "count                     62775         71102        71102     71102   \n",
       "mean                    50.6362       1695.85      111.217   2.00681   \n",
       "std                     130.409        3555.7      1069.95  0.814393   \n",
       "min                           0             0            0         1   \n",
       "25%                           0       340.952      23.0101         1   \n",
       "50%                     33.4517       896.175      31.6938         2   \n",
       "75%                     61.2165        1808.9      45.4849         3   \n",
       "max                     11702.2        119727      89691.8         3   \n",
       "\n",
       "             consumo_prom_no_dom      gid  \n",
       "dtype                    float64    int64  \n",
       "count_unique               37440    71102  \n",
       "missing_v                      0        0  \n",
       "count                      71102    71102  \n",
       "mean                      126.76  35551.5  \n",
       "std                      1095.82  20525.5  \n",
       "min                            0        1  \n",
       "25%                      6.27542  17776.2  \n",
       "50%                        19.28  35551.5  \n",
       "75%                      54.1869  53326.8  \n",
       "max                      89691.8    71102  "
      ]
     },
     "metadata": {},
     "output_type": "display_data"
    },
    {
     "name": "stdout",
     "output_type": "stream",
     "text": [
      "None\n",
      "---------------------------------------------------------------------------\n",
      "---------------------------------------------------------------------------\n",
      "\n",
      "\n",
      "\n",
      "****************************\n",
      "** Top repeated variables **\n",
      "****************************\n"
     ]
    },
    {
     "data": {
      "text/html": [
       "<div>\n",
       "<style scoped>\n",
       "    .dataframe tbody tr th:only-of-type {\n",
       "        vertical-align: middle;\n",
       "    }\n",
       "\n",
       "    .dataframe tbody tr th {\n",
       "        vertical-align: top;\n",
       "    }\n",
       "\n",
       "    .dataframe thead tr th {\n",
       "        text-align: left;\n",
       "    }\n",
       "</style>\n",
       "<table border=\"1\" class=\"dataframe\">\n",
       "  <thead>\n",
       "    <tr>\n",
       "      <th></th>\n",
       "      <th colspan=\"3\" halign=\"left\">consumo_total_mixto</th>\n",
       "      <th colspan=\"3\" halign=\"left\">anio</th>\n",
       "      <th colspan=\"3\" halign=\"left\">consumo_prom_dom</th>\n",
       "      <th colspan=\"3\" halign=\"left\">consumo_total_dom</th>\n",
       "      <th colspan=\"3\" halign=\"left\">consumo_prom_mixto</th>\n",
       "      <th colspan=\"3\" halign=\"left\">consumo_total</th>\n",
       "      <th colspan=\"3\" halign=\"left\">consumo_prom</th>\n",
       "      <th colspan=\"3\" halign=\"left\">bimestre</th>\n",
       "      <th colspan=\"3\" halign=\"left\">consumo_prom_no_dom</th>\n",
       "      <th colspan=\"3\" halign=\"left\">gid</th>\n",
       "    </tr>\n",
       "    <tr>\n",
       "      <th></th>\n",
       "      <th>value</th>\n",
       "      <th>count</th>\n",
       "      <th>part_notnull</th>\n",
       "      <th>value</th>\n",
       "      <th>count</th>\n",
       "      <th>part_notnull</th>\n",
       "      <th>value</th>\n",
       "      <th>count</th>\n",
       "      <th>part_notnull</th>\n",
       "      <th>value</th>\n",
       "      <th>count</th>\n",
       "      <th>part_notnull</th>\n",
       "      <th>value</th>\n",
       "      <th>count</th>\n",
       "      <th>part_notnull</th>\n",
       "      <th>value</th>\n",
       "      <th>count</th>\n",
       "      <th>part_notnull</th>\n",
       "      <th>value</th>\n",
       "      <th>count</th>\n",
       "      <th>part_notnull</th>\n",
       "      <th>value</th>\n",
       "      <th>count</th>\n",
       "      <th>part_notnull</th>\n",
       "      <th>value</th>\n",
       "      <th>count</th>\n",
       "      <th>part_notnull</th>\n",
       "      <th>value</th>\n",
       "      <th>count</th>\n",
       "      <th>part_notnull</th>\n",
       "    </tr>\n",
       "  </thead>\n",
       "  <tbody>\n",
       "    <tr>\n",
       "      <th>top_1</th>\n",
       "      <td>0.0</td>\n",
       "      <td>17715</td>\n",
       "      <td>28.22</td>\n",
       "      <td>2019</td>\n",
       "      <td>71102</td>\n",
       "      <td>100</td>\n",
       "      <td>0.00</td>\n",
       "      <td>9861</td>\n",
       "      <td>14.88</td>\n",
       "      <td>0.00</td>\n",
       "      <td>9861</td>\n",
       "      <td>14.88</td>\n",
       "      <td>0.00</td>\n",
       "      <td>17715</td>\n",
       "      <td>28.22</td>\n",
       "      <td>0.00</td>\n",
       "      <td>2451</td>\n",
       "      <td>3.45</td>\n",
       "      <td>0.00</td>\n",
       "      <td>2451</td>\n",
       "      <td>3.45</td>\n",
       "      <td>2</td>\n",
       "      <td>23942</td>\n",
       "      <td>33.67</td>\n",
       "      <td>0.00</td>\n",
       "      <td>8109</td>\n",
       "      <td>11.40</td>\n",
       "      <td>2047</td>\n",
       "      <td>1</td>\n",
       "      <td>0.0</td>\n",
       "    </tr>\n",
       "    <tr>\n",
       "      <th>top_2</th>\n",
       "      <td>36.0</td>\n",
       "      <td>74</td>\n",
       "      <td>0.12</td>\n",
       "      <td>-</td>\n",
       "      <td>-</td>\n",
       "      <td>-</td>\n",
       "      <td>1.22</td>\n",
       "      <td>33</td>\n",
       "      <td>0.05</td>\n",
       "      <td>1.22</td>\n",
       "      <td>37</td>\n",
       "      <td>0.06</td>\n",
       "      <td>36.00</td>\n",
       "      <td>58</td>\n",
       "      <td>0.09</td>\n",
       "      <td>3.05</td>\n",
       "      <td>70</td>\n",
       "      <td>0.10</td>\n",
       "      <td>1.22</td>\n",
       "      <td>62</td>\n",
       "      <td>0.09</td>\n",
       "      <td>3</td>\n",
       "      <td>23822</td>\n",
       "      <td>33.5</td>\n",
       "      <td>1.22</td>\n",
       "      <td>330</td>\n",
       "      <td>0.46</td>\n",
       "      <td>6806</td>\n",
       "      <td>1</td>\n",
       "      <td>0.0</td>\n",
       "    </tr>\n",
       "    <tr>\n",
       "      <th>top_3</th>\n",
       "      <td>17.7</td>\n",
       "      <td>61</td>\n",
       "      <td>0.10</td>\n",
       "      <td>-</td>\n",
       "      <td>-</td>\n",
       "      <td>-</td>\n",
       "      <td>14.64</td>\n",
       "      <td>23</td>\n",
       "      <td>0.03</td>\n",
       "      <td>10.98</td>\n",
       "      <td>21</td>\n",
       "      <td>0.03</td>\n",
       "      <td>29.28</td>\n",
       "      <td>57</td>\n",
       "      <td>0.09</td>\n",
       "      <td>1.22</td>\n",
       "      <td>68</td>\n",
       "      <td>0.10</td>\n",
       "      <td>3.05</td>\n",
       "      <td>55</td>\n",
       "      <td>0.08</td>\n",
       "      <td>1</td>\n",
       "      <td>23338</td>\n",
       "      <td>32.82</td>\n",
       "      <td>1.83</td>\n",
       "      <td>290</td>\n",
       "      <td>0.41</td>\n",
       "      <td>10896</td>\n",
       "      <td>1</td>\n",
       "      <td>0.0</td>\n",
       "    </tr>\n",
       "    <tr>\n",
       "      <th>top_4</th>\n",
       "      <td>36.6</td>\n",
       "      <td>59</td>\n",
       "      <td>0.09</td>\n",
       "      <td>-</td>\n",
       "      <td>-</td>\n",
       "      <td>-</td>\n",
       "      <td>10.98</td>\n",
       "      <td>22</td>\n",
       "      <td>0.03</td>\n",
       "      <td>25.62</td>\n",
       "      <td>20</td>\n",
       "      <td>0.03</td>\n",
       "      <td>36.60</td>\n",
       "      <td>53</td>\n",
       "      <td>0.08</td>\n",
       "      <td>3.66</td>\n",
       "      <td>42</td>\n",
       "      <td>0.06</td>\n",
       "      <td>4.27</td>\n",
       "      <td>43</td>\n",
       "      <td>0.06</td>\n",
       "      <td>-</td>\n",
       "      <td>-</td>\n",
       "      <td>-</td>\n",
       "      <td>3.05</td>\n",
       "      <td>260</td>\n",
       "      <td>0.37</td>\n",
       "      <td>8849</td>\n",
       "      <td>1</td>\n",
       "      <td>0.0</td>\n",
       "    </tr>\n",
       "    <tr>\n",
       "      <th>top_5</th>\n",
       "      <td>18.3</td>\n",
       "      <td>54</td>\n",
       "      <td>0.09</td>\n",
       "      <td>-</td>\n",
       "      <td>-</td>\n",
       "      <td>-</td>\n",
       "      <td>15.25</td>\n",
       "      <td>22</td>\n",
       "      <td>0.03</td>\n",
       "      <td>3.66</td>\n",
       "      <td>20</td>\n",
       "      <td>0.03</td>\n",
       "      <td>23.80</td>\n",
       "      <td>49</td>\n",
       "      <td>0.08</td>\n",
       "      <td>6.71</td>\n",
       "      <td>41</td>\n",
       "      <td>0.06</td>\n",
       "      <td>6.71</td>\n",
       "      <td>39</td>\n",
       "      <td>0.05</td>\n",
       "      <td>-</td>\n",
       "      <td>-</td>\n",
       "      <td>-</td>\n",
       "      <td>4.27</td>\n",
       "      <td>216</td>\n",
       "      <td>0.30</td>\n",
       "      <td>14994</td>\n",
       "      <td>1</td>\n",
       "      <td>0.0</td>\n",
       "    </tr>\n",
       "  </tbody>\n",
       "</table>\n",
       "</div>"
      ],
      "text/plain": [
       "      consumo_total_mixto                      anio                      \\\n",
       "                    value  count part_notnull value  count part_notnull   \n",
       "top_1                 0.0  17715        28.22  2019  71102          100   \n",
       "top_2                36.0     74         0.12     -      -            -   \n",
       "top_3                17.7     61         0.10     -      -            -   \n",
       "top_4                36.6     59         0.09     -      -            -   \n",
       "top_5                18.3     54         0.09     -      -            -   \n",
       "\n",
       "      consumo_prom_dom                    consumo_total_dom        \\\n",
       "                 value count part_notnull             value count   \n",
       "top_1             0.00  9861        14.88              0.00  9861   \n",
       "top_2             1.22    33         0.05              1.22    37   \n",
       "top_3            14.64    23         0.03             10.98    21   \n",
       "top_4            10.98    22         0.03             25.62    20   \n",
       "top_5            15.25    22         0.03              3.66    20   \n",
       "\n",
       "                   consumo_prom_mixto                     consumo_total        \\\n",
       "      part_notnull              value  count part_notnull         value count   \n",
       "top_1        14.88               0.00  17715        28.22          0.00  2451   \n",
       "top_2         0.06              36.00     58         0.09          3.05    70   \n",
       "top_3         0.03              29.28     57         0.09          1.22    68   \n",
       "top_4         0.03              36.60     53         0.08          3.66    42   \n",
       "top_5         0.03              23.80     49         0.08          6.71    41   \n",
       "\n",
       "                   consumo_prom                    bimestre         \\\n",
       "      part_notnull        value count part_notnull    value  count   \n",
       "top_1         3.45         0.00  2451         3.45        2  23942   \n",
       "top_2         0.10         1.22    62         0.09        3  23822   \n",
       "top_3         0.10         3.05    55         0.08        1  23338   \n",
       "top_4         0.06         4.27    43         0.06        -      -   \n",
       "top_5         0.06         6.71    39         0.05        -      -   \n",
       "\n",
       "                   consumo_prom_no_dom                       gid        \\\n",
       "      part_notnull               value count part_notnull  value count   \n",
       "top_1        33.67                0.00  8109        11.40   2047     1   \n",
       "top_2         33.5                1.22   330         0.46   6806     1   \n",
       "top_3        32.82                1.83   290         0.41  10896     1   \n",
       "top_4            -                3.05   260         0.37   8849     1   \n",
       "top_5            -                4.27   216         0.30  14994     1   \n",
       "\n",
       "                    \n",
       "      part_notnull  \n",
       "top_1          0.0  \n",
       "top_2          0.0  \n",
       "top_3          0.0  \n",
       "top_4          0.0  \n",
       "top_5          0.0  "
      ]
     },
     "metadata": {},
     "output_type": "display_data"
    },
    {
     "name": "stdout",
     "output_type": "stream",
     "text": [
      "None\n",
      "---------------------------------------------------------------------------\n",
      "---------------------------------------------------------------------------\n",
      "\n"
     ]
    }
   ],
   "source": [
    "## Data profiling compacted in function\n",
    "data_profiling_numeric(df, vars_num)"
   ]
  },
  {
   "cell_type": "markdown",
   "metadata": {},
   "source": [
    "### Categoric data profiling"
   ]
  },
  {
   "cell_type": "markdown",
   "metadata": {},
   "source": [
    "**Profiling: Variables categóricas**\n",
    "\n",
    "- [x] Número de categorías\n",
    "- [ ] Valor de las categorías\n",
    "- [ ] Moda\n",
    "- [ ] Valores faltantes\n",
    "- [ ] Número de observaciones con valores faltantes\n",
    "- [ ] Proporción de observaciones por categoría\n",
    "- [ ] Top 1, top 2, top 3 (moda 1, moda 2, moda 3)\n",
    "- [ ] Faltas de ortografía ?"
   ]
  },
  {
   "cell_type": "code",
   "execution_count": null,
   "metadata": {
    "ExecuteTime": {
     "end_time": "2020-09-23T00:44:28.812092Z",
     "start_time": "2020-09-23T00:44:28.806184Z"
    }
   },
   "outputs": [],
   "source": [
    "dfx = df.loc[:, cat_vars]"
   ]
  },
  {
   "cell_type": "code",
   "execution_count": null,
   "metadata": {
    "ExecuteTime": {
     "end_time": "2020-09-23T00:44:30.176888Z",
     "start_time": "2020-09-23T00:44:30.164767Z"
    },
    "scrolled": true
   },
   "outputs": [],
   "source": [
    "dfx"
   ]
  },
  {
   "cell_type": "markdown",
   "metadata": {},
   "source": [
    "**Número de categorías**"
   ]
  },
  {
   "cell_type": "code",
   "execution_count": null,
   "metadata": {
    "ExecuteTime": {
     "end_time": "2020-09-23T00:45:39.675310Z",
     "start_time": "2020-09-23T00:45:39.671655Z"
    }
   },
   "outputs": [],
   "source": [
    "u_vars_cat = {}\n",
    "for ent in u_vars:\n",
    "    if ent in cat_vars:\n",
    "        u_vars_cat[ent] = u_vars[ent]\n",
    "\n",
    "u_vars_cat"
   ]
  },
  {
   "cell_type": "markdown",
   "metadata": {},
   "source": [
    "**Valor de las categorías**"
   ]
  },
  {
   "cell_type": "code",
   "execution_count": null,
   "metadata": {},
   "outputs": [],
   "source": [
    "num_top_5[col] = dfx.groupby([col], as_index=False)[\"anio\"].count().rename(columns={\"anio\": \"Conteo\"}).sort_values(by=\"Conteo\", ascending=False).head(5)"
   ]
  },
  {
   "cell_type": "code",
   "execution_count": null,
   "metadata": {
    "ExecuteTime": {
     "end_time": "2020-09-23T00:52:40.588895Z",
     "start_time": "2020-09-23T00:52:40.565142Z"
    }
   },
   "outputs": [],
   "source": [
    "dfx.groupby([\"nomgeo\"], as_index=False).count()"
   ]
  },
  {
   "cell_type": "markdown",
   "metadata": {},
   "source": [
    "## Transformar el nombre de las columnas a formato estándar: minúsculas, sin espacios en blanco -cambiar por guiónes bajos-, sin signos de puntuación"
   ]
  },
  {
   "cell_type": "code",
   "execution_count": 19,
   "metadata": {
    "ExecuteTime": {
     "end_time": "2020-09-30T00:03:54.066972Z",
     "start_time": "2020-09-30T00:03:54.048686Z"
    },
    "scrolled": false
   },
   "outputs": [
    {
     "data": {
      "text/plain": [
       "['geo_point',\n",
       " 'geo_shape',\n",
       " 'consumo_total_mixto',\n",
       " 'anio',\n",
       " 'nomgeo',\n",
       " 'consumo_prom_dom',\n",
       " 'consumo_total_dom',\n",
       " 'alcaldia',\n",
       " 'colonia',\n",
       " 'consumo_prom_mixto',\n",
       " 'consumo_total',\n",
       " 'consumo_prom',\n",
       " 'consumo_prom_no_dom',\n",
       " 'bimestre',\n",
       " 'consumo_total_no_dom',\n",
       " 'gid',\n",
       " 'indice_des']"
      ]
     },
     "execution_count": 19,
     "metadata": {},
     "output_type": "execute_result"
    }
   ],
   "source": [
    "df = clean_col_names(df)\n",
    "list(df.columns)"
   ]
  },
  {
   "cell_type": "markdown",
   "metadata": {},
   "source": [
    "## Transformación de variables geoespaciales\n",
    "- Agregar la variable `latitud` y `longitud` generadas a partir de la column `geo_point`.\n",
    "- Pasar la variable `latitud` y `longitud` a numérica -si no la tomó como numérica-.\n",
    "- Eliminar la columna `geo_point` -una vez que creaste la variable `latitud` y `longitud`.\n",
    "- Eliminar la columna `geo_shape`.\n",
    "- Cambiar a minúsculas las columnas `alcaldía`, `colonia` e `indice_des`."
   ]
  },
  {
   "cell_type": "markdown",
   "metadata": {},
   "source": [
    "---\n",
    "---"
   ]
  }
 ],
 "metadata": {
  "kernelspec": {
   "display_name": "itam_intro_to_ds",
   "language": "python",
   "name": "itam_intro_to_ds"
  },
  "language_info": {
   "codemirror_mode": {
    "name": "ipython",
    "version": 3
   },
   "file_extension": ".py",
   "mimetype": "text/x-python",
   "name": "python",
   "nbconvert_exporter": "python",
   "pygments_lexer": "ipython3",
   "version": "3.7.4"
  }
 },
 "nbformat": 4,
 "nbformat_minor": 4
}
