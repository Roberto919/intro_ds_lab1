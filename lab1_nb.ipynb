{
 "cells": [
  {
   "cell_type": "markdown",
   "metadata": {},
   "source": [
    "# Laboratory 1\n",
    "- Author: Rob"
   ]
  },
  {
   "cell_type": "markdown",
   "metadata": {},
   "source": [
    "# Imports"
   ]
  },
  {
   "cell_type": "markdown",
   "metadata": {},
   "source": [
    "#### Python libraries"
   ]
  },
  {
   "cell_type": "code",
   "execution_count": 9,
   "metadata": {
    "ExecuteTime": {
     "end_time": "2020-09-25T18:51:56.575703Z",
     "start_time": "2020-09-25T18:51:56.557993Z"
    }
   },
   "outputs": [],
   "source": [
    "import sys\n",
    "\n",
    "import pandas as pd"
   ]
  },
  {
   "cell_type": "markdown",
   "metadata": {},
   "source": [
    "#### Acillary modules"
   ]
  },
  {
   "cell_type": "code",
   "execution_count": 10,
   "metadata": {
    "ExecuteTime": {
     "end_time": "2020-09-25T19:08:40.674399Z",
     "start_time": "2020-09-25T19:08:40.652417Z"
    }
   },
   "outputs": [
    {
     "name": "stdout",
     "output_type": "stream",
     "text": [
      "The autoreload extension is already loaded. To reload it, use:\n",
      "  %reload_ext autoreload\n"
     ]
    }
   ],
   "source": [
    "%load_ext autoreload\n",
    "%autoreload 2\n",
    "\n",
    "from utils.lab1_funcs import *"
   ]
  },
  {
   "cell_type": "markdown",
   "metadata": {},
   "source": [
    "# Loading data"
   ]
  },
  {
   "cell_type": "markdown",
   "metadata": {},
   "source": [
    "Data downloaded from -> https://datos.cdmx.gob.mx/explore/dataset/consumo-agua/export/"
   ]
  },
  {
   "cell_type": "code",
   "execution_count": 11,
   "metadata": {
    "ExecuteTime": {
     "end_time": "2020-09-25T18:51:58.026166Z",
     "start_time": "2020-09-25T18:51:56.596258Z"
    }
   },
   "outputs": [],
   "source": [
    "df = pd.read_csv(\"data/consumo-agua.csv\")"
   ]
  },
  {
   "cell_type": "code",
   "execution_count": 12,
   "metadata": {
    "ExecuteTime": {
     "end_time": "2020-09-25T18:51:58.070159Z",
     "start_time": "2020-09-25T18:51:58.028036Z"
    },
    "scrolled": true
   },
   "outputs": [
    {
     "data": {
      "text/html": [
       "<div>\n",
       "<style scoped>\n",
       "    .dataframe tbody tr th:only-of-type {\n",
       "        vertical-align: middle;\n",
       "    }\n",
       "\n",
       "    .dataframe tbody tr th {\n",
       "        vertical-align: top;\n",
       "    }\n",
       "\n",
       "    .dataframe thead th {\n",
       "        text-align: right;\n",
       "    }\n",
       "</style>\n",
       "<table border=\"1\" class=\"dataframe\">\n",
       "  <thead>\n",
       "    <tr style=\"text-align: right;\">\n",
       "      <th></th>\n",
       "      <th>Geo Point</th>\n",
       "      <th>Geo Shape</th>\n",
       "      <th>consumo_total_mixto</th>\n",
       "      <th>anio</th>\n",
       "      <th>nomgeo</th>\n",
       "      <th>consumo_prom_dom</th>\n",
       "      <th>consumo_total_dom</th>\n",
       "      <th>alcaldia</th>\n",
       "      <th>colonia</th>\n",
       "      <th>consumo_prom_mixto</th>\n",
       "      <th>consumo_total</th>\n",
       "      <th>consumo_prom</th>\n",
       "      <th>consumo_prom_no_dom</th>\n",
       "      <th>bimestre</th>\n",
       "      <th>consumo_total_no_dom</th>\n",
       "      <th>gid</th>\n",
       "      <th>indice_des</th>\n",
       "    </tr>\n",
       "  </thead>\n",
       "  <tbody>\n",
       "    <tr>\n",
       "      <th>0</th>\n",
       "      <td>19.4552601937,-99.1126617526</td>\n",
       "      <td>{\"type\": \"MultiPolygon\", \"coordinates\": [[[[-9...</td>\n",
       "      <td>159.72</td>\n",
       "      <td>2019</td>\n",
       "      <td>Gustavo A. Madero</td>\n",
       "      <td>42.566364</td>\n",
       "      <td>468.23</td>\n",
       "      <td>GUSTAVO A. MADERO</td>\n",
       "      <td>7 DE NOVIEMBRE</td>\n",
       "      <td>53.240000</td>\n",
       "      <td>631.00</td>\n",
       "      <td>42.066667</td>\n",
       "      <td>3.050000</td>\n",
       "      <td>3</td>\n",
       "      <td>3.05</td>\n",
       "      <td>57250</td>\n",
       "      <td>ALTO</td>\n",
       "    </tr>\n",
       "    <tr>\n",
       "      <th>1</th>\n",
       "      <td>19.4552601937,-99.1126617526</td>\n",
       "      <td>{\"type\": \"MultiPolygon\", \"coordinates\": [[[[-9...</td>\n",
       "      <td>0.00</td>\n",
       "      <td>2019</td>\n",
       "      <td>Gustavo A. Madero</td>\n",
       "      <td>35.936667</td>\n",
       "      <td>107.81</td>\n",
       "      <td>GUSTAVO A. MADERO</td>\n",
       "      <td>7 DE NOVIEMBRE</td>\n",
       "      <td>0.000000</td>\n",
       "      <td>115.13</td>\n",
       "      <td>28.782500</td>\n",
       "      <td>7.320000</td>\n",
       "      <td>3</td>\n",
       "      <td>7.32</td>\n",
       "      <td>57253</td>\n",
       "      <td>MEDIO</td>\n",
       "    </tr>\n",
       "    <tr>\n",
       "      <th>2</th>\n",
       "      <td>19.4557195871,-99.1135822797</td>\n",
       "      <td>{\"type\": \"MultiPolygon\", \"coordinates\": [[[[-9...</td>\n",
       "      <td>0.00</td>\n",
       "      <td>2019</td>\n",
       "      <td>Gustavo A. Madero</td>\n",
       "      <td>24.586000</td>\n",
       "      <td>122.93</td>\n",
       "      <td>GUSTAVO A. MADERO</td>\n",
       "      <td>7 DE NOVIEMBRE</td>\n",
       "      <td>0.000000</td>\n",
       "      <td>197.96</td>\n",
       "      <td>32.993333</td>\n",
       "      <td>75.030000</td>\n",
       "      <td>3</td>\n",
       "      <td>75.03</td>\n",
       "      <td>57255</td>\n",
       "      <td>POPULAR</td>\n",
       "    </tr>\n",
       "    <tr>\n",
       "      <th>3</th>\n",
       "      <td>19.4596467168,-99.1044693641</td>\n",
       "      <td>{\"type\": \"MultiPolygon\", \"coordinates\": [[[[-9...</td>\n",
       "      <td>0.00</td>\n",
       "      <td>2019</td>\n",
       "      <td>Gustavo A. Madero</td>\n",
       "      <td>0.000000</td>\n",
       "      <td>0.00</td>\n",
       "      <td>GUSTAVO A. MADERO</td>\n",
       "      <td>NUEVA TENOCHTITLAN</td>\n",
       "      <td>0.000000</td>\n",
       "      <td>253.53</td>\n",
       "      <td>84.510000</td>\n",
       "      <td>84.510000</td>\n",
       "      <td>3</td>\n",
       "      <td>253.53</td>\n",
       "      <td>57267</td>\n",
       "      <td>BAJO</td>\n",
       "    </tr>\n",
       "    <tr>\n",
       "      <th>4</th>\n",
       "      <td>19.4741606185,-99.1467497317</td>\n",
       "      <td>{\"type\": \"MultiPolygon\", \"coordinates\": [[[[-9...</td>\n",
       "      <td>56.72</td>\n",
       "      <td>2019</td>\n",
       "      <td>Azcapotzalco</td>\n",
       "      <td>67.436250</td>\n",
       "      <td>539.49</td>\n",
       "      <td>AZCAPOTZALCO</td>\n",
       "      <td>PROHOGAR</td>\n",
       "      <td>56.720000</td>\n",
       "      <td>839.35</td>\n",
       "      <td>76.304545</td>\n",
       "      <td>121.570000</td>\n",
       "      <td>3</td>\n",
       "      <td>243.14</td>\n",
       "      <td>57330</td>\n",
       "      <td>BAJO</td>\n",
       "    </tr>\n",
       "    <tr>\n",
       "      <th>...</th>\n",
       "      <td>...</td>\n",
       "      <td>...</td>\n",
       "      <td>...</td>\n",
       "      <td>...</td>\n",
       "      <td>...</td>\n",
       "      <td>...</td>\n",
       "      <td>...</td>\n",
       "      <td>...</td>\n",
       "      <td>...</td>\n",
       "      <td>...</td>\n",
       "      <td>...</td>\n",
       "      <td>...</td>\n",
       "      <td>...</td>\n",
       "      <td>...</td>\n",
       "      <td>...</td>\n",
       "      <td>...</td>\n",
       "      <td>...</td>\n",
       "    </tr>\n",
       "    <tr>\n",
       "      <th>71097</th>\n",
       "      <td>19.4500791776,-99.1444346928</td>\n",
       "      <td>{\"type\": \"MultiPolygon\", \"coordinates\": [[[[-9...</td>\n",
       "      <td>359.88</td>\n",
       "      <td>2019</td>\n",
       "      <td>Cuauhtémoc</td>\n",
       "      <td>282.152488</td>\n",
       "      <td>1128.61</td>\n",
       "      <td>CUAUHTEMOC</td>\n",
       "      <td>GUERRERO</td>\n",
       "      <td>179.940002</td>\n",
       "      <td>1509.15</td>\n",
       "      <td>167.683328</td>\n",
       "      <td>6.886667</td>\n",
       "      <td>1</td>\n",
       "      <td>20.66</td>\n",
       "      <td>236</td>\n",
       "      <td>BAJO</td>\n",
       "    </tr>\n",
       "    <tr>\n",
       "      <th>71098</th>\n",
       "      <td>19.4482098669,-99.1448511226</td>\n",
       "      <td>{\"type\": \"MultiPolygon\", \"coordinates\": [[[[-9...</td>\n",
       "      <td>401.32</td>\n",
       "      <td>2019</td>\n",
       "      <td>Cuauhtémoc</td>\n",
       "      <td>25.021442</td>\n",
       "      <td>2777.38</td>\n",
       "      <td>CUAUHTEMOC</td>\n",
       "      <td>GUERRERO</td>\n",
       "      <td>100.330000</td>\n",
       "      <td>3318.63</td>\n",
       "      <td>27.426694</td>\n",
       "      <td>23.321667</td>\n",
       "      <td>1</td>\n",
       "      <td>139.93</td>\n",
       "      <td>240</td>\n",
       "      <td>BAJO</td>\n",
       "    </tr>\n",
       "    <tr>\n",
       "      <th>71099</th>\n",
       "      <td>19.4478256923,-99.1438192391</td>\n",
       "      <td>{\"type\": \"MultiPolygon\", \"coordinates\": [[[[-9...</td>\n",
       "      <td>142.25</td>\n",
       "      <td>2019</td>\n",
       "      <td>Cuauhtémoc</td>\n",
       "      <td>27.043654</td>\n",
       "      <td>1406.27</td>\n",
       "      <td>CUAUHTEMOC</td>\n",
       "      <td>GUERRERO</td>\n",
       "      <td>28.450001</td>\n",
       "      <td>1586.61</td>\n",
       "      <td>25.590484</td>\n",
       "      <td>7.618000</td>\n",
       "      <td>1</td>\n",
       "      <td>38.09</td>\n",
       "      <td>241</td>\n",
       "      <td>POPULAR</td>\n",
       "    </tr>\n",
       "    <tr>\n",
       "      <th>71100</th>\n",
       "      <td>19.4481867455,-99.1423923136</td>\n",
       "      <td>{\"type\": \"MultiPolygon\", \"coordinates\": [[[[-9...</td>\n",
       "      <td>31.42</td>\n",
       "      <td>2019</td>\n",
       "      <td>Cuauhtémoc</td>\n",
       "      <td>18.601529</td>\n",
       "      <td>3162.26</td>\n",
       "      <td>CUAUHTEMOC</td>\n",
       "      <td>GUERRERO</td>\n",
       "      <td>15.710001</td>\n",
       "      <td>3250.39</td>\n",
       "      <td>18.260618</td>\n",
       "      <td>9.451667</td>\n",
       "      <td>1</td>\n",
       "      <td>56.71</td>\n",
       "      <td>243</td>\n",
       "      <td>BAJO</td>\n",
       "    </tr>\n",
       "    <tr>\n",
       "      <th>71101</th>\n",
       "      <td>19.4476825269,-99.1411930304</td>\n",
       "      <td>{\"type\": \"MultiPolygon\", \"coordinates\": [[[[-9...</td>\n",
       "      <td>976.12</td>\n",
       "      <td>2019</td>\n",
       "      <td>Cuauhtémoc</td>\n",
       "      <td>23.949699</td>\n",
       "      <td>8765.60</td>\n",
       "      <td>CUAUHTEMOC</td>\n",
       "      <td>GUERRERO</td>\n",
       "      <td>162.686669</td>\n",
       "      <td>9858.46</td>\n",
       "      <td>26.011741</td>\n",
       "      <td>16.677143</td>\n",
       "      <td>1</td>\n",
       "      <td>116.74</td>\n",
       "      <td>246</td>\n",
       "      <td>BAJO</td>\n",
       "    </tr>\n",
       "  </tbody>\n",
       "</table>\n",
       "<p>71102 rows × 17 columns</p>\n",
       "</div>"
      ],
      "text/plain": [
       "                          Geo Point  \\\n",
       "0      19.4552601937,-99.1126617526   \n",
       "1      19.4552601937,-99.1126617526   \n",
       "2      19.4557195871,-99.1135822797   \n",
       "3      19.4596467168,-99.1044693641   \n",
       "4      19.4741606185,-99.1467497317   \n",
       "...                             ...   \n",
       "71097  19.4500791776,-99.1444346928   \n",
       "71098  19.4482098669,-99.1448511226   \n",
       "71099  19.4478256923,-99.1438192391   \n",
       "71100  19.4481867455,-99.1423923136   \n",
       "71101  19.4476825269,-99.1411930304   \n",
       "\n",
       "                                               Geo Shape  consumo_total_mixto  \\\n",
       "0      {\"type\": \"MultiPolygon\", \"coordinates\": [[[[-9...               159.72   \n",
       "1      {\"type\": \"MultiPolygon\", \"coordinates\": [[[[-9...                 0.00   \n",
       "2      {\"type\": \"MultiPolygon\", \"coordinates\": [[[[-9...                 0.00   \n",
       "3      {\"type\": \"MultiPolygon\", \"coordinates\": [[[[-9...                 0.00   \n",
       "4      {\"type\": \"MultiPolygon\", \"coordinates\": [[[[-9...                56.72   \n",
       "...                                                  ...                  ...   \n",
       "71097  {\"type\": \"MultiPolygon\", \"coordinates\": [[[[-9...               359.88   \n",
       "71098  {\"type\": \"MultiPolygon\", \"coordinates\": [[[[-9...               401.32   \n",
       "71099  {\"type\": \"MultiPolygon\", \"coordinates\": [[[[-9...               142.25   \n",
       "71100  {\"type\": \"MultiPolygon\", \"coordinates\": [[[[-9...                31.42   \n",
       "71101  {\"type\": \"MultiPolygon\", \"coordinates\": [[[[-9...               976.12   \n",
       "\n",
       "       anio             nomgeo  consumo_prom_dom  consumo_total_dom  \\\n",
       "0      2019  Gustavo A. Madero         42.566364             468.23   \n",
       "1      2019  Gustavo A. Madero         35.936667             107.81   \n",
       "2      2019  Gustavo A. Madero         24.586000             122.93   \n",
       "3      2019  Gustavo A. Madero          0.000000               0.00   \n",
       "4      2019       Azcapotzalco         67.436250             539.49   \n",
       "...     ...                ...               ...                ...   \n",
       "71097  2019         Cuauhtémoc        282.152488            1128.61   \n",
       "71098  2019         Cuauhtémoc         25.021442            2777.38   \n",
       "71099  2019         Cuauhtémoc         27.043654            1406.27   \n",
       "71100  2019         Cuauhtémoc         18.601529            3162.26   \n",
       "71101  2019         Cuauhtémoc         23.949699            8765.60   \n",
       "\n",
       "                alcaldia             colonia  consumo_prom_mixto  \\\n",
       "0      GUSTAVO A. MADERO      7 DE NOVIEMBRE           53.240000   \n",
       "1      GUSTAVO A. MADERO      7 DE NOVIEMBRE            0.000000   \n",
       "2      GUSTAVO A. MADERO      7 DE NOVIEMBRE            0.000000   \n",
       "3      GUSTAVO A. MADERO  NUEVA TENOCHTITLAN            0.000000   \n",
       "4           AZCAPOTZALCO            PROHOGAR           56.720000   \n",
       "...                  ...                 ...                 ...   \n",
       "71097         CUAUHTEMOC            GUERRERO          179.940002   \n",
       "71098         CUAUHTEMOC            GUERRERO          100.330000   \n",
       "71099         CUAUHTEMOC            GUERRERO           28.450001   \n",
       "71100         CUAUHTEMOC            GUERRERO           15.710001   \n",
       "71101         CUAUHTEMOC            GUERRERO          162.686669   \n",
       "\n",
       "       consumo_total  consumo_prom  consumo_prom_no_dom  bimestre  \\\n",
       "0             631.00     42.066667             3.050000         3   \n",
       "1             115.13     28.782500             7.320000         3   \n",
       "2             197.96     32.993333            75.030000         3   \n",
       "3             253.53     84.510000            84.510000         3   \n",
       "4             839.35     76.304545           121.570000         3   \n",
       "...              ...           ...                  ...       ...   \n",
       "71097        1509.15    167.683328             6.886667         1   \n",
       "71098        3318.63     27.426694            23.321667         1   \n",
       "71099        1586.61     25.590484             7.618000         1   \n",
       "71100        3250.39     18.260618             9.451667         1   \n",
       "71101        9858.46     26.011741            16.677143         1   \n",
       "\n",
       "       consumo_total_no_dom    gid indice_des  \n",
       "0                      3.05  57250       ALTO  \n",
       "1                      7.32  57253      MEDIO  \n",
       "2                     75.03  57255    POPULAR  \n",
       "3                    253.53  57267       BAJO  \n",
       "4                    243.14  57330       BAJO  \n",
       "...                     ...    ...        ...  \n",
       "71097                 20.66    236       BAJO  \n",
       "71098                139.93    240       BAJO  \n",
       "71099                 38.09    241    POPULAR  \n",
       "71100                 56.71    243       BAJO  \n",
       "71101                116.74    246       BAJO  \n",
       "\n",
       "[71102 rows x 17 columns]"
      ]
     },
     "execution_count": 12,
     "metadata": {},
     "output_type": "execute_result"
    }
   ],
   "source": [
    "df"
   ]
  },
  {
   "cell_type": "markdown",
   "metadata": {},
   "source": [
    "# Data profiling"
   ]
  },
  {
   "cell_type": "markdown",
   "metadata": {},
   "source": [
    "## ¿Cuántas variables tenemos?"
   ]
  },
  {
   "cell_type": "code",
   "execution_count": 13,
   "metadata": {
    "ExecuteTime": {
     "end_time": "2020-09-25T18:51:58.087242Z",
     "start_time": "2020-09-25T18:51:58.071785Z"
    }
   },
   "outputs": [
    {
     "name": "stdout",
     "output_type": "stream",
     "text": [
      "Número de variables en los datos --> 17\n"
     ]
    }
   ],
   "source": [
    "count_vars(df)"
   ]
  },
  {
   "cell_type": "markdown",
   "metadata": {},
   "source": [
    "## ¿Cuántas observaciones tenemos?"
   ]
  },
  {
   "cell_type": "code",
   "execution_count": 14,
   "metadata": {
    "ExecuteTime": {
     "end_time": "2020-09-25T18:51:58.104549Z",
     "start_time": "2020-09-25T18:51:58.088988Z"
    }
   },
   "outputs": [
    {
     "name": "stdout",
     "output_type": "stream",
     "text": [
      "Número de observaciones en los datos --> 71102\n"
     ]
    }
   ],
   "source": [
    "count_obs(df)"
   ]
  },
  {
   "cell_type": "markdown",
   "metadata": {},
   "source": [
    "## ¿Cuántas observaciones únicas tenemos por variable?"
   ]
  },
  {
   "cell_type": "markdown",
   "metadata": {},
   "source": [
    "El número de observaciones únicas para todas las variables son:"
   ]
  },
  {
   "cell_type": "code",
   "execution_count": 15,
   "metadata": {
    "ExecuteTime": {
     "end_time": "2020-09-23T00:56:11.981581Z",
     "start_time": "2020-09-23T00:56:11.902047Z"
    }
   },
   "outputs": [
    {
     "data": {
      "text/plain": [
       "Geo Point               22930\n",
       "Geo Shape               22922\n",
       "consumo_total_mixto     24339\n",
       "anio                        1\n",
       "nomgeo                     17\n",
       "consumo_prom_dom        52060\n",
       "consumo_total_dom       47051\n",
       "alcaldia                   16\n",
       "colonia                  1340\n",
       "consumo_prom_mixto      31911\n",
       "consumo_total           56015\n",
       "consumo_prom            62214\n",
       "consumo_prom_no_dom     37440\n",
       "bimestre                    3\n",
       "consumo_total_no_dom    27336\n",
       "gid                     71102\n",
       "indice_des                  4\n",
       "dtype: int64"
      ]
     },
     "execution_count": 15,
     "metadata": {},
     "output_type": "execute_result"
    }
   ],
   "source": [
    "df.nunique()"
   ]
  },
  {
   "cell_type": "markdown",
   "metadata": {},
   "source": [
    "## ¿Cuántas variables numéricas tenemos?"
   ]
  },
  {
   "cell_type": "markdown",
   "metadata": {},
   "source": [
    "Tenemos 8 variables numéricas"
   ]
  },
  {
   "cell_type": "code",
   "execution_count": 16,
   "metadata": {
    "ExecuteTime": {
     "end_time": "2020-09-25T19:08:45.249333Z",
     "start_time": "2020-09-25T19:08:45.235871Z"
    }
   },
   "outputs": [],
   "source": [
    "vars_num = [\n",
    "    \"consumo_total_mixto\",\n",
    "    \"anio\", ## Puede ser también de fecha\n",
    "    \"consumo_prom_dom\",\n",
    "    \"consumo_total_dom\",\n",
    "    \"consumo_prom_mixto\",\n",
    "    \"consumo_total\",\n",
    "    \"consumo_prom\",\n",
    "    \"bimestre\", ## Puede ser categórica ordinal\n",
    "    \"consumo_prom_no_dom\",\n",
    "    \"gid\"\n",
    "]"
   ]
  },
  {
   "cell_type": "code",
   "execution_count": 17,
   "metadata": {
    "ExecuteTime": {
     "end_time": "2020-09-25T19:08:45.962668Z",
     "start_time": "2020-09-25T19:08:45.948795Z"
    }
   },
   "outputs": [
    {
     "name": "stdout",
     "output_type": "stream",
     "text": [
      "Número de variables numéricas --> 10\n",
      "Las variables numéricas son: \n",
      "['consumo_total_mixto', 'anio', 'consumo_prom_dom', 'consumo_total_dom', 'consumo_prom_mixto', 'consumo_total', 'consumo_prom', 'bimestre', 'consumo_prom_no_dom', 'gid']\n"
     ]
    }
   ],
   "source": [
    "count_num_vars(vars_num)"
   ]
  },
  {
   "cell_type": "markdown",
   "metadata": {},
   "source": [
    "## ¿Cuántas variables de fecha tenemos?"
   ]
  },
  {
   "cell_type": "code",
   "execution_count": 18,
   "metadata": {
    "ExecuteTime": {
     "end_time": "2020-09-23T00:12:42.007363Z",
     "start_time": "2020-09-23T00:12:42.005076Z"
    }
   },
   "outputs": [],
   "source": [
    "date_vars = [\n",
    "    \"anio\", ## Puede ser también de fecha\n",
    "]"
   ]
  },
  {
   "cell_type": "code",
   "execution_count": 19,
   "metadata": {
    "ExecuteTime": {
     "end_time": "2020-09-23T00:58:23.111013Z",
     "start_time": "2020-09-23T00:58:23.108152Z"
    }
   },
   "outputs": [
    {
     "name": "stdout",
     "output_type": "stream",
     "text": [
      "Tenemos un total de 1 variable(s) de fecha\n"
     ]
    }
   ],
   "source": [
    "print(f\"Tenemos un total de {len(date_vars)} variable(s) de fecha\")"
   ]
  },
  {
   "cell_type": "markdown",
   "metadata": {},
   "source": [
    "## ¿Cuántas variables categóricas tenemos?"
   ]
  },
  {
   "cell_type": "code",
   "execution_count": 20,
   "metadata": {
    "ExecuteTime": {
     "end_time": "2020-09-23T00:14:17.595449Z",
     "start_time": "2020-09-23T00:14:17.593079Z"
    }
   },
   "outputs": [],
   "source": [
    "cat_vars = [\n",
    "    \"anio\",\n",
    "    \"nomgeo\",\n",
    "    \"alcaldia\",\n",
    "    \"colonia\",\n",
    "    \"bimestre\",\n",
    "    \"indice_des\",\n",
    "]"
   ]
  },
  {
   "cell_type": "code",
   "execution_count": 21,
   "metadata": {
    "ExecuteTime": {
     "end_time": "2020-09-23T00:58:41.842558Z",
     "start_time": "2020-09-23T00:58:41.839477Z"
    }
   },
   "outputs": [
    {
     "name": "stdout",
     "output_type": "stream",
     "text": [
      "Tenemos un total de 6 variables categóricas\n"
     ]
    }
   ],
   "source": [
    "print(f\"Tenemos un total de {len(cat_vars)} variables categóricas\")"
   ]
  },
  {
   "cell_type": "markdown",
   "metadata": {},
   "source": [
    "## ¿Cuántas variables de texto tenemos?"
   ]
  },
  {
   "cell_type": "code",
   "execution_count": 22,
   "metadata": {
    "ExecuteTime": {
     "end_time": "2020-09-23T00:16:29.494646Z",
     "start_time": "2020-09-23T00:16:29.492033Z"
    }
   },
   "outputs": [],
   "source": [
    "txt_vars = [\n",
    "    \"nomgeo\",\n",
    "    \"alcaldia\",\n",
    "    \"colonia\",\n",
    "    \"indice_des\",\n",
    "]"
   ]
  },
  {
   "cell_type": "code",
   "execution_count": 23,
   "metadata": {
    "ExecuteTime": {
     "end_time": "2020-09-23T00:59:19.319191Z",
     "start_time": "2020-09-23T00:59:19.316291Z"
    }
   },
   "outputs": [
    {
     "name": "stdout",
     "output_type": "stream",
     "text": [
      "Tenemos un total de 4 variables de text\n"
     ]
    }
   ],
   "source": [
    "print(f\"Tenemos un total de {len(txt_vars)} variables de text\")"
   ]
  },
  {
   "cell_type": "markdown",
   "metadata": {
    "heading_collapsed": true
   },
   "source": [
    "## Generea el profiling de cada variable"
   ]
  },
  {
   "cell_type": "markdown",
   "metadata": {
    "hidden": true
   },
   "source": [
    "**Profiling: variables numéricas**"
   ]
  },
  {
   "cell_type": "markdown",
   "metadata": {
    "hidden": true
   },
   "source": [
    "- [x] Tipo de dato: float, integer\n",
    "- [x] Número de observaciones\n",
    "- [x] Mean\n",
    "- [x] Desviación estándar\n",
    "- [x] Cuartiles: 25%, 50%, 75%\n",
    "- [x] Valor máximo\n",
    "- [x] Valor mínimo\n",
    "- [x] Número de observaciones únicos\n",
    "- [x] Top 5 observaciones repetidas\n",
    "- [x] Número de observaciones con valores faltantes\n",
    "- [ ] ¿Hay redondeos?"
   ]
  },
  {
   "cell_type": "code",
   "execution_count": 24,
   "metadata": {
    "ExecuteTime": {
     "end_time": "2020-09-23T01:00:50.174437Z",
     "start_time": "2020-09-23T01:00:50.168781Z"
    },
    "hidden": true
   },
   "outputs": [
    {
     "ename": "NameError",
     "evalue": "name 'num_vars' is not defined",
     "output_type": "error",
     "traceback": [
      "\u001b[0;31m---------------------------------------------------------------------------\u001b[0m",
      "\u001b[0;31mNameError\u001b[0m                                 Traceback (most recent call last)",
      "\u001b[0;32m<ipython-input-24-656439f18db6>\u001b[0m in \u001b[0;36m<module>\u001b[0;34m\u001b[0m\n\u001b[0;32m----> 1\u001b[0;31m \u001b[0mdfx\u001b[0m \u001b[0;34m=\u001b[0m \u001b[0mdf\u001b[0m\u001b[0;34m.\u001b[0m\u001b[0mloc\u001b[0m\u001b[0;34m[\u001b[0m\u001b[0;34m:\u001b[0m\u001b[0;34m,\u001b[0m \u001b[0mnum_vars\u001b[0m\u001b[0;34m]\u001b[0m\u001b[0;34m\u001b[0m\u001b[0;34m\u001b[0m\u001b[0m\n\u001b[0m",
      "\u001b[0;31mNameError\u001b[0m: name 'num_vars' is not defined"
     ]
    }
   ],
   "source": [
    "dfx = df.loc[:, num_vars]"
   ]
  },
  {
   "cell_type": "code",
   "execution_count": 25,
   "metadata": {
    "ExecuteTime": {
     "end_time": "2020-09-23T01:00:50.192694Z",
     "start_time": "2020-09-23T01:00:50.176178Z"
    },
    "hidden": true
   },
   "outputs": [
    {
     "ename": "NameError",
     "evalue": "name 'dfx' is not defined",
     "output_type": "error",
     "traceback": [
      "\u001b[0;31m---------------------------------------------------------------------------\u001b[0m",
      "\u001b[0;31mNameError\u001b[0m                                 Traceback (most recent call last)",
      "\u001b[0;32m<ipython-input-25-936f801981b0>\u001b[0m in \u001b[0;36m<module>\u001b[0;34m\u001b[0m\n\u001b[0;32m----> 1\u001b[0;31m \u001b[0mdfx\u001b[0m\u001b[0;34m\u001b[0m\u001b[0;34m\u001b[0m\u001b[0m\n\u001b[0m",
      "\u001b[0;31mNameError\u001b[0m: name 'dfx' is not defined"
     ]
    }
   ],
   "source": [
    "dfx"
   ]
  },
  {
   "cell_type": "markdown",
   "metadata": {
    "hidden": true
   },
   "source": [
    "**Descripción de los datos**"
   ]
  },
  {
   "cell_type": "code",
   "execution_count": null,
   "metadata": {
    "ExecuteTime": {
     "end_time": "2020-09-23T01:00:50.255182Z",
     "start_time": "2020-09-23T01:00:50.194772Z"
    },
    "hidden": true
   },
   "outputs": [],
   "source": [
    "dfx.describe()"
   ]
  },
  {
   "cell_type": "markdown",
   "metadata": {
    "hidden": true
   },
   "source": [
    "**Conteo de variables numéricas únicas**"
   ]
  },
  {
   "cell_type": "code",
   "execution_count": null,
   "metadata": {
    "ExecuteTime": {
     "end_time": "2020-09-23T01:00:50.262283Z",
     "start_time": "2020-09-23T01:00:50.257602Z"
    },
    "hidden": true
   },
   "outputs": [],
   "source": [
    "u_vars_num = {}\n",
    "for ent in u_vars:\n",
    "    if ent in num_vars:\n",
    "        u_vars_num[ent] = u_vars[ent]\n",
    "\n",
    "u_vars_num"
   ]
  },
  {
   "cell_type": "code",
   "execution_count": null,
   "metadata": {
    "ExecuteTime": {
     "end_time": "2020-09-23T01:00:56.460845Z",
     "start_time": "2020-09-23T01:00:56.437385Z"
    },
    "hidden": true
   },
   "outputs": [],
   "source": [
    "dfx.nunique()"
   ]
  },
  {
   "cell_type": "markdown",
   "metadata": {
    "hidden": true
   },
   "source": [
    "**Top 5 observaciones repetidas**"
   ]
  },
  {
   "cell_type": "code",
   "execution_count": null,
   "metadata": {
    "ExecuteTime": {
     "end_time": "2020-09-23T00:36:56.748577Z",
     "start_time": "2020-09-23T00:36:56.745285Z"
    },
    "hidden": true
   },
   "outputs": [],
   "source": [
    "def top_5(col):\n",
    "    num_top_5[col] = dfx.groupby([col], as_index=False)[\"anio\"].count().rename(columns={\"anio\": \"Conteo\"}).sort_values(by=\"Conteo\", ascending=False).head(5)"
   ]
  },
  {
   "cell_type": "code",
   "execution_count": null,
   "metadata": {
    "ExecuteTime": {
     "end_time": "2020-09-23T00:36:56.069702Z",
     "start_time": "2020-09-23T00:36:55.949721Z"
    },
    "hidden": true
   },
   "outputs": [],
   "source": [
    "num_top_5 = {}\n",
    "for col in num_vars:\n",
    "    top_5(col)"
   ]
  },
  {
   "cell_type": "code",
   "execution_count": null,
   "metadata": {
    "ExecuteTime": {
     "end_time": "2020-09-23T00:37:10.268083Z",
     "start_time": "2020-09-23T00:37:10.264698Z"
    },
    "hidden": true
   },
   "outputs": [],
   "source": [
    "num_vars"
   ]
  },
  {
   "cell_type": "code",
   "execution_count": null,
   "metadata": {
    "ExecuteTime": {
     "end_time": "2020-09-23T00:38:36.590295Z",
     "start_time": "2020-09-23T00:38:36.584266Z"
    },
    "hidden": true
   },
   "outputs": [],
   "source": [
    "num_top_5[\"bimestre\"]"
   ]
  },
  {
   "cell_type": "markdown",
   "metadata": {
    "hidden": true
   },
   "source": [
    "**Tipo de dato: float, integer**"
   ]
  },
  {
   "cell_type": "markdown",
   "metadata": {
    "hidden": true
   },
   "source": [
    "**Número de observaciones con valores faltantes**"
   ]
  },
  {
   "cell_type": "code",
   "execution_count": null,
   "metadata": {
    "ExecuteTime": {
     "end_time": "2020-09-23T00:41:23.940561Z",
     "start_time": "2020-09-23T00:41:23.934808Z"
    },
    "hidden": true
   },
   "outputs": [],
   "source": [
    "dfx.isnull().sum()"
   ]
  },
  {
   "cell_type": "markdown",
   "metadata": {
    "hidden": true
   },
   "source": [
    "**¿Hay redondeos?**"
   ]
  },
  {
   "cell_type": "code",
   "execution_count": null,
   "metadata": {
    "ExecuteTime": {
     "end_time": "2020-09-23T00:44:28.812092Z",
     "start_time": "2020-09-23T00:44:28.806184Z"
    },
    "hidden": true
   },
   "outputs": [],
   "source": [
    "dfx = df.loc[:, cat_vars]"
   ]
  },
  {
   "cell_type": "code",
   "execution_count": null,
   "metadata": {
    "ExecuteTime": {
     "end_time": "2020-09-23T00:44:30.176888Z",
     "start_time": "2020-09-23T00:44:30.164767Z"
    },
    "hidden": true,
    "scrolled": true
   },
   "outputs": [],
   "source": [
    "dfx"
   ]
  },
  {
   "cell_type": "markdown",
   "metadata": {
    "hidden": true
   },
   "source": [
    "**Número de categorías**"
   ]
  },
  {
   "cell_type": "code",
   "execution_count": null,
   "metadata": {
    "ExecuteTime": {
     "end_time": "2020-09-23T00:45:39.675310Z",
     "start_time": "2020-09-23T00:45:39.671655Z"
    },
    "hidden": true
   },
   "outputs": [],
   "source": [
    "u_vars_cat = {}\n",
    "for ent in u_vars:\n",
    "    if ent in cat_vars:\n",
    "        u_vars_cat[ent] = u_vars[ent]\n",
    "\n",
    "u_vars_cat"
   ]
  },
  {
   "cell_type": "markdown",
   "metadata": {
    "hidden": true
   },
   "source": [
    "**Valor de las categorías**"
   ]
  },
  {
   "cell_type": "code",
   "execution_count": null,
   "metadata": {
    "hidden": true
   },
   "outputs": [],
   "source": [
    "num_top_5[col] = dfx.groupby([col], as_index=False)[\"anio\"].count().rename(columns={\"anio\": \"Conteo\"}).sort_values(by=\"Conteo\", ascending=False).head(5)"
   ]
  },
  {
   "cell_type": "code",
   "execution_count": null,
   "metadata": {
    "ExecuteTime": {
     "end_time": "2020-09-23T00:52:40.588895Z",
     "start_time": "2020-09-23T00:52:40.565142Z"
    },
    "hidden": true
   },
   "outputs": [],
   "source": [
    "dfx.groupby([\"nomgeo\"], as_index=False).count()"
   ]
  },
  {
   "cell_type": "markdown",
   "metadata": {
    "hidden": true
   },
   "source": [
    "**Profiling: Variables categóricas**\n",
    "\n",
    "- [x] Número de categorías\n",
    "- [ ] Valor de las categorías\n",
    "- [ ] Moda\n",
    "- [ ] Valores faltantes\n",
    "- [ ] Número de observaciones con valores faltantes\n",
    "- [ ] Proporción de observaciones por categoría\n",
    "- [ ] Top 1, top 2, top 3 (moda 1, moda 2, moda 3)\n",
    "- [ ] Faltas de ortografía ?"
   ]
  },
  {
   "cell_type": "markdown",
   "metadata": {},
   "source": [
    "## Transformar el nombre de las columnas a formato estándar: minúsculas, sin espacios en blanco -cambiar por guiónes bajos-, sin signos de puntuación"
   ]
  },
  {
   "cell_type": "code",
   "execution_count": null,
   "metadata": {},
   "outputs": [],
   "source": []
  },
  {
   "cell_type": "markdown",
   "metadata": {},
   "source": [
    "## Transformación de variables geoespaciales\n",
    "- Agregar la variable `latitud` y `longitud` generadas a partir de la column `geo_point`.\n",
    "- Pasar la variable `latitud` y `longitud` a numérica -si no la tomó como numérica-.\n",
    "- Eliminar la columna `geo_point` -una vez que creaste la variable `latitud` y `longitud`.\n",
    "- Eliminar la columna `geo_shape`.\n",
    "- Cambiar a minúsculas las columnas `alcaldía`, `colonia` e `indice_des`."
   ]
  },
  {
   "cell_type": "markdown",
   "metadata": {},
   "source": [
    "---\n",
    "---"
   ]
  }
 ],
 "metadata": {
  "kernelspec": {
   "display_name": "Python 3",
   "language": "python",
   "name": "python3"
  },
  "language_info": {
   "codemirror_mode": {
    "name": "ipython",
    "version": 3
   },
   "file_extension": ".py",
   "mimetype": "text/x-python",
   "name": "python",
   "nbconvert_exporter": "python",
   "pygments_lexer": "ipython3",
   "version": "3.6.9"
  }
 },
 "nbformat": 4,
 "nbformat_minor": 4
}
